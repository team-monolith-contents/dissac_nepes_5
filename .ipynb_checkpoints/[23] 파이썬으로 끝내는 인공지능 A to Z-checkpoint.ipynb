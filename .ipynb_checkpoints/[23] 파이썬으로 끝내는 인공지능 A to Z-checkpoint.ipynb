{
 "cells": [
  {
   "cell_type": "markdown",
   "id": "3c5c393a-5b72-4c51-86dc-e59321eb85c6",
   "metadata": {
    "tags": []
   },
   "source": [
    "<div style=\"padding: 15px; border: 5px solid transparent; border-color: transparent; margin-bottom: 20px; border-radius: 4px; color: #3c763d; background-color: #dff0d8; border-color: #d6e9c6; font-weight: bold;\">\n",
    "    <br><br>\n",
    "    <div style=\"font-weight: bold; font-size: 40px\">파이썬으로 끝내는 인공지능 A to Z</div>\n",
    "    <div style=\"font-weight: bold; font-size: 20px\">[23] 인간과 함께하는 인공지능</div>\n",
    "    <hr style=\"width:80%;text-align:left;margin-left:0;border:0.5px solid green\">\n",
    "    <br>\n",
    "    &#x2022; 인공지능 활용에서 소외되는 사회 구성원을 알고 인공지능 활용에서 소외되지 않기 위한 방안을 제시할 수 있다.<br>\n",
    "    &#x2022; 인간이 인공지능을 효율적으로 활용하며 조화롭게 살아가기 위하여 인간에게 필요한 역량을 탐색할 수 있다.<br>\n",
    "</div>"
   ]
  },
  {
   "cell_type": "markdown",
   "id": "9ff4d6cd-13ff-4b95-8664-7c8ca45ad7d7",
   "metadata": {
    "deletable": false,
    "editable": false,
    "tags": []
   },
   "source": [
    "<div style=\"padding: 15px; border: 5px solid transparent; border-color: transparent; margin-bottom: 20px; border-radius: 4px; color: #3c763d; border-color: #d6e9c6; font-weight: bold;\">\n",
    "<h2 style='font-weight: bold'>1. 인공지능 발전으로 인한 사회적 영향</h2>\n",
    "</div>"
   ]
  },
  {
   "cell_type": "markdown",
   "id": "e68423bc",
   "metadata": {
    "deletable": false,
    "editable": false
   },
   "source": [
    "기술의 발전은 우리의 일자리를 크게 변화 시킵니다.\n",
    "\n",
    "<table>\n",
    "<tr>\n",
    "    <th><img src=\"https://tmn-bucket-materials-all.s3.ap-northeast-2.amazonaws.com/image/ai/AI-16-01.png\" width=\"500\"></th>\n",
    "    </tr>\n",
    "<tr>\n",
    "    <th>버스 여차장과 얼음 장수</th>\n",
    "</tr>\n",
    "</table>\n",
    "\n",
    "* 버스 차장 \n",
    "\n",
    "> 우리에게 버스 안내양으로도 알려져 있는 버스 차장은 1920년도에 우리나라에 처음 등장한 직업으로 버스 이용 요금 징수, 하차지 안내, 출입문 열고 닫기 등의 역할을 했습니다. 1980년도에 버스 자동문과 버스벨이 등장하면서 사라지게 되었습니다.\n",
    "* 얼음 장수\n",
    "\n",
    "> 조선 후기 얼음 장수는 한겨울에 강가의 얼음이 얼면 얼음을 떼어낸 후 주변 창고에 얼음을 보관합니다. 그리고 날이 따뜻해지면 보관해둔 얼음을 필요한 사람들에게 배달했습니다. 1900년도에 냉장고가 등장하면서 사라지게 되었습니다.\n",
    "\n",
    "인공지능의 도입은 또다시 우리의 일자리에 큰 변화를 불러올 것입니다."
   ]
  },
  {
   "cell_type": "markdown",
   "id": "7cd45942-0f10-48cc-baf0-44bb7d187600",
   "metadata": {
    "deletable": false,
    "editable": false
   },
   "source": [
    "<div style=\"padding: 15px; border: 5px solid transparent; border-color: transparent; margin-bottom: 20px; border-radius: 4px; color: #8a6d3b;  border-color: #faebcc; font-weight: bold;\">\n",
    "    <div style=\"font-weight: bold; font-size: 20px\">✏️ [문제1]</div>\n",
    "    <br>\n",
    "현재의 직업 중 인공지능의 등장으로 인해 사라질 직업과 그렇게 생각한 이유를 적어보세요.\n",
    "</div>"
   ]
  },
  {
   "cell_type": "raw",
   "id": "ac0aeee3-3138-4fe8-8ea5-e0fb29c75360",
   "metadata": {},
   "source": [
    " 👉 \n",
    " 👉 "
   ]
  },
  {
   "cell_type": "markdown",
   "id": "a61ecb06-7515-47bf-b2d1-f3b4d758b920",
   "metadata": {
    "deletable": false,
    "editable": false,
    "tags": []
   },
   "source": [
    "<div style=\"padding: 15px; border: 5px solid transparent; border-color: transparent; margin-bottom: 20px; border-radius: 4px; color: #3c763d; border-color: #d6e9c6; font-weight: bold;\">\n",
    "<h2 style='font-weight: bold'>2. 인공지능 발전으로 인한 문화적 영향</h2>\n",
    "</div>"
   ]
  },
  {
   "cell_type": "markdown",
   "id": "ecd6ac1b",
   "metadata": {
    "deletable": false,
    "editable": false
   },
   "source": [
    "우리는 다른 나라의 언어를 모르더라도 소통할 수 있는 세상에 살고 있습니다.\n",
    "\n",
    "* 인공지능 번역기\n",
    "\n",
    "> 구글 번역은 100개가 넘는 언어를 번역할 수 있으며, 하루 수억 건이 넘는 번역을 처리하고 있다고 합니다.<br>\n",
    "> 파파고는 15개의 언어를 번역할 수 있으며. 촬영된 이미지 속 글자를 번역할 수 있습니다.<br>\n",
    "> 이어폰을 착용하면 상대방의 말을 착용자의 언어로 번역도 이미 가능하다고 합니다.\n",
    "\n",
    "<table>\n",
    "<tr>\n",
    "    <th><img src=\"https://tmn-bucket-materials-all.s3.ap-northeast-2.amazonaws.com/image/ai/AI-16-08.gif\" width=\"500\"></th>\n",
    "    </tr>\n",
    "<tr>\n",
    "    <th>인공지능 번역기로 대화하는 사람들</th>\n",
    "</tr>\n",
    "</table>"
   ]
  },
  {
   "cell_type": "markdown",
   "id": "09282659-5eda-41a7-b6e7-8392fe3566cb",
   "metadata": {
    "deletable": false,
    "editable": false
   },
   "source": [
    "<div style=\"padding: 15px; border: 5px solid transparent; border-color: transparent; margin-bottom: 20px; border-radius: 4px; color: #8a6d3b;  border-color: #faebcc; font-weight: bold;\">\n",
    "    <div style=\"font-weight: bold; font-size: 20px\">✏️ [문제2]</div>\n",
    "    <br>\n",
    "인공지능 번역기를 활용했을 때의 장점과 단점을 한가지씩 적어보세요\n",
    "</div>"
   ]
  },
  {
   "cell_type": "raw",
   "id": "481b9f7a-9d5e-4009-9dcc-f9e87053a6c5",
   "metadata": {},
   "source": [
    " 👉 장점 : \n",
    " 👉 단점 : "
   ]
  },
  {
   "cell_type": "markdown",
   "id": "8e6f5da8-9d17-4315-ba26-3a85e6374271",
   "metadata": {
    "deletable": false,
    "editable": false,
    "tags": []
   },
   "source": [
    "<div style=\"padding: 15px; border: 5px solid transparent; border-color: transparent; margin-bottom: 20px; border-radius: 4px; color: #3c763d; border-color: #d6e9c6; font-weight: bold;\">\n",
    "<h2 style='font-weight: bold'>3. 인공지능 활용에서 소외받는 사람들</h2>\n",
    "</div>"
   ]
  },
  {
   "cell_type": "markdown",
   "id": "2510f0ed",
   "metadata": {
    "deletable": false,
    "editable": false
   },
   "source": [
    "사회, 문화적으로 다양한 영향을 미치고 있는 인공지능 기술의 발전은 우리 모두를 행복하게 만들까요? <br>\n",
    "그렇지 않습니다.<br>\n",
    "다음의 이야기를 통해 인공지능 사회에서 소외받는 사람들을 살펴봅시다.\n",
    "\n",
    "<table>\n",
    "<tr>\n",
    "    <th><img src=\"https://tmn-bucket-materials-all.s3.ap-northeast-2.amazonaws.com/image/ai/AI-16-02.png\" width=\"500\"></th>\n",
    "    <th><img src=\"https://tmn-bucket-materials-all.s3.ap-northeast-2.amazonaws.com/image/ai/AI-16-03.png\" width=\"500\"></th>\n",
    "    </tr>\n",
    "<tr>\n",
    "    <th>자율주행차가 차량공유 서비스의 대다수를 차지할 것이다</th>\n",
    "    <th>시각 장애인 웹 접근성 심각하다</th>\n",
    "</tr>"
   ]
  },
  {
   "cell_type": "markdown",
   "id": "eba0c0bb-6729-4005-be94-bee428fd4312",
   "metadata": {
    "deletable": false,
    "editable": false
   },
   "source": [
    "<div style=\"padding: 15px; border: 5px solid transparent; border-color: transparent; margin-bottom: 20px; border-radius: 4px; color: #8a6d3b;  border-color: #faebcc; font-weight: bold;\">\n",
    "    <div style=\"font-weight: bold; font-size: 20px\">✏️ [문제3]</div>\n",
    "    <br>\n",
    "인공지능 기술로 인해 소외받는 사람들에는 누가 있는지 2가지 이상의 사례를 적어보세요.\n",
    "</div>"
   ]
  },
  {
   "cell_type": "raw",
   "id": "3f008223-6c8a-4b48-813d-c5d7395b6c4b",
   "metadata": {},
   "source": [
    " 👉\n",
    " 👉"
   ]
  },
  {
   "cell_type": "markdown",
   "id": "11bf37cf",
   "metadata": {
    "deletable": false,
    "editable": false
   },
   "source": [
    "위와 같이 인공지능 기술로 인해 소외받는 사람들이 있습니다. 그러면 인공지능 기술을 우리는 활용하지 말아야할까요?<br>\n",
    "시인 '조지 고든 바이런'은 다음과 같은 말을 하였습니다.<br>\n",
    "\n",
    "> 미래에 대한 최선의 예언가는 과거이다\n",
    "\n",
    "역사를 통해 인공지능 기술 활용의 미래를 살펴봅시다.<br>"
   ]
  },
  {
   "cell_type": "markdown",
   "id": "f5ccb538",
   "metadata": {
    "deletable": false,
    "editable": false
   },
   "source": [
    "### 러다이트 운동"
   ]
  },
  {
   "cell_type": "markdown",
   "id": "030bd516",
   "metadata": {
    "deletable": false,
    "editable": false
   },
   "source": [
    "<table>\n",
    "<tr>\n",
    "    <th><img src=\"https://tmn-bucket-materials-all.s3.ap-northeast-2.amazonaws.com/image/ai/AI-16-04.png\" width=\"500\"></th>\n",
    "    </tr>\n",
    "<tr>\n",
    "    <th>러다이트 운동</th>\n",
    "</tr>\n",
    "</table>\n",
    "\n",
    "18세기 초까지 영국의 섬유 산업은 숙련된 노동자가 제품을 생산하는 방식이었습니다.<br>\n",
    "그러나 섬유 직조 기계의 등장으로 인해 일정 수준 이상의 품질의 제품을 누구나 제작할 수 있게 되면서 섬유 노동자들의 임금과 가치가 급속도로 낮아지게 되었습니다.<br>\n",
    "이로인해 19세기 초반 영국에서 섬유 산업 노동자들이 섬유 직조 기계를 파괴하게 되는데, 이 사건을 **러다이트 운동** 이라고 합니다."
   ]
  },
  {
   "cell_type": "markdown",
   "id": "fc1cf972",
   "metadata": {
    "deletable": false,
    "editable": false
   },
   "source": [
    "### 적기조례\n",
    "\n",
    "<table>\n",
    "<tr>\n",
    "    <th><img src=\"https://tmn-bucket-materials-all.s3.ap-northeast-2.amazonaws.com/image/ai/AI-16-05.png\" width=\"500\"></th>\n",
    "    </tr>\n",
    "<tr>\n",
    "    <th>적기조례</th>\n",
    "</tr>\n",
    "</table>\n",
    "\n",
    "19세기 초, 영국에 실용화된 자동차가 등장하였습니다.<br>\n",
    "자동차의 등장으로 인해 타격을 입은 사람은 마차를 모는 마부들이었습니다.<br>\n",
    "이 마부들을 보호하기 위해 만든 법이 **적기조례**로 다음과 같은 내용을 포함하고 있습니다.\n",
    "\n",
    "- 차량의 중량은 14톤으로 제한한다.\n",
    "- 차량의 폭은 2.7미터로 제한한다.\n",
    "- 교외에서는 4 mph(6km/h), 시가지에서는 2mph(3km/h)의 속도 제한을 정한다.\n",
    "- 자동차는, 운전수, 기관원, 붉은 기를 가지고 차량의 60야드(55미터)전방을 걷는 사람의 3명으로 운용하는 것을 규정한다.\n",
    "- 붉은 기를 가진 사람은 걷는 속도를 지키고 기수나 말에게 자동차의 접근을 예고한다."
   ]
  },
  {
   "cell_type": "markdown",
   "id": "934f5981",
   "metadata": {
    "deletable": false,
    "editable": false
   },
   "source": [
    "러다이트 운동은 결국 섬유 직조 기계의 활용과 발전을 저지하지 못하였습니다.<br>\n",
    "적기조례 또한 자동차의 활용과 발전을 저지하지 못하였습니다.<br>\n",
    "인공지능 기술 또한 앞으로도 꾸준히 활용되고 발전될 것입니다."
   ]
  },
  {
   "cell_type": "markdown",
   "id": "66d56082-5528-4a34-8900-ed0fd43b31cf",
   "metadata": {
    "deletable": false,
    "editable": false
   },
   "source": [
    "<div style=\"padding: 15px; border: 5px solid transparent; border-color: transparent; margin-bottom: 20px; border-radius: 4px; color: #8a6d3b;  border-color: #faebcc; font-weight: bold;\">\n",
    "    <div style=\"font-weight: bold; font-size: 20px\">✏️ [문제4]</div>\n",
    "    <br>\n",
    "인공지능 기술의 발전은 막을 수 없는 흐름입니다.<br>\n",
    "    \"시각장애인의 키오스크 활용\"을 보다 편리하게 만들 수 있는 방법을 적어보세요.\n",
    "</div>"
   ]
  },
  {
   "cell_type": "raw",
   "id": "ce77bda1-43b8-42b2-ac1f-f84b2b3fefc3",
   "metadata": {},
   "source": [
    " 👉\n",
    " 👉"
   ]
  },
  {
   "cell_type": "markdown",
   "id": "b5be2263-5b55-47f8-a6b2-4894cba01664",
   "metadata": {
    "deletable": false,
    "editable": false,
    "tags": []
   },
   "source": [
    "<div style=\"padding: 15px; border: 5px solid transparent; border-color: transparent; margin-bottom: 20px; border-radius: 4px; color: #3c763d; border-color: #d6e9c6; font-weight: bold;\">\n",
    "<h2 style='font-weight: bold'>4. 인공지능 사회에 필요한 역량</h2>\n",
    "</div>"
   ]
  },
  {
   "cell_type": "markdown",
   "id": "65e5fd0c",
   "metadata": {
    "deletable": false,
    "editable": false
   },
   "source": [
    "우리는 초, 중, 고등학교를 거쳐 다음과 같은 사람이 되고자 합니다.\n",
    "\n",
    "- 자기주도적인 사람\n",
    "- 창의적인 사람\n",
    "- 교양있는 사람\n",
    "- 더불어 사는 사람\n",
    "\n",
    "이러한 사람이 되기 위해 다음의 **핵심역량**을 기르죠.\n",
    "\n",
    "<table>\n",
    "<tr>\n",
    "    <th><img src=\"https://tmn-bucket-materials-all.s3.ap-northeast-2.amazonaws.com/image/ai/AI-16-06.png\" width=\"500\"></th>\n",
    "    </tr>\n",
    "<tr>\n",
    "    <th>교육과정 핵심역량 6가지</th>\n",
    "</tr>\n",
    "</table>\n",
    "\n",
    "인공지능 사회에서도 **역량**은 필요할 것입니다."
   ]
  },
  {
   "cell_type": "markdown",
   "id": "17ec861c",
   "metadata": {
    "deletable": false,
    "editable": false
   },
   "source": [
    "**[문제5] ChatGPT는 위 6가지 핵심역량 중 어떤 역량을 인공지능 사회에 가장 필요한 역량이라고 생각할까요? ChatGPT에 질문해봅시다.** "
   ]
  },
  {
   "cell_type": "markdown",
   "id": "58dba322-ac15-49bb-ab81-e92c1cecd843",
   "metadata": {
    "deletable": false,
    "editable": false
   },
   "source": [
    "<div style=\"padding: 15px; border: 5px solid transparent; border-color: transparent; margin-bottom: 20px; border-radius: 4px; color: #8a6d3b;  border-color: #faebcc; font-weight: bold;\">\n",
    "    <div style=\"font-weight: bold; font-size: 20px\">✏️ [문제5]</div>\n",
    "    <br>\n",
    "ChatGPT는 위 6가지 핵심역량 중 어떤 역량을 인공지능 사회에 가장 필요한 역량이라고 생각할까요? ChatGPT에 질문해봅시다.\n",
    "</div>"
   ]
  },
  {
   "cell_type": "raw",
   "id": "a0de4a8e-4163-4463-a7e9-a72ef74346df",
   "metadata": {},
   "source": [
    " 👉\n",
    " 👉"
   ]
  },
  {
   "cell_type": "markdown",
   "id": "10c11533",
   "metadata": {
    "deletable": false,
    "editable": false
   },
   "source": [
    "**[문제6] 문제5의 ChatGPT에서 출력한 내용에 대한 내 생각을 적어보세요.**"
   ]
  },
  {
   "cell_type": "markdown",
   "id": "40d57d8f-c406-425c-af5b-3a45026fa606",
   "metadata": {
    "deletable": false,
    "editable": false
   },
   "source": [
    "<div style=\"padding: 15px; border: 5px solid transparent; border-color: transparent; margin-bottom: 20px; border-radius: 4px; color: #8a6d3b;  border-color: #faebcc; font-weight: bold;\">\n",
    "    <div style=\"font-weight: bold; font-size: 20px\">✏️ [문제6]</div>\n",
    "    <br>\n",
    "문제5의 ChatGPT에서 출력한 내용에 대한 내 생각을 적어보세요.\n",
    "</div>"
   ]
  },
  {
   "cell_type": "raw",
   "id": "e7bf7b92-701c-4ba6-a67d-08892b364aee",
   "metadata": {},
   "source": [
    " 👉\n",
    " 👉"
   ]
  }
 ],
 "metadata": {
  "kernelspec": {
   "display_name": "Python 3 (ipykernel)",
   "language": "python",
   "name": "python3"
  },
  "language_info": {
   "codemirror_mode": {
    "name": "ipython",
    "version": 3
   },
   "file_extension": ".py",
   "mimetype": "text/x-python",
   "name": "python",
   "nbconvert_exporter": "python",
   "pygments_lexer": "ipython3",
   "version": "3.11.3"
  },
  "read_only": true
 },
 "nbformat": 4,
 "nbformat_minor": 5
}
