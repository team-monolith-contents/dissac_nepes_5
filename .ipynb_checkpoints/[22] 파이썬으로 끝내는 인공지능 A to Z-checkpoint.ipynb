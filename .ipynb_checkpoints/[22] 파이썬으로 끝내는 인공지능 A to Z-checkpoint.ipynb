{
 "cells": [
  {
   "cell_type": "markdown",
   "metadata": {
    "tags": []
   },
   "source": [
    "<div style=\"padding: 15px; border: 5px solid transparent; border-color: transparent; margin-bottom: 20px; border-radius: 4px; color: #3c763d; background-color: #dff0d8; border-color: #d6e9c6; font-weight: bold;\">\n",
    "    <br><br>\n",
    "    <div style=\"font-weight: bold; font-size: 40px\">파이썬으로 끝내는 인공지능 A to Z</div>\n",
    "    <div style=\"font-weight: bold; font-size: 20px\">[22] 인공지능의 추론 결과: 내가 잘 분류했나요?</div>\n",
    "    <hr style=\"width:80%;text-align:left;margin-left:0;border:0.5px solid green\">\n",
    "    <br>\n",
    "    &#x2022; 분류모델의 각 성능평가지표의 장단점을 이해한다.<br>\n",
    "    &#x2022; 상황에 따라 적절한 성능평가지표를 사용할 수 있다.<br>\n",
    "</div>"
   ]
  },
  {
   "cell_type": "markdown",
   "metadata": {
    "deletable": false,
    "editable": false,
    "tags": []
   },
   "source": [
    "<div style=\"padding: 15px; border: 5px solid transparent; border-color: transparent; margin-bottom: 20px; border-radius: 4px; color: #3c763d; border-color: #d6e9c6; font-weight: bold;\">\n",
    "<h2 style='font-weight: bold'>1. 혼동 행렬(Confusion matrix)</h2>\n",
    "</div>"
   ]
  },
  {
   "cell_type": "markdown",
   "metadata": {
    "deletable": false,
    "editable": false,
    "id": "OPQhJ4HYuBHu"
   },
   "source": [
    "저번 시간에 분류는 주어진 입력에 대한 적절한 범주를 예측하는 것이라고 했었지요.  \n",
    "분류모델에서 평가 지표를 계산하기 위해서는, 우선 분류모델이 범주를 적절하게 예측했는지 표로 나타내어야 해요.  \n",
    "실제 범주와 예측한 범주를 두 개의 축으로 하여, 분류모델이 예측한 결과를 표로 나타낸 것을 **혼동 행렬(confusion matrix)** 이라고 해요.   \n",
    "혼동 행렬은 일반적으로 참/거짓을 분류하는 이진 분류에서 많이 사용해요.  \n",
    "\n",
    "<table>\n",
    "<tr>\n",
    "    <th><img src=\"https://tmn-bucket-materials-all.s3.ap-northeast-2.amazonaws.com/image/ai/AI-15-01.png\" width=\"500\"></th>\n",
    "    <th><img src=\"https://tmn-bucket-materials-all.s3.ap-northeast-2.amazonaws.com/image/ai/AI-15-02.png\" width=\"500\"></th>\n",
    "    </tr>\n",
    "<tr>\n",
    "    <th>혼동 행렬</th>\n",
    "    <th>여러 클래스에서의 혼동 행렬</th>\n",
    "</tr>\n",
    "</table>"
   ]
  },
  {
   "cell_type": "markdown",
   "metadata": {
    "deletable": false,
    "editable": false
   },
   "source": [
    "혼동 행렬은 다음의 네 가지 항목으로 구성되어 있어요.  \n",
    "아래 항목들을 적절히 활용해서 여러 가지 평가 지표를 계산할 수 있어요.  \n",
    "* **TP**(진양성, True Positive)은 실제값이 **참**이고 모델이 예측한 값이 **참**인 경우에요.\n",
    "* **FP**(위양성, False Positive)은 실제값이 **거짓**이지만 모델이 **참**으로 예측한 경우에요.\n",
    "* **FN**(위음성, False Negative)은 실제값이 **참**이지만 모델이 **거짓**으로 예측한 경우에요.\n",
    "* **TN**(진음성, True Negative)은 실제값이 **거짓**이고 모델이 예측한 값이 **거짓**인 경우에요.\n",
    "\n",
    "<table>\n",
    "<tr>\n",
    "    <th><img src=\"https://tmn-bucket-materials-all.s3.ap-northeast-2.amazonaws.com/image/ai/AI-15-03.png\" width=\"500\"></th>\n",
    "    </tr>\n",
    "<tr>\n",
    "    <th>임신 여부에 대한 혼동 행렬 예시</th>\n",
    "</tr>\n",
    "</table>\n"
   ]
  },
  {
   "cell_type": "markdown",
   "metadata": {
    "deletable": false,
    "editable": false,
    "tags": []
   },
   "source": [
    "<div style=\"padding: 15px; border: 5px solid transparent; border-color: transparent; margin-bottom: 20px; border-radius: 4px; color: #3c763d; border-color: #d6e9c6; font-weight: bold;\">\n",
    "<h2 style='font-weight: bold'>2. 분류모델 평가 지표</h2>\n",
    "</div>"
   ]
  },
  {
   "cell_type": "markdown",
   "metadata": {
    "deletable": false,
    "editable": false
   },
   "source": [
    "분류모델의 대표적인 평가 지표는 정확도, 정밀도, 재현율, F1의 네 가지가 있어요.  \n",
    "F1은 뒤에서 다루기로 하고, 우선 세 가지 평가 지표에 대해 알아보아요.  "
   ]
  },
  {
   "cell_type": "markdown",
   "metadata": {
    "deletable": false,
    "editable": false
   },
   "source": [
    "**1. 정확도(Accuracy)**   \n",
    "\n",
    "정확도는 모든 데이터 중 모델이 올바르게 판단한 데이터의 비율이에요.  \n",
    "평가 지표 중 가장 직관적이며, 각 클래스에 데이터가 **고르게 분포되어 있다면** 굉장히 유용한 지표에요.  \n",
    "$$ Accuracy = \\frac{TP + TN}{TP + TN + FP + FN}$$\n"
   ]
  },
  {
   "cell_type": "markdown",
   "metadata": {
    "deletable": false,
    "editable": false
   },
   "source": [
    "**2. 정밀도(Precision)**   \n",
    "\n",
    "정밀도는 모델이 참으로 예측한 모든 데이터 중에서 실제로 참인 데이터의 비율이에요.  \n",
    "스팸 메일 필터링과 같이, 참으로 예측할 경우 실제로 양성인 경우를 중시할 때 유용해요.  \n",
    "$$ Precision = \\frac{TP}{TP + FP}$$\n"
   ]
  },
  {
   "cell_type": "markdown",
   "metadata": {
    "deletable": false,
    "editable": false
   },
   "source": [
    "**3. 재현율(Recall)**   \n",
    "\n",
    "재현율은 실제로 양성인 것 중에서 모델이 양성으로 예측한 비율이에요.  \n",
    "코로나19 진단과 같이, 실제로는 참인데 거짓으로 예측하는 경우를 최소화해야 할 때 사용할 수 있어요.  \n",
    "$$ Recall = \\frac{TP}{TP + FN}$$\n"
   ]
  },
  {
   "cell_type": "markdown",
   "metadata": {
    "deletable": false,
    "editable": false,
    "tags": []
   },
   "source": [
    "<div style=\"padding: 15px; border: 5px solid transparent; border-color: transparent; margin-bottom: 20px; border-radius: 4px; color: #3c763d; border-color: #d6e9c6; font-weight: bold;\">\n",
    "<h2 style='font-weight: bold'>3. 분류모델 평가 지표 실습</h2>\n",
    "</div>"
   ]
  },
  {
   "cell_type": "markdown",
   "metadata": {
    "deletable": false,
    "editable": false
   },
   "source": [
    "실습에서는 유방암 진단 데이터를 의사결정트리 모델로 학습시킬 거에요.  \n",
    "학습한 모델을 활용해, 평가 데이터에 대해 혼동 행렬을 구한 뒤 평가 지표를 계산해보아요."
   ]
  },
  {
   "cell_type": "code",
   "execution_count": 5,
   "metadata": {},
   "outputs": [],
   "source": [
    "# 유방암 데이터 불러오기\n",
    "import numpy as np\n",
    "import pandas as pd\n",
    "from sklearn.datasets import load_breast_cancer # 유방암 유무 판별 데이터를 불러오는 함수\n",
    "from sklearn.model_selection import train_test_split\n",
    "\n",
    "X, Y = load_breast_cancer(return_X_y = True)\n",
    "X = np.array(X)\n",
    "Y = np.array(Y)\n",
    "\n",
    "train_X, test_X, train_Y, test_Y = train_test_split(X, Y, test_size=0.2, random_state = 42)"
   ]
  },
  {
   "cell_type": "code",
   "execution_count": 6,
   "metadata": {},
   "outputs": [],
   "source": [
    "# 의사결정트리 학습 및 예측\n",
    "from sklearn.tree import DecisionTreeClassifier\n",
    "\n",
    "DTmodel = DecisionTreeClassifier()\n",
    "DTmodel.fit(train_X, train_Y)\n",
    "\n",
    "y_pred_test = DTmodel.predict(test_X)"
   ]
  },
  {
   "cell_type": "code",
   "execution_count": 7,
   "metadata": {},
   "outputs": [
    {
     "name": "stdout",
     "output_type": "stream",
     "text": [
      "혼동 행렬(Confusion Matrix) : \n",
      " [[40  3]\n",
      " [ 4 67]] \n",
      "\n"
     ]
    }
   ],
   "source": [
    "# 예측한 값과 실제 값을 토대로 혼동 행렬 구성\n",
    "from sklearn.metrics import confusion_matrix\n",
    "\n",
    "cm_test = confusion_matrix(test_Y, y_pred_test)\n",
    "print('혼동 행렬(Confusion Matrix) : \\n {}'.format(cm_test),'\\n')\n"
   ]
  },
  {
   "cell_type": "code",
   "execution_count": 8,
   "metadata": {},
   "outputs": [
    {
     "name": "stdout",
     "output_type": "stream",
     "text": [
      "정확도(Accuracy): 0.938596\n",
      "정밀도(Precision): 0.957143\n",
      "재현율(Recall): 0.943662\n"
     ]
    }
   ],
   "source": [
    "# 여러 가지 평가 지표 계산\n",
    "from sklearn.metrics import accuracy_score\n",
    "from sklearn.metrics import precision_score\n",
    "from sklearn.metrics import recall_score\n",
    "\n",
    "acc_test = accuracy_score(test_Y, y_pred_test)\n",
    "print('정확도(Accuracy): %f' % (acc_test))\n",
    "\n",
    "precision_test = precision_score(test_Y, y_pred_test)\n",
    "print('정밀도(Precision): %f' % (precision_test))\n",
    "\n",
    "recall_test = recall_score(test_Y, y_pred_test)\n",
    "print('재현율(Recall): %f' % (recall_test))\n"
   ]
  },
  {
   "cell_type": "markdown",
   "metadata": {
    "deletable": false,
    "editable": false,
    "tags": []
   },
   "source": [
    "<div style=\"padding: 15px; border: 5px solid transparent; border-color: transparent; margin-bottom: 20px; border-radius: 4px; color: #3c763d; border-color: #d6e9c6; font-weight: bold;\">\n",
    "<h2 style='font-weight: bold'>4. 평가 지표의 올바른 사용</h2>\n",
    "</div>"
   ]
  },
  {
   "cell_type": "markdown",
   "metadata": {
    "deletable": false,
    "editable": false,
    "id": "uTPyEUeTuBHv"
   },
   "source": [
    "분류모델의 평가 지표들은 각자 저마다의 특성과 한계를 지니기 때문에, 적절하게 사용해야 해요.   \n",
    "우선 정확도는 **클래스 간 개수의 차이가 클 경우 부정확**하다는 한계가 있어요.   \n",
    "\n",
    "아래의 그림을 보면, 거짓의 개수가 참의 개수보다 훨씬 많아요.  \n",
    "거짓에 대해서는 정확하게 예측하지만, 참에 대해서는 실제로 참으로 예측하는 비율이 절반밖에 되지 않아요.  \n",
    "좋은 모델이라고 할 수 없지만, 정확도를 계산하면 995/1010 = **0.985**로 충분히 큰 값이 나와요.   \n",
    "따라서, 클래스 간 개수의 차이가 있을 때는 다른 평가 지표를 함께 살펴보아야 해요.\n",
    "\n",
    "<table>\n",
    "<tr>\n",
    "    <th><img src=\"https://tmn-bucket-materials-all.s3.ap-northeast-2.amazonaws.com/image/ai/AI-15-04.png\" width=\"500\"></th>\n",
    "    </tr>\n",
    "<tr>\n",
    "    <th>정확도의 한계를 보여주는 예시</th>\n",
    "</tr>\n",
    "</table>\n"
   ]
  },
  {
   "cell_type": "markdown",
   "metadata": {
    "deletable": false,
    "editable": false
   },
   "source": [
    "재현율과 정밀도는 서로 상충(trade-off)하는 관계이기 때문에 하나의 지표만 살펴보지 않아야 해요.  \n",
    "\n",
    "코로나19의 진단을 예로 들면, 위에서 언급하였듯이 거짓으로 잘못 예측하는 상황을 피하기 위해 재현율을 더욱 중요시해요.  \n",
    "하지만 재현율만 살펴보게 되면, 많은 사람이 조금이라도 의심이 있으면 코로나19 양성으로 진단할 수 있어요.  \n",
    "그러면 거짓으로 잘못 예측하는 상황은 피할 수 있겠지만, 실제로는 음성인 대다수의 국민이 양성이라고 오진단을 받게 되어요.   \n",
    "이러한 상황을 막기 위하여, 재현율과 정밀도를 **상호 보완**적으로 사용할 때 더 좋은 모델을 만들 수 있어요.\n",
    "\n",
    "<table>\n",
    "<tr>\n",
    "    <th><img src=\"https://tmn-bucket-materials-all.s3.ap-northeast-2.amazonaws.com/image/ai/AI-15-05.png\" width=\"500\"></th>\n",
    "    <th><img src=\"https://tmn-bucket-materials-all.s3.ap-northeast-2.amazonaws.com/image/ai/AI-15-06.png\" width=\"500\"></th>\n",
    "    </tr>\n",
    "<tr>\n",
    "    <th>재현율과 정밀도의 trade-off 예시</th>\n",
    "    <th>재현율과 정밀도의 trade-off 그래프</th>\n",
    "</tr>\n",
    "</table>"
   ]
  },
  {
   "cell_type": "markdown",
   "metadata": {
    "deletable": false,
    "editable": false,
    "id": "Nwp9BpAtuBHv"
   },
   "source": [
    "앞서 이야기한 클래스 간 불균형, 재현율과 정밀도의 trade-off를 해결하기 위한 방법 중 하나로 **F1 점수**가 등장하였어요.  \n",
    "F1 점수는 정밀도와 재현율의 조화평균으로 구할 수 있어요.  \n",
    "\n",
    "$$ F1 = 2 * \\frac{Precision * Recall}{Precision + Recall}$$\n",
    "\n",
    "F1 점수를 사용하였을 경우에는 정밀도와 재현율을 모두 고려할 수 있으며, 클래스 간 불균형도 해소할 수 있어요.  \n",
    "따라서 F1 점수는 분류 모델의 최종 성능 평가 지표로 자주 활용되어요. "
   ]
  },
  {
   "cell_type": "markdown",
   "metadata": {
    "deletable": false,
    "editable": false
   },
   "source": [
    "**[문제1] 아래 데이터에서 정밀도, 재현율, 최종적으로 F1 점수까지 직접 구하고, 아래 코드를 실행하여 확인해보아요.** "
   ]
  },
  {
   "cell_type": "markdown",
   "metadata": {
    "deletable": false,
    "editable": false
   },
   "source": [
    "<div style=\"padding: 15px; border: 5px solid transparent; border-color: transparent; margin-bottom: 20px; border-radius: 4px; color: #8a6d3b;  border-color: #faebcc; font-weight: bold;\">\n",
    "    <div style=\"font-weight: bold; font-size: 20px\">✏️ [문제1]</div>\n",
    "    <br>\n",
    " 아래 데이터에서 정밀도, 재현율, 최종적으로 F1 점수까지 직접 구하고, 아래 코드를 실행하여 확인해보아요.<br>\n",
    "실제 클래스 : [1, 0, 0, 1, 1, 0, 1, 1, 0, 0, 1, 0, 1, 0, 1, 1, 0]<br>\n",
    "예측된 클래스 :  [1, 0, 1, 1, 1, 0, 1, 0, 1, 0, 1, 1, 0, 0, 1, 1, 0] # 예측된 클래스<br>\n",
    "</div>"
   ]
  },
  {
   "cell_type": "raw",
   "metadata": {},
   "source": [
    " 👉 \n",
    " 👉 "
   ]
  },
  {
   "cell_type": "code",
   "execution_count": 10,
   "metadata": {},
   "outputs": [
    {
     "name": "stdout",
     "output_type": "stream",
     "text": [
      "정밀도(Precision): 0.700000\n",
      "재현율(Recall): 0.777778\n",
      "F1 점수: 0.736842\n"
     ]
    }
   ],
   "source": [
    "import numpy as np\n",
    "from sklearn.metrics import precision_score, recall_score, f1_score\n",
    "\n",
    "y_test = [1, 0, 0, 1, 1, 0, 1, 1, 0, 0, 1, 0, 1, 0, 1, 1, 0] # 실제 클래스\n",
    "y_pred = [1, 0, 1, 1, 1, 0, 1, 0, 1, 0, 1, 1, 0, 0, 1, 1, 0] # 예측된 클래스\n",
    "\n",
    "test = np.array(y_test)\n",
    "pred = np.array(y_pred)\n",
    "\n",
    "precision_test = precision_score(test, pred)\n",
    "print('정밀도(Precision): %f' % (precision_test))\n",
    "recall_test = recall_score(test, pred)\n",
    "print('재현율(Recall): %f' % (recall_test))\n",
    "f1_test = f1_score(test, pred)\n",
    "print('F1 점수: %f' % (f1_test))"
   ]
  },
  {
   "cell_type": "markdown",
   "metadata": {
    "deletable": false,
    "editable": false
   },
   "source": [
    "<div style=\"padding: 15px; border: 5px solid transparent; border-color: transparent; margin-bottom: 20px; border-radius: 4px; color: #8a6d3b;  border-color: #faebcc;\">\n",
    "    <div style=\"font-weight: bold; font-size: 20px\">💯 연습문제를 풀어봅시다</div>\n",
    "    <br>\n",
    "<a class=\"jcecodle-mk jcecodle-mk__problem-chip\" data-problem-id=\"ygIjNR6z1rQ\" href='#jce-judge/open/ygIjNR6z1rQ' target='_self'><span>15단원 - 혼동 행렬</span></a>  \n",
    "<a class=\"jcecodle-mk jcecodle-mk__problem-chip\" data-problem-id=\"R2-bUZPwaaY\" href='#jce-judge/open/R2-bUZPwaaY' target='_self'><span>15단원 - 분류모델 평가 지표</span></a>  \n",
    "<a class=\"jcecodle-mk jcecodle-mk__problem-chip\" data-problem-id=\"2gzL70i0_kU\" href='#jce-judge/open/2gzL70i0_kU' target='_self'><span>15단원 - F1 점수</span></a>  \n",
    "</div>"
   ]
  }
 ],
 "metadata": {
  "colab": {
   "provenance": []
  },
  "kernelspec": {
   "display_name": "Python 3 (ipykernel)",
   "language": "python",
   "name": "python3"
  },
  "language_info": {
   "codemirror_mode": {
    "name": "ipython",
    "version": 3
   },
   "file_extension": ".py",
   "mimetype": "text/x-python",
   "name": "python",
   "nbconvert_exporter": "python",
   "pygments_lexer": "ipython3",
   "version": "3.11.3"
  },
  "read_only": true,
  "vscode": {
   "interpreter": {
    "hash": "8c352b738e5f22da9f29eb9cb9994f25c5223ab3395af3650b8321ab644afce4"
   }
  }
 },
 "nbformat": 4,
 "nbformat_minor": 4
}
