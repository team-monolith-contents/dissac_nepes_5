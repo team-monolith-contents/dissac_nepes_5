{
 "cells": [
  {
   "cell_type": "markdown",
   "id": "ce7d7128",
   "metadata": {
    "tags": []
   },
   "source": [
    "<div style=\"padding: 15px; border: 5px solid transparent; border-color: transparent; margin-bottom: 20px; border-radius: 4px; color: #3c763d; background-color: #dff0d8; border-color: #d6e9c6; font-weight: bold;\">\n",
    "    <br><br>\n",
    "    <div style=\"font-weight: bold; font-size: 40px\">파이썬으로 끝내는 인공지능 A to Z</div>\n",
    "    <div style=\"font-weight: bold; font-size: 20px\">[13] 선형회귀로 예측하는 미래</div>\n",
    "    <hr style=\"width:80%;text-align:left;margin-left:0;border:0.5px solid green\">\n",
    "    <br>\n",
    "    &#x2022; 선형회귀의 활용 목적을 알 수 있다.<br>\n",
    "    &#x2022; 선형회귀의 학습 원리와 과정을 이해할 수 있다.<br>\n",
    "    &#x2022; 선형회귀를 사용하여 데이터를 분석할 수 있다.<br>\n",
    "</div>"
   ]
  },
  {
   "cell_type": "markdown",
   "id": "161f93ad-2fe8-4d06-b2c1-f77a75328f81",
   "metadata": {
    "deletable": false,
    "editable": false,
    "tags": []
   },
   "source": [
    "<div style=\"padding: 15px; border: 5px solid transparent; border-color: transparent; margin-bottom: 20px; border-radius: 4px; color: #3c763d; border-color: #d6e9c6; font-weight: bold;\">\n",
    "<h2 style='font-weight: bold'>1. 선형회귀가 무엇인가요?</h2>\n",
    "</div>"
   ]
  },
  {
   "cell_type": "markdown",
   "id": "0f1325f5-5031-4570-a591-d7935f383f40",
   "metadata": {
    "deletable": false,
    "editable": false
   },
   "source": [
    "### **상관관계**  \n",
    "\n",
    "여기 키가 큰 사람과 작은 사람, 총 두 사람이 있다고 가정해보아요.  \n",
    "다양한 조건이 있겠지만 아무 것도 모른 채로, 둘 중 누가 더 몸무게가 클지 생각해볼까요?  \n",
    "\n",
    "<table>\n",
    "<tr>\n",
    "    <th><img src=\"https://tmn-bucket-materials-all.s3.ap-northeast-2.amazonaws.com/image/ai/AI-06-01.png\" width=\"500\"></th>\n",
    "    </tr>\n",
    "<tr>\n",
    "    <th>키가 큰 사람과 작은 사람</th>\n",
    "</tr>\n",
    "</table>\n",
    "\n",
    "아마 대부분 키가 큰 사람이 몸무게가 더 클 것이라 생각할 것이에요.  \n",
    "키가 큰 것이 몸무게에 어느 정도 영향을 끼치기 때문이지요.  \n",
    "이처럼 100%는 아니더라도, 어느 정도의 관계를 가지는 두 가지 변수의 관계를 **상관관계**라고 해요.  \n",
    "그리고 **선형회귀**는, 이러한 상관관계를 분석하고자 하는 방법 중 하나에요."
   ]
  },
  {
   "cell_type": "markdown",
   "id": "008476c8-6110-43c2-b102-34a4ecf057d9",
   "metadata": {
    "deletable": false,
    "editable": false
   },
   "source": [
    "### **선형회귀의 정의와 분류**  \n",
    "\n",
    "선형회귀(Linear Regression)는 인공지능의 대표적인 분석 방법으로, 회귀분석를 위해 사용되어요.  \n",
    "* **회귀분석**: 여러 변수들 간의 관계성을 수학적으로 추정, 설명\n",
    "* 선형회귀는 여러 변수 간 관계를 대표하는 **선**을 찾는 것이 목표에요.  \n",
    "\n",
    "<table>\n",
    "<tr>\n",
    "    <th><img src=\"https://tmn-bucket-materials-all.s3.ap-northeast-2.amazonaws.com/image/ai/AI-06-02.png\" width=\"500\"></th>\n",
    "    <th><img src=\"https://tmn-bucket-materials-all.s3.ap-northeast-2.amazonaws.com/image/ai/AI-06-03.png\" width=\"500\"></th>\n",
    "    </tr>\n",
    "<tr>\n",
    "    <th>선형회귀</th>\n",
    "    <th>회귀분석의 다른 예시(로지스틱 회귀)</th>\n",
    "</tr>\n",
    "</table>"
   ]
  },
  {
   "cell_type": "markdown",
   "id": "01835498-2af1-421d-a283-ee2b08205fdc",
   "metadata": {
    "deletable": false,
    "editable": false
   },
   "source": [
    "선형회귀는 여러 가지 장점과 단점을 가지고 있어요.  \n",
    "\n",
    "* 장점: 학습 속도가 빠르다. 쉽게 이해할 수 있다.\n",
    "* 단점: 선형관계가 아닐 때는 올바르게 예측할 수 없다. 이상치(잘못된 값)에 민감하다.\n",
    "\n",
    "두 변수 간의 상관관계를 대표하는 선을 찾는 것이 **단순 선형회귀**이며,  \n",
    "세 개 이상의 변수를 다룰 때는 **다중 선형회귀**라고 해요.  \n",
    "여기서는 단순 선형회귀에 대해 다룰 거에요."
   ]
  },
  {
   "cell_type": "markdown",
   "id": "713ad129-c7f2-48e7-b566-8d69e88ce3f9",
   "metadata": {
    "deletable": false,
    "editable": false
   },
   "source": [
    "생활 속에서 선형회귀를 적용한 예시는 다음과 같아요.\n",
    "\n",
    "<table>\n",
    "<tr>\n",
    "    <th><img src=\"https://tmn-bucket-materials-all.s3.ap-northeast-2.amazonaws.com/image/ai/AI-06-04.png\" width=\"500\"></th>\n",
    "    <th><img src=\"https://tmn-bucket-materials-all.s3.ap-northeast-2.amazonaws.com/image/ai/AI-06-05.png\" width=\"500\"></th>\n",
    "    </tr>\n",
    "<tr>\n",
    "    <th>야식 먹는 횟수와 비만도의 상관관계</th>\n",
    "    <th>스마트폰 사용 시간과 학교성적의 상관관계</th>\n",
    "</tr>\n",
    "</table>"
   ]
  },
  {
   "cell_type": "markdown",
   "id": "f729b3a9-60f9-42de-bf12-7f2a76205966",
   "metadata": {
    "deletable": false,
    "editable": false
   },
   "source": [
    "<div style=\"padding: 15px; border: 5px solid transparent; border-color: transparent; margin-bottom: 20px; border-radius: 4px; color: #8a6d3b;  border-color: #faebcc; font-weight: bold;\">\n",
    "    <div style=\"font-weight: bold; font-size: 20px\">✏️ [문제1]</div>\n",
    "    <br>\n",
    "위의 예시 외에도 생활 속에서 선형회귀를 활용하기 좋은 예시를 적어보아요.\n",
    "</div>"
   ]
  },
  {
   "cell_type": "raw",
   "id": "ff75e72e-428c-410c-9a72-0f5102b7babb",
   "metadata": {},
   "source": [
    " 👉 \n",
    " 👉 "
   ]
  },
  {
   "cell_type": "markdown",
   "id": "52e0a47a-8ee1-49ad-8e7c-44fc61ef9ca4",
   "metadata": {
    "deletable": false,
    "editable": false
   },
   "source": [
    "### **선형회귀의 원리**  \n",
    "\n",
    "선형회귀를 위해서는, 먼저 변수들 간의 나타내는 **예측선**을 가정하는 것이 필요해요.  \n",
    "아래 예시를 보면, 왼쪽의 데이터들을 사용하여 오른쪽처럼 예측선을 가정할 수 있어요.  \n",
    "다양한 직선을 그을 수 있지만, 우선 y=12x+80으로 가정할게요.  \n",
    "\n",
    "<table>\n",
    "<tr>\n",
    "    <th><img src=\"https://tmn-bucket-materials-all.s3.ap-northeast-2.amazonaws.com/image/ai/AI-06-06.png\" width=\"500\"></th>\n",
    "    <th><img src=\"https://tmn-bucket-materials-all.s3.ap-northeast-2.amazonaws.com/image/ai/AI-06-07.png\" width=\"500\"></th>\n",
    "    </tr>\n",
    "<tr>\n",
    "    <th>강아지 발바닥 면적 - 성견의 몸 면적</th>\n",
    "    <th>변수 간 관계표와 예측선</th>\n",
    "</tr>\n",
    "</table>"
   ]
  },
  {
   "cell_type": "markdown",
   "id": "05a64bdb-d89a-400e-bb3f-7d9eba5914dd",
   "metadata": {
    "deletable": false,
    "editable": false
   },
   "source": [
    "우리의 예측선이 다른 예측선과 비교하여 얼마나 정확한지 파악하기 위해서, **평균 제곱 오차**를 사용해요.  \n",
    "* 오차: (x에 숫자를 넣어 계산한) 예측값 - 실제값\n",
    "* 평균 제곱 오차: 각 데이터에 대해, 오차의 제곱를 구한 뒤 평균낸 값\n",
    "\n",
    "<table>\n",
    "<tr>\n",
    "    <th><img src=\"https://tmn-bucket-materials-all.s3.ap-northeast-2.amazonaws.com/image/ai/AI-06-08.png\" width=\"500\"></th>\n",
    "    </tr>\n",
    "<tr>\n",
    "    <th>관계표에서의 오차</th>\n",
    "</tr>\n",
    "</table>"
   ]
  },
  {
   "cell_type": "markdown",
   "id": "ae53285a-d661-434f-bb63-130c43c43240",
   "metadata": {
    "deletable": false,
    "editable": false
   },
   "source": [
    "위 그림에서 오차는 각각 74, 112, -60, -123이에요.  \n",
    "이 값들로 평균 제곱 오차를 구해보면, 다음과 같을 거에요.  \n",
    " \n",
    "$$\\frac{74^2 + 112^2 + (-60)^2 + (-123)^2}{4} = 9187.25$$\n",
    "\n",
    "선형회귀는 이 과정을 수차례 반복하여, 최종적으로 평균 제곱 오차가 가장 적은 선을 선택하는 것이에요.\n",
    "\n"
   ]
  },
  {
   "cell_type": "markdown",
   "id": "37d2b5a4-8f82-4351-888d-b084eb916d6a",
   "metadata": {
    "deletable": false,
    "editable": false
   },
   "source": [
    "<div style=\"padding: 15px; border: 5px solid transparent; border-color: transparent; margin-bottom: 20px; border-radius: 4px; color: #8a6d3b;  border-color: #faebcc; font-weight: bold;\">\n",
    "    <div style=\"font-weight: bold; font-size: 20px\">✏️ [문제2]</div>\n",
    "    <br>\n",
    "아래 코드를 실행 후 기울기/y절편을 조정해 보고, 어떠한 방식으로 평균 제곱 오차가 적어지도록 하였는지 이야기해보아요.\n",
    "</div>"
   ]
  },
  {
   "cell_type": "code",
   "execution_count": null,
   "id": "940f807c-ea06-43ef-8c5d-badb8988c7cf",
   "metadata": {
    "tags": []
   },
   "outputs": [],
   "source": [
    "from CodleAI import AIProject1\n",
    "\n",
    "AIProject1()"
   ]
  },
  {
   "cell_type": "raw",
   "id": "2fb12bc1-98d6-44c6-abf5-5a60f1b7b442",
   "metadata": {},
   "source": [
    " 👉 \n",
    " 👉 "
   ]
  },
  {
   "cell_type": "markdown",
   "id": "bc12c960-24c9-4e37-9915-5ad976f33c4d",
   "metadata": {
    "deletable": false,
    "editable": false,
    "tags": []
   },
   "source": [
    "<div style=\"padding: 15px; border: 5px solid transparent; border-color: transparent; margin-bottom: 20px; border-radius: 4px; color: #3c763d; border-color: #d6e9c6; font-weight: bold;\">\n",
    "<h2 style='font-weight: bold'>2. 선형회귀로 연차에 따른 연봉을 예측해 보아요</h2>\n",
    "</div>"
   ]
  },
  {
   "cell_type": "markdown",
   "id": "5fce6950-4084-453d-ad36-2b48db260987",
   "metadata": {
    "deletable": false,
    "editable": false
   },
   "source": [
    "실습에서는 직장에서의 연차와 연봉에 대한 데이터셋을 분석하여,  \n",
    "두 변수 간 상관관계를 선형회귀로 분석해보아요.  "
   ]
  },
  {
   "cell_type": "code",
   "execution_count": null,
   "id": "9e098f69-d021-4fa9-9893-a4b0de1e9fc8",
   "metadata": {},
   "outputs": [],
   "source": [
    "# 데이터 불러오기\n",
    "import pandas as pd\n",
    "\n",
    "df = pd.read_csv(\"https://tmn-bucket-materials-all.s3.ap-northeast-2.amazonaws.com/data/6-9.+Salary_Data.csv\")\n",
    "df"
   ]
  },
  {
   "cell_type": "code",
   "execution_count": null,
   "id": "68c17967-a88f-432b-a1c4-7b6fd3823776",
   "metadata": {},
   "outputs": [],
   "source": [
    "import numpy as np\n",
    "\n",
    "# x(연차), y(연봉) 데이터 분리\n",
    "x_data = np.array(df['YearsExperience'], dtype=np.float32).reshape((-1, 1)) \n",
    "y_data = np.array(df['Salary'], dtype=np.float32).reshape((-1, 1))\n",
    "\n",
    "print(x_data.shape)\n",
    "print(y_data.shape)"
   ]
  },
  {
   "cell_type": "code",
   "execution_count": null,
   "id": "44150343-7358-4396-bd72-2f7c21201ff6",
   "metadata": {},
   "outputs": [],
   "source": [
    "# 데이터 그래프에 표시하기\n",
    "import matplotlib.pyplot as plt\n",
    "\n",
    "plt.scatter(x_data, y_data)\n",
    "plt.xlabel(\"YearsExperience\")\n",
    "plt.ylabel(\"Salary\")\n",
    "plt.show()"
   ]
  },
  {
   "cell_type": "code",
   "execution_count": null,
   "id": "95dfb2b2-1776-4c0c-87d4-aa30b44b88e8",
   "metadata": {},
   "outputs": [],
   "source": [
    "# 훈련 데이터, 평가 데이터 분리하기\n",
    "from sklearn.model_selection import train_test_split\n",
    "\n",
    "x_train, x_val, y_train, y_val = train_test_split(x_data, y_data, test_size=0.4, random_state=2021)\n",
    "print(x_train.shape, x_val.shape)\n",
    "print(y_train.shape, y_val.shape)"
   ]
  },
  {
   "cell_type": "code",
   "execution_count": null,
   "id": "12e9e5ec-cacb-4d79-88f9-cd22fb6169ed",
   "metadata": {},
   "outputs": [],
   "source": [
    "# 선형회귀 모델 학습\n",
    "from sklearn.linear_model import LinearRegression\n",
    "\n",
    "model = LinearRegression(fit_intercept=True)\n",
    "model.fit(x_train, y_train)"
   ]
  },
  {
   "cell_type": "code",
   "execution_count": null,
   "id": "95ecaf7b-8508-40e8-85af-300dbaf22b93",
   "metadata": {},
   "outputs": [],
   "source": [
    "print('y절편 : ', model.intercept_)\n",
    "print('가중치 : ', model.coef_)"
   ]
  },
  {
   "cell_type": "code",
   "execution_count": null,
   "id": "adb5c5b8-0fef-4779-bf7a-b4d5c1caedce",
   "metadata": {},
   "outputs": [],
   "source": [
    "# 선형회귀 결과 시각화(평가 데이터)\n",
    "import matplotlib.pyplot as plt\n",
    "\n",
    "y_pred = model.predict(x_val)\n",
    "\n",
    "plt.scatter(x_val, y_val)\n",
    "plt.xlabel(\"YearsExperience\")\n",
    "plt.ylabel(\"Salary\")\n",
    "plt.plot(x_val, y_pred, color=\"red\")\n",
    "plt.show()"
   ]
  },
  {
   "cell_type": "code",
   "execution_count": null,
   "id": "d5ca250f-a506-46a6-b71a-2dd27fab119a",
   "metadata": {},
   "outputs": [],
   "source": [
    "# 선형회귀 결과 시각화(평가 데이터 + 훈련 데이터)\n",
    "import matplotlib.pyplot as plt\n",
    "\n",
    "y = model.predict(x_data)\n",
    "\n",
    "plt.scatter(x_data, y_data)\n",
    "plt.xlabel(\"YearsExperience\")\n",
    "plt.ylabel(\"Salary\")\n",
    "plt.plot(x_data, y, color=\"red\")\n",
    "plt.show()"
   ]
  },
  {
   "cell_type": "code",
   "execution_count": null,
   "id": "03d506a6-9b7f-47bc-b28b-9868cf5e856b",
   "metadata": {},
   "outputs": [],
   "source": [
    "from sklearn.metrics import mean_squared_error\n",
    "\n",
    "print(\"평균 제곱 오차: \" + str(mean_squared_error(model.predict(x_val), y_val)))"
   ]
  },
  {
   "cell_type": "markdown",
   "id": "d822f6b9-dc22-4452-916d-12edf8061a96",
   "metadata": {
    "deletable": false,
    "editable": false
   },
   "source": [
    "<div style=\"padding: 15px; border: 5px solid transparent; border-color: transparent; margin-bottom: 20px; border-radius: 4px; color: #8a6d3b;  border-color: #faebcc; font-weight: bold;\">\n",
    "    <div style=\"font-weight: bold; font-size: 20px\">✏️ [문제3]</div>\n",
    "    <br>\n",
    "위 코드를 참고하여, 아래 데이터로 선형회귀하였을 때 y절편, 가중치, 평균 제곱 오차를 구해보아요.\n",
    "</div>"
   ]
  },
  {
   "cell_type": "code",
   "execution_count": null,
   "id": "1478476a-2763-4cff-aa3a-b4485a4a75ee",
   "metadata": {},
   "outputs": [],
   "source": [
    "x = np.array([12, 20, 30, 56]).reshape(-1, 1)\n",
    "y = np.array([150, 208, 500, 875]).reshape(-1, 1)\n",
    "\n",
    "model = LinearRegression(fit_intercept=True)\n",
    "model.fit(x, y)\n",
    "\n",
    "### 여기에 코드를 작성해주세요 ###\n",
    "\n",
    "################################"
   ]
  },
  {
   "cell_type": "raw",
   "id": "d2056f54-730f-4069-9679-09f82a4cd987",
   "metadata": {},
   "source": [
    " 👉 \n",
    " 👉 "
   ]
  }
 ],
 "metadata": {
  "kernelspec": {
   "display_name": "Python 3 (ipykernel)",
   "language": "python",
   "name": "python3"
  },
  "language_info": {
   "codemirror_mode": {
    "name": "ipython",
    "version": 3
   },
   "file_extension": ".py",
   "mimetype": "text/x-python",
   "name": "python",
   "nbconvert_exporter": "python",
   "pygments_lexer": "ipython3",
   "version": "3.11.3"
  },
  "read_only": true
 },
 "nbformat": 4,
 "nbformat_minor": 5
}
