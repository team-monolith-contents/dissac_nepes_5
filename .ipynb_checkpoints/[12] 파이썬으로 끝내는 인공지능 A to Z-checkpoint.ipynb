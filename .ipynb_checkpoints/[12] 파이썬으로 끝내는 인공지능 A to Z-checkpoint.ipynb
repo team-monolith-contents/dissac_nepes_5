{
 "cells": [
  {
   "cell_type": "markdown",
   "id": "ce7d7128",
   "metadata": {
    "tags": []
   },
   "source": [
    "<div style=\"padding: 15px; border: 5px solid transparent; border-color: transparent; margin-bottom: 20px; border-radius: 4px; color: #3c763d; background-color: #dff0d8; border-color: #d6e9c6; font-weight: bold;\">\n",
    "    <br><br>\n",
    "    <div style=\"font-weight: bold; font-size: 40px\">파이썬으로 끝내는 인공지능 A to Z</div>\n",
    "    <div style=\"font-weight: bold; font-size: 20px\">[12] 인공지능의 시작: 탐색과 추론</div>\n",
    "    <hr style=\"width:80%;text-align:left;margin-left:0;border:0.5px solid green\">\n",
    "    <br>\n",
    "    &#x2022; 문제 해결을 위한 탐색의 필요성을 설명할 수 있다. <br>\n",
    "    &#x2022; 다양한 탐색 방법을 비교하고 각 방법의 진행 과정을 설명할 수 있다.<br>\n",
    "</div>"
   ]
  },
  {
   "cell_type": "markdown",
   "id": "9aa7e51e-902b-4663-8a68-7708b3675778",
   "metadata": {
    "deletable": false,
    "editable": false,
    "tags": []
   },
   "source": [
    "<div style=\"padding: 15px; border: 5px solid transparent; border-color: transparent; margin-bottom: 20px; border-radius: 4px; color: #3c763d; border-color: #d6e9c6; font-weight: bold;\">\n",
    "<h2 style='font-weight: bold'>1. 탐색과 추론</h2>\n",
    "</div>"
   ]
  },
  {
   "cell_type": "markdown",
   "id": "609d9466-9d4f-4db3-853d-5019b14683e9",
   "metadata": {
    "deletable": false,
    "editable": false
   },
   "source": [
    "인공지능이 문제를 스스로 해결하기 위해 여러 방향으로의 노력이 있어요.  \n",
    "대표적으로 탐색, 추론, 학습의 세 가지로 분류할 수 있어요.\n",
    "* 탐색: 문제의 해답이 될 수 있는 **후보들을 살펴보고**, 원하는 해답을 찾아내는 과정을 프로그래밍\n",
    "* 추론: 지식을 컴퓨터가 처리할 수 있도록 잘 표현하여, 컴퓨터가 **지금껏 배운 지식을 활용**해 문제를 해결\n",
    "* 학습: 컴퓨터에게 데이터를 주고 학습시켜, 문제 해결을 위한 **답을 컴퓨터가 스스로 찾아냄**   \n",
    "\n",
    "<table>\n",
    "<tr>\n",
    "    <th><img src=\"https://tmn-bucket-materials-all.s3.ap-northeast-2.amazonaws.com/image/ai/AI-05-01.gif\" width=\"750\"></th>\n",
    "    <th><img src=\"https://tmn-bucket-materials-all.s3.ap-northeast-2.amazonaws.com/image/ai/AI-05-02.gif\" width=\"750\"></th>\n",
    "    <th><img src=\"https://tmn-bucket-materials-all.s3.ap-northeast-2.amazonaws.com/image/ai/AI-05-03.gif\" width=\"750\"></th>\n",
    "    </tr>\n",
    "<tr>\n",
    "    <th>탐색</th>\n",
    "    <th>추론</th>\n",
    "    <th>학습</th>\n",
    "</tr>\n",
    "</table>\n",
    "\n",
    "현재 가장 많이 발전하고 많이 사용되는 방법은 학습이에요.  \n",
    "학습에 대해서는 다음 시간부터 다루고, 이번 시간에는 탐색과 추론에 대해 알아보아요."
   ]
  },
  {
   "cell_type": "markdown",
   "id": "7c7c6788-3ec6-49e6-8f80-25d02ac71b1e",
   "metadata": {
    "deletable": false,
    "editable": false,
    "tags": []
   },
   "source": [
    "<div style=\"padding: 15px; border: 5px solid transparent; border-color: transparent; margin-bottom: 20px; border-radius: 4px; color: #3c763d; border-color: #d6e9c6; font-weight: bold;\">\n",
    "<h2 style='font-weight: bold'>2. 탐색</h2>\n",
    "</div>"
   ]
  },
  {
   "cell_type": "markdown",
   "id": "97007581-7075-4e5d-a6f4-4f27d371c4c0",
   "metadata": {
    "deletable": false,
    "editable": false
   },
   "source": [
    "탐색은 인공지능이 문제를 해결할 수 있는 중요한 도구에요.  \n",
    "문제를 **논리적-절차적으로 표현**할 수 있다면, 문제의 정답을 찾아가기 위한 방법으로 탐색이 많이 활용되어요.  \n",
    "* 특히 게임은 문제를 논리적-절차적으로 표현하기 적절하여 탐색이 많이 사용되어요.  \n",
    "* 2016년 이세돌 선수에게 승리했던 알파고에도 탐색이 핵심적으로 사용되었어요.\n"
   ]
  },
  {
   "cell_type": "markdown",
   "id": "a05a424c-85dd-47b7-953b-47c2a84fd6b8",
   "metadata": {
    "deletable": false,
    "editable": false
   },
   "source": [
    "### **탐색이 무엇인가요?**  \n",
    "탐색은 초기 상태에서 목표 상태에 이르기까지 최적의 경로를 찾는 것으로 정의할 수 있어요.  \n",
    "아래는 8퍼즐을 예시로 탐색 과정을 나타내었어요.\n",
    "\n",
    "* 상태 공간: 문제의 해답을 찾는 과정에서 거치는 여러 상태를 모아 놓은 공간\n",
    "* 초기 상태: 문제를 해결하기 시작한 상태\n",
    "* 목표 상태: 목표가 되는 상태\n",
    "\n",
    "<table>\n",
    "<tr>\n",
    "    <th><img src=\"https://tmn-bucket-materials-all.s3.ap-northeast-2.amazonaws.com/image/ai/AI-05-04.png\" width=\"500\"></th>\n",
    "    <th><img src=\"https://tmn-bucket-materials-all.s3.ap-northeast-2.amazonaws.com/image/ai/AI-05-05.png\" width=\"500\"></th>\n",
    "    </tr>\n",
    "<tr>\n",
    "    <th>초기 상태와 목표 상태</th>\n",
    "    <th>탐색 과정</th>\n",
    "</tr>\n",
    "</table>"
   ]
  },
  {
   "cell_type": "markdown",
   "id": "da141746-162e-49e2-891b-194af32d29c9",
   "metadata": {
    "deletable": false,
    "editable": false
   },
   "source": [
    "탐색을 수행할 때는 위 8퍼즐 그림과 같이 **탐색 트리**를 구성한 뒤 트리를 탐색해요.  \n",
    "초기 상태부터 시작해, 연관된 상태들끼리 선으로 연결하여 탐색 트리를 구성할 수 있어요.  \n",
    "그렇다면 트리를 탐색하는 방법에는 어떤 것이 있을지 알아보아요."
   ]
  },
  {
   "cell_type": "markdown",
   "id": "361be6ac-b5e7-46cd-9dcc-01a38663c766",
   "metadata": {
    "deletable": false,
    "editable": false
   },
   "source": [
    "### **깊이 우선 탐색(DFS)**\n",
    "\n",
    "깊이 우선 탐색이란 탐색 트리에서 길이 있는 한 **앞으로 계속 전진**하여 탐색하는 방법이에요.  \n",
    "* 더 이상 길이 없다면, 다른 경로로 갈 수 있는 분기점으로 되돌아가 다른 길을 탐색해요.  \n",
    "* 아래 코드를 구현하였으니, 입력값을 다르게 해가면서 탐색 순서를 따라가보아요.  \n",
    "\n",
    "<table>\n",
    "<tr>\n",
    "    <th><img src=\"https://tmn-bucket-materials-all.s3.ap-northeast-2.amazonaws.com/image/ai/AI-05-06.gif\" width=\"500\"></th>\n",
    "    </tr>\n",
    "<tr>\n",
    "    <th>깊이 우선 탐색</th>\n",
    "</tr>\n",
    "</table>"
   ]
  },
  {
   "cell_type": "markdown",
   "id": "a11fbc3a-f161-4a9f-ba45-04dc606514df",
   "metadata": {
    "deletable": false,
    "editable": false
   },
   "source": [
    "> DFS와 BFS에 대해서는 여러 경우에 대해 확인할 수 있도록 실험 코드를 작성하였어요.  \n",
    "> 어려운 코드이므로 자세히 분석하기보다는, 다양한 값을 넣어보고 실행 결과를 확인해보아요!"
   ]
  },
  {
   "cell_type": "code",
   "execution_count": null,
   "id": "d304c12e-8046-40a2-9548-97917b998874",
   "metadata": {},
   "outputs": [],
   "source": [
    "from collections import deque\n",
    "\n",
    "# DFS 코드\n",
    "def DFS(tree):\n",
    "    visited = deque()\n",
    "    need_visit = deque()\n",
    "    cnt = 1\n",
    "\n",
    "    need_visit.append(tree['start'])\n",
    "    while need_visit:\n",
    "        current = need_visit.pop()\n",
    "        if current not in visited:\n",
    "            visited.append(current)\n",
    "            print(str(cnt)+\"번째 방문: \"+str(current))\n",
    "            cnt += 1\n",
    "\n",
    "            if current == tree['target']:\n",
    "                break\n",
    "            if current in tree:\n",
    "                need_visit.extend(tree[current])"
   ]
  },
  {
   "cell_type": "code",
   "execution_count": 29,
   "id": "8a991d79-c376-4388-94fb-cffceba5e35a",
   "metadata": {},
   "outputs": [
    {
     "name": "stdout",
     "output_type": "stream",
     "text": [
      "1번째 방문: A\n",
      "2번째 방문: B\n",
      "3번째 방문: D\n",
      "4번째 방문: F\n",
      "5번째 방문: E\n"
     ]
    }
   ],
   "source": [
    "# 트리 입력(탐색 순서는 역순)\n",
    "tree = dict()\n",
    "tree['start'] = 'A'\n",
    "tree['target'] = 'E' # ' '으로 하면 모든 상태 탐색\n",
    "tree['A'] = ['G', 'C', 'B']\n",
    "tree['B'] = ['E', 'D']\n",
    "tree['D'] = ['F']\n",
    "\n",
    "# BFS 실행\n",
    "DFS(tree)"
   ]
  },
  {
   "cell_type": "markdown",
   "id": "2af930d4-d438-42a2-b72d-f465a2914d40",
   "metadata": {
    "deletable": false,
    "editable": false
   },
   "source": [
    "### **너비 우선 탐색(BFS)**\n",
    "\n",
    "너비 우선 탐색은 분기점에 도착했을 때, 동일한 공간의 상태 공간을 모두 방법이에요.\n",
    "* 얕은 깊이에 있는 상태 공간부터 탐색한 다음 차례로 깊이를 증가시키면서 탐색해요.\n",
    "* 아래 코드를 구현하였으니, 입력값을 다르게 해가면서 탐색 순서를 따라가보아요.  \n",
    "\n",
    "<table>\n",
    "<tr>\n",
    "    <th><img src=\"https://tmn-bucket-materials-all.s3.ap-northeast-2.amazonaws.com/image/ai/AI-05-07.gif\" width=\"500\"></th>\n",
    "    </tr>\n",
    "<tr>\n",
    "    <th>너비 우선 탐색</th>\n",
    "</tr>\n",
    "</table>"
   ]
  },
  {
   "cell_type": "code",
   "execution_count": null,
   "id": "abb62140-6231-435f-983a-26b743ca2a1f",
   "metadata": {},
   "outputs": [],
   "source": [
    "# BFS 코드\n",
    "def BFS(tree):\n",
    "    visited = deque()\n",
    "    need_visit = deque()\n",
    "    cnt = 1\n",
    "    \n",
    "    need_visit.append(tree['start'])\n",
    "    while need_visit:\n",
    "        current = need_visit.popleft()\n",
    "        if current not in visited:\n",
    "            visited.append(current)\n",
    "            print(str(cnt)+\"번째 방문: \"+str(current))\n",
    "            cnt += 1\n",
    "\n",
    "            if current == tree['target']:\n",
    "                break\n",
    "            if current in tree:\n",
    "                need_visit.extend(tree[current])"
   ]
  },
  {
   "cell_type": "code",
   "execution_count": 28,
   "id": "54af777a-e8ac-412b-ba39-ac6cd0cca327",
   "metadata": {},
   "outputs": [
    {
     "name": "stdout",
     "output_type": "stream",
     "text": [
      "1번째 방문: A\n",
      "2번째 방문: B\n",
      "3번째 방문: C\n",
      "4번째 방문: G\n",
      "5번째 방문: D\n",
      "6번째 방문: E\n"
     ]
    }
   ],
   "source": [
    "# 트리 입력\n",
    "tree = dict()\n",
    "tree['start'] = 'A'\n",
    "tree['target'] = 'E' # ' '으로 하면 모든 상태 탐색\n",
    "tree['A'] = ['B', 'C', 'G']\n",
    "tree['B'] = ['D', 'E']\n",
    "tree['D'] = ['F']\n",
    "\n",
    "# BFS 실행\n",
    "BFS(tree)"
   ]
  },
  {
   "cell_type": "markdown",
   "id": "d95d4b86-1706-4c3b-b752-c4c9312f9e14",
   "metadata": {
    "deletable": false,
    "editable": false
   },
   "source": [
    "<div style=\"padding: 15px; border: 5px solid transparent; border-color: transparent; margin-bottom: 20px; border-radius: 4px; color: #8a6d3b;  border-color: #faebcc; font-weight: bold;\">\n",
    "    <div style=\"font-weight: bold; font-size: 20px\">✏️ [문제1]</div>\n",
    "    <br>\n",
    "아래 지도를 BFS, DFS로 탐색할 때, 각각의 경우에 대한 탐색 순서를 적어보아요.\n",
    "    <table>\n",
    "<tr>\n",
    "    <th><img src=\"https://tmn-bucket-materials-all.s3.ap-northeast-2.amazonaws.com/image/ai/AI-05-08.png\" width=\"500\"></th>\n",
    "    </tr>\n",
    "<tr>\n",
    "    <th>대상 지도</th>\n",
    "</tr>\n",
    "</table>\n",
    "</div>"
   ]
  },
  {
   "cell_type": "code",
   "execution_count": 31,
   "id": "ca5b0357-4e13-465e-8e60-3c2114b485ab",
   "metadata": {},
   "outputs": [
    {
     "name": "stdout",
     "output_type": "stream",
     "text": [
      "*********DFS 실행*********\n",
      "1번째 방문: A\n",
      "2번째 방문: G\n",
      "3번째 방문: C\n",
      "4번째 방문: B\n",
      "5번째 방문: E\n",
      "*********BFS 실행*********\n",
      "1번째 방문: A\n",
      "2번째 방문: B\n",
      "3번째 방문: C\n",
      "4번째 방문: G\n",
      "5번째 방문: D\n",
      "6번째 방문: E\n"
     ]
    }
   ],
   "source": [
    "# 트리를 완성해주세요.\n",
    "tree = dict()\n",
    "tree['start'] = 'A'\n",
    "tree['target'] = 'Y' # ' '으로 하면 모든 상태 탐색\n",
    "\n",
    "### 여기에 코드를 입력하세요 ###\n",
    "\n",
    "##############################\n",
    "\n",
    "# BFS 실행\n",
    "print(\"*********BFS 실행*********\")\n",
    "BFS(tree)\n",
    "\n",
    "# DFS 실행\n",
    "print(\"*********DFS 실행*********\")\n",
    "DFS(tree)"
   ]
  },
  {
   "cell_type": "raw",
   "id": "4c740a47-b527-41b3-b8e3-1a9b2fa24a1d",
   "metadata": {},
   "source": [
    " 👉 \n",
    " 👉 "
   ]
  },
  {
   "cell_type": "markdown",
   "id": "4ffc275c-c194-4e0d-8c49-ec2a0ad27292",
   "metadata": {
    "deletable": false,
    "editable": false
   },
   "source": [
    "### **휴리스틱 탐색**   \n",
    "DFS, BFS 등은 우리가 알고 있는 정보를 사용하지 않는 무정보 탐색으로, 탐색 시간이 굉장히 오래 걸려요.  \n",
    "따라서 문제에 대한 지식을 활용하여 빠르게 결과를 얻을 수 있는 휴리스틱 탐색이 함께 사용되어요.  \n",
    "휴리스틱 탐색은 경험적 지식에 근거하여 결정을 내리기 때문에, 예상치 못한 상황에서 완벽한 의사 결정은 하지 못해요!\n",
    "* 언덕 등반 탐색\n",
    "* 최고 우선 탐색\n",
    "* A*(A-star) 탐색\n",
    "\n",
    "아래 링크에서 다양한 탐색 방법을 확인해보아요.\n",
    "\n",
    "<a href=\"https://qiao.github.io/PathFinding.js/visual/\"><button style=\"width:100px; height:50px\">플레이</button></a>"
   ]
  },
  {
   "cell_type": "markdown",
   "id": "a4517ea8-3924-46de-ab7a-fcf1c59a1e82",
   "metadata": {
    "deletable": false,
    "editable": false,
    "tags": []
   },
   "source": [
    "<div style=\"padding: 15px; border: 5px solid transparent; border-color: transparent; margin-bottom: 20px; border-radius: 4px; color: #3c763d; border-color: #d6e9c6; font-weight: bold;\">\n",
    "<h2 style='font-weight: bold'>3. 추론</h2>\n",
    "</div>"
   ]
  },
  {
   "cell_type": "markdown",
   "id": "28eae629-efc4-4081-92bf-a53bee8deb96",
   "metadata": {
    "deletable": false,
    "editable": false
   },
   "source": [
    "### **추론이 무엇인가요?**\n",
    "논리적 추론이란, 인간의 논리적인 추론 과정을 컴퓨팅 모델로 만든 것이에요.  \n",
    "새로운 정보와 이미 알고 있는 지식을 바탕으로, 추론을 통해 새로운 사실을 이끌어낼 수 있어요.  \n",
    "앞서 1장에서 언급한 전문가 시스템 또한 추론을 활용한 예시에요.\n",
    "\n",
    "<table>\n",
    "<tr>\n",
    "    <th><img src=\"https://tmn-bucket-materials-all.s3.ap-northeast-2.amazonaws.com/image/ai/AI-05-09.png\" width=\"500\"></th>\n",
    "    </tr>\n",
    "<tr>\n",
    "    <th>전문가 시스템</th>\n",
    "</tr>\n",
    "</table>"
   ]
  },
  {
   "cell_type": "markdown",
   "id": "7f095a59-f7d1-4119-8656-143fc1dea576",
   "metadata": {
    "deletable": false,
    "editable": false
   },
   "source": [
    "### **컴퓨터의 지식 표현**\n",
    "추론하기 위해서는 컴퓨터가 지식을 이해할 수 있도록, 지식을 기호화하여 표현해야 해요.  \n",
    "가장 대표적인 기호화 방법은 **IF-THEN** 형태의 구조에요.  \n",
    "* 규칙 1: IF 신호등이 녹색 THEN 건넌다.\n",
    "* 규칙 2: IF 신호등이 빨간색 THEN 기다린다.  \n",
    ">\n",
    "인공지능에게 여러 지식(규칙)을 주어준다면, 지식을 사용해 하나의 사실에서 새로운 사실을 추론할 수 있어요.  \n"
   ]
  },
  {
   "cell_type": "markdown",
   "id": "44d6c195-ca38-4026-8c52-dc999ea20c77",
   "metadata": {
    "deletable": false,
    "editable": false
   },
   "source": [
    "<div style=\"padding: 15px; border: 5px solid transparent; border-color: transparent; margin-bottom: 20px; border-radius: 4px; color: #8a6d3b;  border-color: #faebcc; font-weight: bold;\">\n",
    "    <div style=\"font-weight: bold; font-size: 20px\">✏️ [문제2]</div>\n",
    "    <br>\n",
    "아래 기호화된 규칙들과 사실들을 살펴보고, 추론할 수 있는 새로운 사실들을 적어봅시다.\n",
    "    \n",
    "* 사실 1: 여름이다.\n",
    "* 사실 2: 어제 비가 왔다.\n",
    "\n",
    "* 규칙 1: IF 여름이다 THEN 강수 확률 >= 60%이다.\n",
    "* 규칙 2: IF 어제 비가 왔다 AND 강수 확률 >= 60% THEN 강수 확률 >= 80%이다.\n",
    "* 규칙 3: IF 강수 확률 >= 70% THEN 우산을 챙긴다.\n",
    "</div>"
   ]
  },
  {
   "cell_type": "raw",
   "id": "d9a6e3c9-84fe-47e2-9f04-da9bcb24bbee",
   "metadata": {},
   "source": [
    " 👉 \n",
    " 👉 "
   ]
  }
 ],
 "metadata": {
  "kernelspec": {
   "display_name": "Python 3 (ipykernel)",
   "language": "python",
   "name": "python3"
  },
  "language_info": {
   "codemirror_mode": {
    "name": "ipython",
    "version": 3
   },
   "file_extension": ".py",
   "mimetype": "text/x-python",
   "name": "python",
   "nbconvert_exporter": "python",
   "pygments_lexer": "ipython3",
   "version": "3.11.3"
  },
  "read_only": true
 },
 "nbformat": 4,
 "nbformat_minor": 5
}
