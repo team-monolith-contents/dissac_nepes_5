{
 "cells": [
  {
   "cell_type": "markdown",
   "id": "9ab87654-efba-4715-95cb-b3cf6a6e21ec",
   "metadata": {
    "tags": []
   },
   "source": [
    "<div style=\"padding: 15px; border: 5px solid transparent; border-color: transparent; margin-bottom: 20px; border-radius: 4px; color: #3c763d; background-color: #dff0d8; border-color: #d6e9c6; font-weight: bold;\">\n",
    "    <br><br>\n",
    "    <div style=\"font-weight: bold; font-size: 40px\">파이썬으로 끝내는 인공지능 A to Z</div>\n",
    "    <div style=\"font-weight: bold; font-size: 20px\">[20] 시간을 담은 데이터: 순환신경망과 시계열데이터</div>\n",
    "    <hr style=\"width:80%;text-align:left;margin-left:0;border:0.5px solid green\">\n",
    "    <br>\n",
    "    &#x2022; 순환신경망을 설명할 수 있다.<br>\n",
    "    &#x2022; 순환신경망을 이용하여 자연어 처리 모델을 구현할 수 있다.<br>\n",
    "</div>"
   ]
  },
  {
   "cell_type": "markdown",
   "id": "677dd5c7-0588-4983-9144-93be42f66310",
   "metadata": {
    "deletable": false,
    "editable": false,
    "tags": []
   },
   "source": [
    "<div style=\"padding: 15px; border: 5px solid transparent; border-color: transparent; margin-bottom: 20px; border-radius: 4px; color: #3c763d; border-color: #d6e9c6; font-weight: bold;\">\n",
    "<h2 style='font-weight: bold'>1. 순환신경망이란?</h2>\n",
    "</div>"
   ]
  },
  {
   "cell_type": "markdown",
   "id": "52b3d40e-e6e4-4797-9484-2b1a80c674a3",
   "metadata": {
    "deletable": false,
    "editable": false
   },
   "source": [
    "**순방향신경망(Feedforward Neural Network)** 은 데이터를 한 방향으로만 흐르게 하는 일반적인 신경망이에요.    \n",
    "지금까지 배운 심층 신경망이나 합성곱 신경망이 여기에 해당되요.  \n",
    "이 신경망들에서는 데이터가 입력층에서 시작하여 은닉층을 거쳐 출력층으로 나아가요.  \n",
    "이 과정에서 데이터는 각 노드를 한 번씩만 지나게 되기 때문에 데이터의 순서를 고려할 수 없어요.  \n",
    "\n",
    "하지만 순환신경망(RNN : Recurrent Neural Network)은 이전에 나온 데이터를 기억하고 활용할 수 있는 구조예요.  \n",
    "예를 들어, 문장을 읽을 때 이전 단어들을 기억하며 다음 단어를 예측하는 것과 비슷한 원리예요.  \n",
    "순환신경망은 은닉층의 결과가 다시 같은 은닉층의 입력으로 연결되어 있어 이전 정보를 유지하면서 데이터를 처리리해요.\n",
    "\n",
    "아래의 그림을 보면 차이점을 명확하게 이해할 수 있어요.\n",
    "\n",
    "<table>\n",
    "<tr>\n",
    "    <td><img src=\"https://tmn-bucket-materials-all.s3.ap-northeast-2.amazonaws.com/image/ai/AI-13-08.png\" width=\"100\"></td>\n",
    "    <td><img src=\"https://tmn-bucket-materials-all.s3.ap-northeast-2.amazonaws.com/image/ai/AI-13-09.png\" width=\"300\"></td>\n",
    "</tr>\n",
    "<tr>\n",
    "    <th>(그림1) 순방향신경망</th>\n",
    "    <th>(그림2) 순환신경망</th>\n",
    "</tr>\n",
    "</table>"
   ]
  },
  {
   "cell_type": "markdown",
   "id": "865e566f-a8ac-4d79-8dd9-5b1e106df5e8",
   "metadata": {
    "deletable": false,
    "editable": false,
    "tags": []
   },
   "source": [
    "<div style=\"padding: 15px; border: 5px solid transparent; border-color: transparent; margin-bottom: 20px; border-radius: 4px; color: #3c763d; border-color: #d6e9c6; font-weight: bold;\">\n",
    "<h2 style='font-weight: bold'>2. 순환신경망이 필요한 이유는 무엇일까요?</h2>\n",
    "</div>"
   ]
  },
  {
   "cell_type": "markdown",
   "id": "4368334a-8e2f-4faa-b958-6360677fbd1c",
   "metadata": {
    "deletable": false,
    "editable": false
   },
   "source": [
    "그럼 이런 순환신경망이 필요한 이유는 무엇일까요??  \n",
    "순환신경망은 시퀀스 데이터를 처리하는 데에 특히 유용해요.  \n",
    "예를 들어 자연어 처리에서는 문장이나 문서의 문맥을 파악하거나, 음성 인식에서는 이전 대화를 고려하여 음성을 인식하는 데 활용될 수 있어요.  \n",
    "\n",
    "**아래의 간단한 퀴즈를 통해 순환신경망이 필요한 이유를 알아봅시다.**"
   ]
  },
  {
   "cell_type": "markdown",
   "id": "06409f6e-639a-4402-b022-7f2d5d65495d",
   "metadata": {
    "deletable": false,
    "editable": false,
    "tags": []
   },
   "source": [
    "<div style=\"padding: 15px; border: 5px solid transparent; border-color: transparent; margin-bottom: 20px; border-radius: 4px; color: #8a6d3b;  border-color: #faebcc; font-weight: bold;\">\n",
    "    <div style=\"font-weight: bold; font-size: 20px\">✏️ [문제1]</div>\n",
    "    <br>\n",
    "그림3과 같이 숫자 카드가 무작위로 배치되어 있을 때 ?에 들어갈 숫자는 무엇인지 예상해볼까요?<br>\n",
    "그렇게 예상한 이유도 같이 적어주세요!<br><br>\n",
    "<table>\n",
    "<tr>\n",
    "    <th><img src=\"https://tmn-bucket-materials-all.s3.ap-northeast-2.amazonaws.com/image/ai/AI-13-1.PNG\" width=\"300\"></th>\n",
    " </tr>\n",
    "<tr>\n",
    "    <th>(그림3) 무작위로 배치된 카드 예측하기</th>\n",
    "</tr>\n",
    "</table>\n",
    "</div>"
   ]
  },
  {
   "cell_type": "raw",
   "id": "2908a657-b572-46f8-bf28-f658d136ec53",
   "metadata": {},
   "source": [
    " 👉 \n",
    " 👉 "
   ]
  },
  {
   "cell_type": "markdown",
   "id": "c44cde27-38ed-42a0-ab3e-8221e3c53541",
   "metadata": {
    "deletable": false,
    "editable": false,
    "tags": []
   },
   "source": [
    "<div style=\"padding: 15px; border: 5px solid transparent; border-color: transparent; margin-bottom: 20px; border-radius: 4px; color: #8a6d3b;  border-color: #faebcc; font-weight: bold;\">\n",
    "    <div style=\"font-weight: bold; font-size: 20px\">✏️ [문제2]</div>\n",
    "    <br>\n",
    "    그림4와 같이 숫자 카드가 순서를 가지고 배치되어 있을 때 ?에 들어갈 숫자는 무엇인지 예상해볼까요?<br>\n",
    "    그렇게 예상한 이유도 같이 적어주세요!\n",
    "    <br><br>\n",
    "    <table>\n",
    "    <tr>\n",
    "        <th><img src=\"https://tmn-bucket-materials-all.s3.ap-northeast-2.amazonaws.com/image/ai/AI-13-3.PNG\" width=\"500\"></th>\n",
    "      </tr>\n",
    "    <tr>\n",
    "        <th>(그림4) 순서대로 배치된 카드 예측하기</th>\n",
    "    </tr>\n",
    "    </table>\n",
    "</div>"
   ]
  },
  {
   "cell_type": "raw",
   "id": "d035e239-a53d-4257-8d1c-5e35e1330ae8",
   "metadata": {},
   "source": [
    " 👉 \n",
    " 👉 "
   ]
  },
  {
   "cell_type": "markdown",
   "id": "bc6f6aaf-df14-4208-b10a-cdc5a4626b9c",
   "metadata": {
    "deletable": false,
    "editable": false
   },
   "source": [
    "카드들이 순서를 가졌을 때와 무작위로 배치되어 있을때의 결과가 같나요??  \n",
    "아마도 다를거에요!\n",
    "이처럼 순서를 가진 데이터에 순방향신경망을 사용하는 것은 (그림3)에서와 같이 순서를 무시한 채 데이터를 사용하는 것과 같아요.  \n",
    "따라서 순서를 가진 데이터를 사용할 때에는 순환신경망을 사용해 순서가 예측에 반영될 수 있도록 해야 해요."
   ]
  },
  {
   "cell_type": "markdown",
   "id": "be2b29bb-97bc-4f4a-9591-6e8137fdca8f",
   "metadata": {
    "deletable": false,
    "editable": false,
    "tags": []
   },
   "source": [
    "<div style=\"padding: 15px; border: 5px solid transparent; border-color: transparent; margin-bottom: 20px; border-radius: 4px; color: #3c763d; border-color: #d6e9c6; font-weight: bold;\">\n",
    "<h2 style='font-weight: bold'>3. 순환신경망이 사용된 사례는 어떤 것이 있을까요?</h2>\n",
    "</div>"
   ]
  },
  {
   "cell_type": "markdown",
   "id": "48feb368-95a1-4bb7-bb10-23d32480ead5",
   "metadata": {
    "deletable": false,
    "editable": false,
    "tags": []
   },
   "source": [
    "순환신경망은 앞서 말한 것처럼 순서를 가진 데이터를 예측하는데에 탁월한 성능을 보여주고 있어요!"
   ]
  },
  {
   "cell_type": "markdown",
   "id": "5dec9b93-72f8-47fe-8c3e-eacf83b8e430",
   "metadata": {
    "deletable": false,
    "editable": false,
    "tags": []
   },
   "source": [
    "<div style=\"padding: 15px; border: 5px solid transparent; border-color: transparent; margin-bottom: 20px; border-radius: 4px; color: #8a6d3b;  border-color: #faebcc; font-weight: bold;\">\n",
    "    <div style=\"font-weight: bold; font-size: 20px\">✏️ [문제3]</div>\n",
    "    <br>\n",
    "    주위에서 순환신경망을 사용한 예시에는 어떤 것들이 있을까요?<br>  \n",
    "    (힌트 : 순서가 있는 데이터를 사용한 경우를 생각해보아요!)\n",
    "</div>"
   ]
  },
  {
   "cell_type": "raw",
   "id": "eeccf8b5-8321-4528-8d76-336240b6fe6b",
   "metadata": {},
   "source": [
    " 👉 \n",
    " 👉 "
   ]
  },
  {
   "cell_type": "markdown",
   "id": "679fe839-7ded-48a5-91cf-2dac10c1e652",
   "metadata": {
    "deletable": false,
    "editable": false
   },
   "source": [
    "여러분들이 생각한 것 처럼 우리 주변의 여러가지 분야에서 순환신경망이 사용되고 있어요.  \n",
    "여기서는 대표적인 예시 몇가지를 소개해드릴게요.  \n",
    "\n",
    "\n",
    "최근 이슈가 되고 있는 chatGPT 역시도 순환신경망을 사용하고 있어요.  \n",
    "chatGPT는 여러분이 입력한 텍스트를 기반으로 적절한 대답을 생성하는 모델이에요.  \n",
    "chatGPT가 사용하는 데이터는 우리가 입력한 채팅이에요.  \n",
    "채팅은 흔히 자연어라고 불리는 시퀀스 데이터의 일종이에요.  \n",
    "따라서 이를 처리하기 위해 chatGPT에도 순환신경망의 구조가 포함되어 있답니다.\n",
    "\n",
    "<table>\n",
    "<tr>\n",
    "    <th><img src=\"https://tmn-bucket-materials-all.s3.ap-northeast-2.amazonaws.com/image/ai/AI-13-4.PNG\" width=\"500\"></th>\n",
    "  </tr>\n",
    "<tr>\n",
    "    <th>(그림5) chatGPT</th>\n",
    "</tr>\n",
    "</table>"
   ]
  },
  {
   "cell_type": "markdown",
   "id": "91c85f28-299d-4523-a9a1-27164388e6b1",
   "metadata": {
    "deletable": false,
    "editable": false,
    "tags": []
   },
   "source": [
    "<div style=\"padding: 15px; border: 5px solid transparent; border-color: transparent; margin-bottom: 20px; border-radius: 4px; color: #3c763d; border-color: #d6e9c6; font-weight: bold;\">\n",
    "<h2 style='font-weight: bold'>4. 순환신경망의 구조를 알아봅시다</h2>\n",
    "</div>"
   ]
  },
  {
   "cell_type": "markdown",
   "id": "9de17e78-8f0d-4a58-925c-a21334d91efb",
   "metadata": {
    "deletable": false,
    "editable": false
   },
   "source": [
    "이제 순환신경망의 구조를 좀 더 자세히 알아보도록 할게요.  \n",
    "순환신경망은 은닉 층의 출력이 다시 같은 은닉 층으로 반복해서 입력되는 구조로 이루어져 있어요.  \n",
    "전체 순환신경망을 시간축을 중심으로 펼치면 아래와 같은 구조를 지녀요.\n",
    "\n",
    "<table>\n",
    "<tr>\n",
    "    <th><img src=\"https://tmn-bucket-materials-all.s3.ap-northeast-2.amazonaws.com/image/ai/AI-13-06.png\" width=\"750\"></th>\n",
    "  </tr>\n",
    "<tr>\n",
    "    <th>(그림6) RNN의 구조</th>\n",
    "</tr>\n",
    "</table>\n",
    "\n",
    "이처럼 순환신경망은 하나의 네트워크가 여러 개 복사된 형태로 구성되어 있고, 각 네트워크는 다음 단계로 정보를 넘겨 주고 있는 형태를 가지고 있어요.\n",
    "\n",
    "순환신경망은 벡터 시퀀스를 입력받고, 이 시퀀스는 타임스텝을 따라서 반복되요.  \n",
    "여기서 타임스텝은 데이터의 순서를 나타내는데, 첫번째 데이터의 타임 스텝은 0, 두번째 데이터의 타임 스텝은 1,... 과 같이 표현되요.\n",
    "타임스텝 t에서의 입력과 출력은 $x_t$, $h_t$ 와 같이 표현해요.\n",
    "\n",
    "순환신경망의 기본 구조를 응용하면 다양하게 사용할 수 있어요.  \n",
    "사진을 입력으로 주었을 때 사진 속의 상황을 자연어로 설명해 주는 사례(one to many), 자연어로 자신의 상황을 설명하면 현재의 감정 상태를 분석해 주는 사례(many to one), 영어를 한국어로 번영하는 사례(many to many) 등 순환신경망은 매우 다양한 형태로 응용할 수 있어요.\n",
    "\n",
    "<table>\n",
    "<tr>\n",
    "    <th><img src=\"https://tmn-bucket-materials-all.s3.ap-northeast-2.amazonaws.com/image/ai/AI-13-07.png\" width=\"750\"></th>\n",
    "  </tr>\n",
    "<tr>\n",
    "    <th>(그림7) RNN 응용 구조</th>\n",
    "</tr>\n",
    "</table>"
   ]
  },
  {
   "cell_type": "markdown",
   "id": "26e9face-551d-41f9-9cd1-5a75740cb618",
   "metadata": {
    "deletable": false,
    "editable": false,
    "tags": []
   },
   "source": [
    "<div style=\"padding: 15px; border: 5px solid transparent; border-color: transparent; margin-bottom: 20px; border-radius: 4px; color: #3c763d; border-color: #d6e9c6; font-weight: bold;\">\n",
    "<h2 style='font-weight: bold'>5. 순환신경망의 한계는 무엇일까요?</h2>\n",
    "</div>"
   ]
  },
  {
   "cell_type": "markdown",
   "id": "f1d5c12b-665f-4796-b7b9-a5154fe0ed93",
   "metadata": {
    "deletable": false,
    "editable": false
   },
   "source": [
    "지금까지의 설명만으로는 순환신경망은 시퀀스데이터를 분석하는데에 결점이 없는 것처럼 보여요.  \n",
    "하지만 순환신경망도 몇가지 한계점을 가지고 있답니다.\n",
    "\n",
    "가장 먼저 순환신경망은 **장기 의존성 문제**를 가지고 있어요.  \n",
    "장기 의존성 문제란 시퀀스데이터가 길어질 수록 예전의 데이터를 잃어버리는 것을 말해요.  \n",
    "순환신경망은 데이터들이 순차적으로 입력되기 때문에 상대적으로 최근에 입력된 데이터가 예전에 입력된 데이터에 적은 영향을 끼쳐요.\n",
    "그런데 시퀀스데이터가 너무 길어지게 되면 처음에 입력받았던 데이터가 영향을 거의 미치지 못하게 되는 것이죠.\n",
    "이것을 보고 장기 의존성 문제 라고 해요.\n",
    "\n",
    "다음은 순환신경망은 다른 신경망들에 비해 효율적으로 학습하기 어렵다는 단점을 가지고 있어요.  \n",
    "순방향 신경망들은 데이터에 순서가 없기 때문에 한번에 여러개를 동시에 학습시킬 수 있어요.  \n",
    "이를 데이터를 **병렬로 처리**한다고 해요.\n",
    "하지만 순환신경망의 경우 데이터를 순서대로 학습시켜야 하기 때문에 병렬로 처리할 수 없어요.  \n",
    "따라서 순환신경망은 다른 신경망들에 비해 효율적(한번에 여러개 씩) 학습 시키기 어려워요.\n",
    "\n",
    "이 외에도 몇가지 문제점 들이 더 있는데, 이러한 문제들을 해결하고자 순환신경망을 발전시킨 여러 가지 신경망들이 개발되고 있어요. 장단기 메모리(LSTM)이나 GRU 등이 그것들 이랍니다.\n",
    "\n",
    "<table>\n",
    "<tr>\n",
    "    <td><img src=\"https://tmn-bucket-materials-all.s3.ap-northeast-2.amazonaws.com/image/ai/AI-13-10.jpg\" width=\"300\"></td>\n",
    "    <td><img src=\"https://tmn-bucket-materials-all.s3.ap-northeast-2.amazonaws.com/image/ai/AI-13-11.png\" width=\"300\"></td>\n",
    "</tr>\n",
    "<tr>\n",
    "    <th>(그림8) LSTM 구조</th>\n",
    "    <th>(그림9) GRU 구조</th>\n",
    "</tr>\n",
    "</table>"
   ]
  },
  {
   "cell_type": "markdown",
   "id": "ee473288-cb66-4f9a-b51f-b0489ce7a66c",
   "metadata": {
    "deletable": false,
    "editable": false,
    "tags": []
   },
   "source": [
    "<div style=\"padding: 15px; border: 5px solid transparent; border-color: transparent; margin-bottom: 20px; border-radius: 4px; color: #3c763d; border-color: #d6e9c6; font-weight: bold;\">\n",
    "<h2 style='font-weight: bold'>6. ChatGPT로 소설 이어쓰기</h2>\n",
    "</div>"
   ]
  },
  {
   "cell_type": "markdown",
   "id": "5ddcf1e9-2d27-435f-a1d5-398b8f025c94",
   "metadata": {
    "deletable": false,
    "editable": false
   },
   "source": [
    "앞에서 언급했듯이 언어모델인 **ChatGPT** 도 RNN을 응용한 구조를 가지고 있어요.<br>\n",
    "\n",
    "인간이 사용하는 수많은 말뭉치를 이용해 학습한 ChatGPT는 언어의 패턴과 구조를 학습해 주어진 입력에 자연스럽게 이어지는 단어를 확률적으로 결정합니다.<br>\n",
    "예를 들어 \"나는\"이라는 입력이 주어졌다면 AI는 '너를', '너에게', '오늘' 같은 단어(토큰)를 생성할 수 있습니다.<br>\n",
    "\"나는\"이라는 입력 뒤에 자연스럽게 이어질 수 있는 단어들이니까요.<br>\n",
    "단어는 확률에 의해 한 개씩 결정되며, 일단 단어 하나가 결정되면 해당 단어가 입력에 추가되어 또 다른 단어를 지속적으로 생성하게 됩니다.<br>\n",
    "만약 위 단계에서 '너를'이 선택되었다면 두 번째 단계에서 입력은 \"나는 너를\"이 되며, 이러한 입력에 이어질 만한 후보 단어는 '싫어해', '좋아해', '사랑해' 같은 것들일 겁니다.<br>\n",
    "이런 식으로 계속 다음 단어를 예측하는 방식으로 작동하는 게 바로 ChatGPT입니다<br>\n",
    "이처럼 ChatGPT는 이전 단어들을 기반으로 다음 단어를 예측하기 위해서 RNN 구조를 사용합니다.\n",
    "\n",
    "이번 시간에는 ChatGPT를 사용해 간단한 소설을 써봅시다.\n",
    "\n",
    "<a href=\"https://chat.openai.com/\"><button style=\"width:100px; height:50px\">ChatGPT 링크</button></a>\n",
    "\n",
    "ChatGPT에게 더 재밌는 소설을 쓰도록 하기 위해서는 더욱 다양한 정보를 구체적으로 주어야 합니다.<br>\n",
    "ChatGPT가 제공한 정보들을 이해하고 글을 쓰기 때문이에요.<br>\n",
    "\n",
    "<table>\n",
    "<tr>\n",
    "    <th><img src=\"https://tmn-bucket-materials-all.s3.ap-northeast-2.amazonaws.com/image/ai/AI-13-05.png\" width=\"500\"></th>\n",
    "  </tr>\n",
    "<tr>\n",
    "    <th>(그림10) chatGPT로 작성한 간단한 소설</th>\n",
    "</tr>\n",
    "</table>"
   ]
  },
  {
   "cell_type": "markdown",
   "id": "a436c36e-c2d4-470f-ac5b-77d743b7b800",
   "metadata": {
    "deletable": false,
    "editable": false,
    "tags": []
   },
   "source": [
    "<div style=\"padding: 15px; border: 5px solid transparent; border-color: transparent; margin-bottom: 20px; border-radius: 4px; color: #8a6d3b;  border-color: #faebcc; font-weight: bold;\">\n",
    "    <div style=\"font-weight: bold; font-size: 20px\">✏️ [문제4]</div>\n",
    "    <br>\n",
    "    ChatGPT를 이용해 여러분 만의 소설을 작성해봅시다.\n",
    "</div>"
   ]
  },
  {
   "cell_type": "raw",
   "id": "4345506a-dab6-48ba-b1d9-48a540b690ea",
   "metadata": {},
   "source": [
    " 👉 \n",
    " 👉 "
   ]
  }
 ],
 "metadata": {
  "kernelspec": {
   "display_name": "Python 3 (ipykernel)",
   "language": "python",
   "name": "python3"
  },
  "language_info": {
   "codemirror_mode": {
    "name": "ipython",
    "version": 3
   },
   "file_extension": ".py",
   "mimetype": "text/x-python",
   "name": "python",
   "nbconvert_exporter": "python",
   "pygments_lexer": "ipython3",
   "version": "3.11.3"
  },
  "read_only": true
 },
 "nbformat": 4,
 "nbformat_minor": 5
}
