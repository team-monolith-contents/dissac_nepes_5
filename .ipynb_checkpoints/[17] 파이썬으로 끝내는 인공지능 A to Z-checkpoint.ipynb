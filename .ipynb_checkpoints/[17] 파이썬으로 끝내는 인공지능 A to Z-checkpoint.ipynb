{
 "cells": [
  {
   "cell_type": "markdown",
   "id": "0775d39d-01b0-4cf2-a5d5-05412498432a",
   "metadata": {
    "tags": []
   },
   "source": [
    "<div style=\"padding: 15px; border: 5px solid transparent; border-color: transparent; margin-bottom: 20px; border-radius: 4px; color: #3c763d; background-color: #dff0d8; border-color: #d6e9c6; font-weight: bold;\">\n",
    "    <br><br>\n",
    "    <div style=\"font-weight: bold; font-size: 40px\">파이썬으로 끝내는 인공지능 A to Z</div>\n",
    "    <div style=\"font-weight: bold; font-size: 20px\">[17] 인공뇌의 등장, 인공신경망의 비밀</div>\n",
    "    <hr style=\"width:80%;text-align:left;margin-left:0;border:0.5px solid green\">\n",
    "    <br>\n",
    "    &#x2022; 퍼셉트론의 구성 요소와 학습 원리를 이해할 수 있다.<br>\n",
    "    &#x2022; 퍼셉트론을 학습하여 데이터를 분류할 수 있다.<br>\n",
    "</div>"
   ]
  },
  {
   "cell_type": "markdown",
   "id": "a16f283d-c840-460a-82c0-b820f23d68b1",
   "metadata": {
    "deletable": false,
    "editable": false,
    "tags": []
   },
   "source": [
    "<div style=\"padding: 15px; border: 5px solid transparent; border-color: transparent; margin-bottom: 20px; border-radius: 4px; color: #3c763d; border-color: #d6e9c6; font-weight: bold;\">\n",
    "<h2 style='font-weight: bold'>1. 인간의 뇌는 어떻게 작동할까?</h2>\n",
    "</div>"
   ]
  },
  {
   "cell_type": "markdown",
   "id": "3433eeaa-282b-4fc4-8447-f29720d2405c",
   "metadata": {
    "deletable": false,
    "editable": false,
    "jp-MarkdownHeadingCollapsed": true,
    "tags": []
   },
   "source": [
    "인간의 뇌는 정말 복잡하고 놀라운 기관이에요.<br>\n",
    "이 작은 기관은 우리가 생각하고 움직이는 데에 아주 중요한 역할을 담당하고 있어요.<br> \n",
    "아마도 여러분은 심장이 어떻게 뛰고 근육이 움직이며 생각할 수 있는지에 대해 궁금한 적이 있으실 거예요.<br>\n",
    "그럼 이제 한 번 뇌가 어떻게 동작하는지에 대해 알아볼까요?<br>\n",
    "뇌는 많은 수의 신경세포로 이루어져 있어요.<br>\n",
    "이 신경세포들은 서로 연결되어 있고, 전기적인 신호를 주고받으며 작동하고 있답니다.<br>\n",
    "\n",
    "<table>\n",
    "<tr>\n",
    "    <th><img src=\"https://tmn-bucket-materials-all.s3.ap-northeast-2.amazonaws.com/image/ai/AI-10-1.PNG\" width=\"500\"></th>\n",
    "</tr>\n",
    "<tr>\n",
    "    <th>(그림1) 신경세포의 모습</th>\n",
    "</tr>\n",
    "</table>\n",
    "\n",
    "그림 1은 신경세포의 모습을 그린 것이에요.<br>\n",
    "뇌에는 이런 신경세포 1000억개가 네트워크 구성하고 있어요.<br>\n",
    "이 신경세포들은 다른 신경세포와 연결돼 있고, 이 연결은 작은 간극인 시냅스를 통해서 이루어져요.<br>\n",
    "신경세포는 전기적인 신호를 만들어내고, 이 신호는 축삭돌기를 통해 전달되어요.<br>\n",
    "축삭돌기는 다른 신경세포의 수상돌기와 연결돼 있으며, 시냅스를 통해 신호가 전달돼요.\n",
    "\n",
    "뉴런에서 만들어진 신호는 뉴로전달물질이라는 전기적인 화학 물질을 이용해 시냅스를 통해 다른 신경세포로 전달돼요.<br>\n",
    "이 신호 전달은 시냅스의 강도에 따라 조절되며, 신경세포들의 연결과 시냅스의 강도가 뇌의 학습과 기억 형성에 영향을 미치게 돼요.<br>\n",
    "\n",
    "뇌는 신경세포들 사이의 복잡한 상호작용을 통해 동작하며, 이를 통해 우리는 심장의 박동, 근육의 움직임, 인식, 사고, 감정 등을 경험하고 수행할 수 있어요.<br>\n",
    "하지만 아직까지 뇌의 작동 원리를 완전히 이해하는 것은 어려운 과제이며, 뇌의 복잡성과 다양성으로 인해 연구가 계속되고 있어요.<br>"
   ]
  },
  {
   "cell_type": "markdown",
   "id": "422a18a6-0121-46a4-97d5-e6c900b22978",
   "metadata": {
    "deletable": false,
    "editable": false,
    "tags": []
   },
   "source": [
    "<div style=\"padding: 15px; border: 5px solid transparent; border-color: transparent; margin-bottom: 20px; border-radius: 4px; color: #3c763d; border-color: #d6e9c6; font-weight: bold;\">\n",
    "<h2 style='font-weight: bold'>2. 인공 신경망이란?</h2>\n",
    "</div>"
   ]
  },
  {
   "cell_type": "markdown",
   "id": "52b3d40e-e6e4-4797-9484-2b1a80c674a3",
   "metadata": {
    "deletable": false,
    "editable": false,
    "tags": []
   },
   "source": [
    "1957년 코넬 항공 연구소에 근무하던 신경과학자 프랭크 로젠블랫 (Frank Rosenblatt)은 이러한 뉴런의 구조를 본 따 퍼셉트론(Perceptron)을 고안해냈어요.<br>\n",
    "인공 뉴런인 퍼셉트론을 네트워트로 연결하면 인간의 뇌처럼 판단과 결정을 수행하는 인공 신경망을 만들 수 있어요.<br>\n",
    "아래 그림2와 그림3은 각각 신경망과 인공 신경망의 모습이에요.<br>\n",
    "그림3의 인공신경망의 파란 동그라미들이 뉴런의 역할을 하는 퍼셉트론이에요.<br>\n",
    "여러분이 보기에는 인공 신경망과 실제 신경망의 모습이 닮은 것 같나요?<br>\n",
    "\n",
    "<table>\n",
    "<tr>\n",
    "    <th><img src=\"https://tmn-bucket-materials-all.s3.ap-northeast-2.amazonaws.com/image/ai/AI-10-02.jpg\" width=\"500\"></th>\n",
    "    <th><img src=\"https://tmn-bucket-materials-all.s3.ap-northeast-2.amazonaws.com/image/ai/AI-10-03.jpg\" width=\"500\"></th>\n",
    "</tr>\n",
    "<tr>\n",
    "    <th>(그림2) 신경망의 모습</th>\n",
    "    <th>(그림3) 인공 신경망의 모습</th>\n",
    "</tr>\n",
    "</table>"
   ]
  },
  {
   "cell_type": "markdown",
   "id": "9f0a7e19-f298-4835-88b9-45f12bdd5832",
   "metadata": {
    "deletable": false,
    "editable": false,
    "tags": []
   },
   "source": [
    "<div style=\"padding: 15px; border: 5px solid transparent; border-color: transparent; margin-bottom: 20px; border-radius: 4px; color: #3c763d; border-color: #d6e9c6; font-weight: bold;\">\n",
    "<h2 style='font-weight: bold'>3. 단층 퍼셉트론의 구조를 이해해보자.</h2>\n",
    "</div>"
   ]
  },
  {
   "cell_type": "markdown",
   "id": "ce90c3c2-be3d-4c7c-a532-91fc2a1a1708",
   "metadata": {
    "deletable": false,
    "editable": false,
    "tags": []
   },
   "source": [
    "그럼 퍼셉트론의 구조를 좀 더 자세하게 살펴보도록 할게요.<br>\n",
    "\n",
    "<table>\n",
    "<tr>\n",
    "    <th><img src=\"https://tmn-bucket-materials-all.s3.ap-northeast-2.amazonaws.com/image/ai/AI-10-04.png\" width=\"500\"></th>\n",
    "    <th><img src=\"https://tmn-bucket-materials-all.s3.ap-northeast-2.amazonaws.com/image/ai/AI-10-05.png\" width=\"500\"></th>\n",
    "</tr>\n",
    "<tr>\n",
    "    <th>(그림4) 단층 퍼셉트론</th>\n",
    "    <th>(그림5) 입력이 2개인 단층 퍼셉트론</th>\n",
    "</tr>\n",
    "</table>\n",
    "\n",
    "퍼셉트론은 입력층과 출력층으로 구성되어 있어요.<br>\n",
    "입력층은 초기 데이터를 받아들이는 역할을 하고, 출력층은 최종 결과를 내보내는 역할을 합니다.<br>\n",
    "입력층과 출력층 사이에는 가중치라는 값들로 연결된 노드들이 존재합니다.<br>\n",
    "그림 5는 입력이 2개인 퍼셉트론을 나타낸 그림이에요.<br>\n",
    "왼쪽의 x1,x2가 각각 입력이고 오른쪽의 z가 출력값이에요.<br>\n",
    "가운데에 있는 w1과 w2는 가중치라는 부르는 값으로 인공 신경망의 퍼셉트론들은 이 가중치로 연결되어 있어요.<br>\n",
    "각 퍼셉트론은 입력값과 가중치를 곱한 후 이를 합산하는 연산을 해요.<br>\n",
    "그림 5의 예시에서는 입력 x1과 출력 z를 이어주는 가중치가 w1, 입력 x2와 출력 z를 이어주는 가중치가 w2 이므로 출력값 z를 계산하기 위해서는 다음과 같은 식을 사용할 수 있어요.<br>\n",
    "\n",
    "$$z = x_1*w_1 + x_2*w_2$$\n",
    "\n",
    "퍼셉트론은 입력값과 가중치, 활성화 함수를 통해 학습하고 판단할 수 있게 됩니다.<br>\n",
    "학습 과정에서는 입력값과 기대 출력값을 비교하여 가중치를 조정하게 되는데, 이를 통해 퍼셉트론은 패턴을 학습하고 새로운 데이터에 대해 예측이나 분류를 수행할 수 있게 됩니다.<br>\n",
    "이렇게 입력층과 출력층 두 단계로만 이루어 져 있는 퍼셉트론을 단층 퍼셉트론이라고 해요.<br>"
   ]
  },
  {
   "cell_type": "markdown",
   "id": "dd54e2eb-18c4-453d-b927-39122806189f",
   "metadata": {
    "deletable": false,
    "editable": false
   },
   "source": [
    "<div style=\"padding: 15px; border: 5px solid transparent; border-color: transparent; margin-bottom: 20px; border-radius: 4px; color: #8a6d3b;  border-color: #faebcc; font-weight: bold;\">\n",
    "    <div style=\"font-weight: bold; font-size: 20px\">✏️ [문제1]</div>\n",
    "    <br>\n",
    "아래 그림에 주어진 단층 퍼셉트론의 출력값을 계산해보아요.<br>\n",
    "(힌트 : 파이썬의 사칙연산을 이용해 계산하면 더욱 쉽게 계산할 수 있어요.)\n",
    "<br><br>\n",
    "<table>\n",
    "<tr>\n",
    "    <th><img src=\"https://tmn-bucket-materials-all.s3.ap-northeast-2.amazonaws.com/image/ai/AI-10-06.png\" width=\"500\"></th>\n",
    "</tr>\n",
    "<tr>\n",
    "    <th>(그림6) 단층 퍼셉트론</th>\n",
    "</tr>\n",
    "</table>\n",
    "</div>"
   ]
  },
  {
   "cell_type": "raw",
   "id": "da26fd1e-e180-478c-b629-f4774c6e870d",
   "metadata": {},
   "source": [
    " 👉 \n",
    " 👉 "
   ]
  },
  {
   "cell_type": "markdown",
   "id": "bde70c4e-a04e-4159-87a2-e0701a3ef6b7",
   "metadata": {
    "deletable": false,
    "editable": false
   },
   "source": [
    "자 이제 뉴럴 네트워크를 간단하게 시뮬레이션 해 볼 수 있는 사이트인 플레이그라운드를 이용해 단층 퍼셉트론을 체험해 볼 거에요.\n",
    "\n",
    "<a href=\"https://playground.tensorflow.org/#activation=tanh&batchSize=10&dataset=circle&regDataset=reg-plane&learningRate=0.03&regularizationRate=0&noise=0&networkShape=4,2&seed=0.88816&showTestData=false&discretize=false&percTrainData=50&x=true&y=true&xTimesY=false&xSquared=false&ySquared=false&cosX=false&sinX=false&cosY=false&sinY=false&collectStats=false&problem=classification&initZero=false&hideText=false\"><button style=\"width:200px; height:50px\">플레이그라운드 링크</button></a>\n",
    "\n",
    "<table>\n",
    "<tr>\n",
    "    <th><img src=\"https://tmn-bucket-materials-all.s3.ap-northeast-2.amazonaws.com/image/ai/AI-10-07.png\" width=\"500\"></th>\n",
    "</tr>\n",
    "<tr>\n",
    "    <th>(그림7) 플레이그라운드 화면 구성</th>\n",
    "</tr>\n",
    "</table>\n",
    "\n",
    "플레이그라운드는 주어진 데이터를 분류하는 문제를 해결하는 인공 신경망을 만드는 것을 목표로 하고 있어요.<br>\n",
    "플레이그라운드 에서는 데이터나 입력층을 비롯해 여러가지를 조작할 수 있어요.<br>\n",
    "오늘은 [DATA], [FEATURES], [HIDDEN LAYERS]의 세가지 영역만 사용할거에요.<br>\n",
    "\n",
    "플레이그라운드 화면의 왼쪽 [DATA] 영역에서 네 가지의 학습 데이터 분포 형태를 선택할 수 있어요.<br>\n",
    "[FEATURES] 영역에서는 입력값들을 선택할 수 있어요.<br>\n",
    "[HIDDEN LAYERS] 영역에서는 뒤에서 배울 은닉층을 설정할 수 있어요.<br>\n",
    "\n",
    "예제를 통해 사용 방법을 함께 익혀봐요.<br>\n",
    "\n",
    "<table>\n",
    "<tr>\n",
    "    <th><img src=\"https://tmn-bucket-materials-all.s3.ap-northeast-2.amazonaws.com/image/ai/AI-10-08.png\" width=\"500\"></th>\n",
    "</tr>\n",
    "<tr>\n",
    "    <th>(그림8) 예제</th>\n",
    "</tr>\n",
    "</table>\n",
    "\n",
    "그림과 같이 세 번째 데이터를 선택하고 입력층에는 x1과 x2를 선택해주세요.<br>\n",
    "그리고 은닉층(Hidden layers)의 수는 0개로 고정해주세요.<br>\n",
    "나머지 여러가지 세팅들은 기본 설정값 그대로 두면 되요.<br>\n",
    "\n",
    "<table>\n",
    "<tr>\n",
    "    <th><img src=\"https://tmn-bucket-materials-all.s3.ap-northeast-2.amazonaws.com/image/ai/AI-10-09.gif\" width=\"500\"></th>\n",
    "</tr>\n",
    "<tr>\n",
    "    <th>(그림9) 예제 학습 화면</th>\n",
    "</tr>\n",
    "</table>\n",
    "\n",
    "학습 시작 버튼을 누르면 버튼 옆의 학습 횟수가 증가해요.<br>\n",
    "인공 신경망이 학습이 진행되면 하얀색 직선이 생기면서 그 직선을 경계로 주황색 영역과 파란색 영역으로 나뉘는 것을 볼 수 있을거에요.<br>\n",
    "학습이 진행됨에 따라서 OUTPUT 아래의 Test loss 값이 점점 작아지는 것을 볼 수 있을거에요.<br>\n",
    "Test loss 값은 현재의 인공 신경망이 데이터를 얼마나 잘 분류 했는지를 나타내는 지표에요. 이 값이 작을수록 잘 분류한 거에요.<br>"
   ]
  },
  {
   "cell_type": "markdown",
   "id": "4fb85f5c-57bc-4e3b-b09c-39ded773c386",
   "metadata": {
    "deletable": false,
    "editable": false,
    "tags": []
   },
   "source": [
    "<div style=\"padding: 15px; border: 5px solid transparent; border-color: transparent; margin-bottom: 20px; border-radius: 4px; color: #3c763d; border-color: #d6e9c6; font-weight: bold;\">\n",
    "<h2 style='font-weight: bold'>4. 단층 퍼셉트론의 한계점은 무엇일까?</h2>\n",
    "</div>"
   ]
  },
  {
   "cell_type": "markdown",
   "id": "c51a0daf-08e7-4783-b1d2-3b3650f72ecc",
   "metadata": {
    "deletable": false,
    "editable": false
   },
   "source": [
    "실생활에서는 단층 퍼셉트론으로 해결할 수 없는 문제도 존재해요.<br>\n",
    "분포형태 1을 볼까요?<br>\n",
    "분포형태 1은 분포형태 3보다 조금 더 복잡한 분포를 가지고 있어요.<br>\n",
    "이 분포를 분포형태 3처럼 직선 하나로 두 데이터를 나눌 수 있을까요??<br>\n",
    "\n",
    "정답부터 말하자면 이 데이터 분포는 하나의 직선으로 나눌 수 없어요.<br>\n",
    "인공신경망을 학습시키면 학습 횟수가 늘어나도 Test loss가 줄어들지 않는 것을 확인할 수 있어요.<br>\n",
    "이처럼 단층 퍼셉트론은 복잡한 데이터, 특히 비선형 데이터(직선으로 나눌 수 없는 데이터)를 잘 학습하지 못한다는 문제가 있어요.<br>\n",
    "그러면 이러한 데이터는 어떻게 학습할 수 있을까요?<br>\n",
    "\n",
    "이를 위해서 2가지 방법을 사용할 수 있어요.<br>\n",
    "첫 번째로 비선형인 입력을 주는 방법이 있어요. x1,x2 대신 x1^2과 x2^2을 입력으로 줘볼까요?<br>\n",
    "\n",
    "<table>\n",
    "<tr>\n",
    "    <th><img src=\"https://tmn-bucket-materials-all.s3.ap-northeast-2.amazonaws.com/image/ai/AI-10-10.PNG\" width=\"500\"></th>\n",
    "</tr>\n",
    "<tr>\n",
    "    <th>(그림10) x1^2, x2^2 사용해서 분포형태1 해결하기</th>\n",
    "</tr>\n",
    "</table>\n",
    "\n",
    "위의 그림처럼 얼마 학습시키지 않아도 Test loss가 0에 가까워지고 데이터가 잘 나뉘어 진 것을 볼 수 있어요.<br>\n",
    "두 번째는 다층 퍼셉트론을 사용하는 방법이 있답니다.<br>\n",
    "다층 퍼셉트론에 대해서는 뒤에서 좀 더 자세하게 알아보도록 해요.<br>"
   ]
  },
  {
   "cell_type": "markdown",
   "id": "6369f6e0-84e3-463d-83d9-7683461b095c",
   "metadata": {
    "deletable": false,
    "editable": false
   },
   "source": [
    "<div style=\"padding: 15px; border: 5px solid transparent; border-color: transparent; margin-bottom: 20px; border-radius: 4px; color: #8a6d3b;  border-color: #faebcc; font-weight: bold;\">\n",
    "    <div style=\"font-weight: bold; font-size: 20px\">✏️ [문제2]</div>\n",
    "    <br>\n",
    "분포형태 2를 분류하는 단층 퍼셉트론을 만들어봅시다.<br>\n",
    "아래에 텍스트 셀을 추가하고 결과를 붙여넣기 해주세요.<br>\n",
    "(주의 : 은닉층(Hidden layer)를 추가하면 안됩니다!)\n",
    "\n",
    "<table>\n",
    "<tr>\n",
    "    <th><img src=\"https://tmn-bucket-materials-all.s3.ap-northeast-2.amazonaws.com/image/ai/AI-10-11.png\" width=\"300\"></th>\n",
    "</tr>\n",
    "<tr>\n",
    "    <th>분포형태2 그림</th>\n",
    "</tr>\n",
    "</table>\n",
    "</div>"
   ]
  },
  {
   "cell_type": "markdown",
   "id": "fb4a920c-e62c-4f03-b001-34dabe9d87c4",
   "metadata": {
    "deletable": false,
    "editable": false,
    "tags": []
   },
   "source": [
    "<div style=\"padding: 15px; border: 5px solid transparent; border-color: transparent; margin-bottom: 20px; border-radius: 4px; color: #3c763d; border-color: #d6e9c6; font-weight: bold;\">\n",
    "<h2 style='font-weight: bold'>5. 다층 퍼셉트론의 구조를 이해해보자.</h2>\n",
    "</div>"
   ]
  },
  {
   "cell_type": "markdown",
   "id": "dd0ffad6-6dc2-4017-8418-72d3cb052000",
   "metadata": {
    "deletable": false,
    "editable": false
   },
   "source": [
    "다층 퍼셉트론은 분포형태 1이나 2와 같이 하나의 직선으로 분류할 수 없는 데이터를 분류하기 위해서 사용할 수 있어요.<br>\n",
    "다층 퍼셉트론은 단층 퍼셉트론의 입력층과 출력층 사이에 새롭게 층을 추가하는 방법으로 만들 수 있어요.<br>\n",
    "새롭게 추가된 층들을 은닉층(Hidden Layer)라고 해요.<br>\n",
    "은닉층을 몇개 두어야 할 지, 각각의 은닉층에 몇 개의 퍼셉트론을 설정할 지는 인공 신경망을 만드는 여러분의 선택에 달려 있어요.<br>\n",
    "하나 주의해야 할 점은 은닉층이 많고, 퍼셉트론이 많을수록 항상 좋은 결과를 내는 것은 아니라는 거에요.<br>\n",
    "은닉층이 늘어나고 퍼셉트론이 많아지면 대체로 학습 시키는 데 걸리는 시간이 늘어난다는 단점도 있어요.<br>\n",
    "\n",
    "그럼 예제를 통해 분포형태 1을 다층 퍼셉트론을 이용해서 해결해 볼까요?<br>\n",
    "(주의 : 해당 예제에서는 x1, x2만 입력으로 사용합니다)<br>\n",
    "\n",
    "<table>\n",
    "<tr>\n",
    "    <th><img src=\"https://tmn-bucket-materials-all.s3.ap-northeast-2.amazonaws.com/image/ai/AI-10-12.PNG\" width=\"500\"></th>\n",
    "</tr>\n",
    "<tr>\n",
    "    <th>(그림11) 다층 퍼셉트론을 이용해서 분포형태1 해결하기</th>\n",
    "</tr>\n",
    "</table>\n",
    "\n",
    "5개의 퍼셉트론을 가지는 은닉층 하나와 2개의 퍼셉트론을 가지는 은닉층을 만들어 봅시다.<br>\n",
    "이후 학습을 시작하면 학습 횟수에 따라 두 데이터의 영역이 계속해서 변하는 것을 확인할 수 있을거에요.<br>\n",
    "그리고 학습 횟수가 충분히 늘어나면 비선형 입력을 사용했을 때 처럼 데이터가 잘 분류되는 것을 볼 수 있어요.<br>\n",
    "이처럼 복잡한 데이터를 분류하는 문제를 풀기 위해서 은닉층을 적절히 추가해 다층 퍼셉트론을 사용하는 방법을 사용할 수 있답니다.<br>"
   ]
  },
  {
   "cell_type": "markdown",
   "id": "e2abd632-e192-4ebf-b1d2-ff5a7385bd05",
   "metadata": {
    "deletable": false,
    "editable": false
   },
   "source": [
    "<div style=\"padding: 15px; border: 5px solid transparent; border-color: transparent; margin-bottom: 20px; border-radius: 4px; color: #8a6d3b;  border-color: #faebcc; font-weight: bold;\">\n",
    "    <div style=\"font-weight: bold; font-size: 20px\">✏️ [문제3]</div>\n",
    "    <br>\n",
    "분포형태 2를 분류하는 단층 퍼셉트론을 만들어봅시다.<br>\n",
    "아래에 텍스트 셀을 추가하고 결과를 붙여넣기 해주세요.<br>\n",
    "(주의 : 입력값으로 x1과 x2만을 사용합니다.)<br>\n",
    "\n",
    "<table>\n",
    "<tr>\n",
    "    <th><img src=\"https://tmn-bucket-materials-all.s3.ap-northeast-2.amazonaws.com/image/ai/AI-10-11.png\" width=\"300\"></th>\n",
    "</tr>\n",
    "<tr>\n",
    "    <th>분포형태2 그림</th>\n",
    "</tr>\n",
    "</table>\n",
    "</div>"
   ]
  },
  {
   "cell_type": "markdown",
   "id": "b8f72d78-8aa6-45fc-bcdd-82847b17002f",
   "metadata": {
    "deletable": false,
    "editable": false
   },
   "source": [
    "<div style=\"padding: 15px; border: 5px solid transparent; border-color: transparent; margin-bottom: 20px; border-radius: 4px; color: #8a6d3b;  border-color: #faebcc; font-weight: bold;\">\n",
    "    <div style=\"font-weight: bold; font-size: 20px\">✏️ [문제4]</div>\n",
    "    <br>\n",
    "분포형태 4를 분류하는 다층 퍼셉트론을 만들어봅시다.<br>\n",
    "입력값과 은닉층, 퍼셉트론의 수를 적절하게 조절하여 학습횟수가 500회 이하일 때에 가장 좋은 성능을 가지도록 만들어 보고 친구들과 비교해봅시다.<br>\n",
    "아래에 텍스트 셀을 추가하고 결과를 붙여넣기 해주세요.<br>\n",
    "(주의 : 같은 인공 신경망이라도 학습 시킬 때 마다 다른 결과가 나올 수 있습니다.)<br>\n",
    "\n",
    "<table>\n",
    "<tr>\n",
    "    <th><img src=\"https://tmn-bucket-materials-all.s3.ap-northeast-2.amazonaws.com/image/ai/AI-10-13.png\" width=\"300\"></th>\n",
    "</tr>\n",
    "<tr>\n",
    "    <th>분포형태4 그림</th>\n",
    "</tr>\n",
    "</table>\n",
    "</div>"
   ]
  },
  {
   "cell_type": "markdown",
   "id": "3d671c0a-8e7e-4a19-82ba-da46602864cc",
   "metadata": {
    "deletable": false,
    "editable": false
   },
   "source": [
    "<div style=\"padding: 15px; border: 5px solid transparent; border-color: transparent; margin-bottom: 20px; border-radius: 4px; color: #31708f; border-color: #bce8f1;\">\n",
    "    <div style=\"font-weight: bold; font-size: 20px\">🚄 더 해보기</div>\n",
    "[DATA] 영역의 Noise 값은 데이터의 학습을 방해하는 노이즈를 데이터에 얼마나 포함시킬지를 정합니다.<br>\n",
    "Noise 값을 높여도 내가 만든 인공 신경망이 잘 학습하는 지 확인해봅시다.<br>\n",
    "아래에 텍스트 셀을 추가하고 결과를 붙여넣기 해주세요.<br>\n",
    "<br><br>\n",
    "<table>\n",
    "<tr>\n",
    "    <th><img src=\"https://tmn-bucket-materials-all.s3.ap-northeast-2.amazonaws.com/image/ai/AI-10-14.png\" width=\"500\"></th>\n",
    "</tr>\n",
    "<tr>\n",
    "    <th>(그림13) 노이즈 변경하기</th>\n",
    "</tr>\n",
    "</table>\n",
    "    \n",
    "</div>"
   ]
  }
 ],
 "metadata": {
  "kernelspec": {
   "display_name": "Python 3 (ipykernel)",
   "language": "python",
   "name": "python3"
  },
  "language_info": {
   "codemirror_mode": {
    "name": "ipython",
    "version": 3
   },
   "file_extension": ".py",
   "mimetype": "text/x-python",
   "name": "python",
   "nbconvert_exporter": "python",
   "pygments_lexer": "ipython3",
   "version": "3.11.3"
  },
  "read_only": true
 },
 "nbformat": 4,
 "nbformat_minor": 5
}
