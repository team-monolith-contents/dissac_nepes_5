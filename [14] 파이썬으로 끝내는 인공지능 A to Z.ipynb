{
 "cells": [
  {
   "cell_type": "markdown",
   "id": "ce7d7128",
   "metadata": {
    "tags": []
   },
   "source": [
    "<div style=\"padding: 15px; border: 5px solid transparent; border-color: transparent; margin-bottom: 20px; border-radius: 4px; color: #3c763d; background-color: #dff0d8; border-color: #d6e9c6; font-weight: bold;\">\n",
    "    <br><br>\n",
    "    <div style=\"font-weight: bold; font-size: 40px\">파이썬으로 끝내는 인공지능 A to Z</div>\n",
    "    <div style=\"font-weight: bold; font-size: 20px\">[14] 결정을 이끄는 나무, 결정트리의 세계</div>\n",
    "    <hr style=\"width:80%;text-align:left;margin-left:0;border:0.5px solid green\">\n",
    "    <br>\n",
    "    &#x2022; 의사 결정 트리의 활용 목적을 알 수 있다.<br>\n",
    "    &#x2022; 의사 결정 트리의 요소와 학습 원리를 이해할 수 있다.<br>\n",
    "    &#x2022; 의사 결정 트리를 학습하여 데이터를 분류할 수 있다.<br>\n",
    "    &#x2022; 의사 결정 트리의 학습 결과를 분석할 수 있다.<br>\n",
    "</div>"
   ]
  },
  {
   "cell_type": "markdown",
   "id": "8ad6d73c-d0c6-4cfe-b5a3-9a1b0561d4be",
   "metadata": {
    "deletable": false,
    "editable": false,
    "tags": []
   },
   "source": [
    "<div style=\"padding: 15px; border: 5px solid transparent; border-color: transparent; margin-bottom: 20px; border-radius: 4px; color: #3c763d; border-color: #d6e9c6; font-weight: bold;\">\n",
    "<h2 style='font-weight: bold'>1. 의사 결정 트리 (decisoin tree) 이해하기</h2>\n",
    "</div>"
   ]
  },
  {
   "cell_type": "markdown",
   "id": "e8d1ea21-53ce-4345-80ec-6a885a6b4f7d",
   "metadata": {
    "deletable": false,
    "editable": false
   },
   "source": [
    "### **의사 결정 트리는 언제 사용하면 좋을까?**\n",
    "\n",
    "의사 결정 트리는 회귀와 분류 모두 사용될 수 있지만, 주로 분류를 위해 사용됩니다.  \n",
    "> **분류**: 데이터를 범주(category)에 따라 나누는 것\n",
    "\n",
    "정답 라벨이 포함된 학습 데이터를 이용해 의사 결정 트리를 지도학습할 수 있습니다.  \n",
    "학습 데이터를 잘 분류하는 방법을 찾으면 새로운 데이터도 잘 분류할 수 있을 겁니다.\n",
    "> **지도학습**: 데이터에 대한 명시적인 정답이 주어진 상태에서 학습하는 방식\n",
    "\n",
    "의사 결정 트리는 다음 두가지 장점을 가지고 있습니다.  \n",
    "> * 분류 과정이 직관적이고 **해석이 쉽다**.  \n",
    "> * 데이터 가공에 따른 영향이 적기 때문에 **전처리 과정이 간단하다**.\n",
    "\n",
    "따라서 의사 결정 트리는 데이터를 범주에 따라 분류해야하고,  \n",
    "각 데이터를 분류하는 기준을 정확히 알고 싶을 때 사용하면 좋습니다.  "
   ]
  },
  {
   "cell_type": "markdown",
   "id": "56856cf6-7da9-4d80-83d1-bd495cee9a9e",
   "metadata": {
    "deletable": false,
    "editable": false
   },
   "source": [
    "<div style=\"padding: 15px; border: 5px solid transparent; border-color: transparent; margin-bottom: 20px; border-radius: 4px; color: #8a6d3b;  border-color: #faebcc; font-weight: bold;\">\n",
    "    <div style=\"font-weight: bold; font-size: 20px\">✏️ [문제1]</div>\n",
    "    <br>\n",
    "의사 결정 트리를 활용하기 좋은 문제 상황을 적어봅시다.\n",
    "<br><br>\n",
    "(예시) 수익률이 높은 상품의 특성을 찾기 위해 상품의 여러 특징을 데이터로 하여 수익률을 상/중/하로 나누어 분류한다.<br>\n",
    "의사 결정 트리를 학습하고 나면 수익률을 결정하는 기준을 확인할 수 있기 때문에 상품 개발에 도움을 받을 수 있다. \n",
    "</div>"
   ]
  },
  {
   "cell_type": "raw",
   "id": "146f9df7-ba4f-4449-82c8-10cebce07916",
   "metadata": {},
   "source": [
    " 👉 \n",
    " 👉 "
   ]
  },
  {
   "cell_type": "markdown",
   "id": "1fded8cf-7158-4847-95eb-b203f28db7d9",
   "metadata": {
    "deletable": false,
    "editable": false,
    "tags": []
   },
   "source": [
    "### **의사 결정 트리의 요소**\n",
    "**의사 결정 트리는 '트리'라는 데이터 구조를 이루고 있습니다.**  \n",
    "🌳 트리는 나무를 뒤집어 높은 모양이라서 붙여진 이름입니다!\n",
    "\n",
    "다음 그림을 보고 트리 구조의 구성 요소를 확인해 봅시다.\n",
    " \n",
    "<table>\n",
    "<tr>\n",
    "    <th><img src=\"https://lh3.google.com/u/0/d/1RuWrwPeYFEZHV8p6oWC0R_Pc-sS9dyWG=w2560-h1374-iv3\" width=\"700\"></th>\n",
    "    </tr>\n",
    "<tr>\n",
    "    <th>트리 구조의 구성 요소</th>\n",
    "</tr>\n",
    "</table>\n",
    "\n",
    "> * 최상위 노드(root): 가장 상위의 시작 노드\n",
    "> * 간선(edge): 노드와 노드 사이를 연결하는 선\n",
    "> * 부모 노드 (parent node): 자식 노드의 상위 노드\n",
    "> * 자식 노드 (child node): 부모 노드로부터 분리된 하위 노드\n",
    "> * 단말 노드 (leaf node): 자식이 없는 마지막 노드\n",
    "> * 깊이 (depth): 최상위 노드부터 가장 하단의 단말 노드까지 층의 수"
   ]
  },
  {
   "cell_type": "markdown",
   "id": "cc29e301-50e7-46d4-932f-0754b2bbad47",
   "metadata": {
    "deletable": false,
    "editable": false,
    "jp-MarkdownHeadingCollapsed": true,
    "tags": []
   },
   "source": [
    "**의사 결정 트리는 전체 데이터를 부모 노드의 조건에 따라 둘로 나누는 것을 반복하여 데이터를 분류합니다.**  \n",
    "> * 부모 노드의 조건에 해당하는 데이터는 왼쪽의 자식노드로 이동\n",
    "> * 부모 노드의 조건에 맞지 않는 데이터는 오른쪽의 자식노드로 이동\n",
    "> \n",
    "다음 그림을 보고 네 동물을 분류하는 의사 결정 트리의 분류 과정을 확인해 봅시다. \n",
    "<table>\n",
    "<tr>\n",
    "    <th><img src=\"https://lh3.google.com/u/0/d/1xCfpQxL_zLzB_rdwcbNsmYaoE3IMeCg5=w942-h904-iv2\" width=\"700\"></th>\n",
    "    </tr>\n",
    "<tr>\n",
    "    <th>의사 결정 트리(gif)</th>\n",
    "</tr>\n",
    "</table>\n",
    "\n"
   ]
  },
  {
   "cell_type": "markdown",
   "id": "afbf0533-514d-49d7-8658-a3d40542d3eb",
   "metadata": {
    "deletable": false,
    "editable": false
   },
   "source": [
    "<div style=\"padding: 15px; border: 5px solid transparent; border-color: transparent; margin-bottom: 20px; border-radius: 4px; color: #8a6d3b;  border-color: #faebcc; font-weight: bold;\">\n",
    "    <div style=\"font-weight: bold; font-size: 20px\">✏️ [문제2]</div>\n",
    "    <br>\n",
    "문제1에서 생각한 문제 상황에 의사 결정 트리를 이용할 때 사용될 수 있는 노드의 분류 기준을 예상해 봅시다.\n",
    "<br><br>\n",
    "(예시) 상품의 겉 포장지에 연예인의 얼굴을 프린트하였다.\n",
    "</div>"
   ]
  },
  {
   "cell_type": "raw",
   "id": "3de44692-b440-4f0a-91d1-1cd118713854",
   "metadata": {},
   "source": [
    " 👉 \n",
    " 👉 "
   ]
  },
  {
   "cell_type": "markdown",
   "id": "994ba22e-ff06-42bb-b28c-303d5b7075f8",
   "metadata": {
    "deletable": false,
    "editable": false
   },
   "source": [
    "### **의사 결정 트리 학습 원리**\n",
    "\n",
    "**결정 트리 알고리즘은 데이터를 분류하는 가장 좋은 기준들을 찾아내도록 학습됩니다.**  \n",
    "**좋은 기준이란 섞여있는 데이터를 나누어 불순도를 낮추는 것입니다.**\n",
    "\n",
    "한데 섞여있는 바둑알과 장기알을 용도에 맞게 분류하고 싶습니다.  \n",
    "다음 그림을 보고 두 기준 중 데이터를 잘 나눈 것은 무엇인지 생각해봅시다.  \n",
    "그리고 두 결과 중 데이터의 불순도가 더 낮은 것은 어느 쪽인지 생각해봅시다.\n",
    "\n",
    "<table>\n",
    "<tr>\n",
    "    <th><img src=\"https://lh3.google.com/u/0/d/1Wiy6RBhhi2HLrHbiiz2MnJhxfUde4wqn=w1029-h904-iv1\" width=\"600\"></th>\n",
    "    </tr>\n",
    "<tr>\n",
    "    <th>여러 분류 기준으로 데이터 나누기(gif)</th>\n",
    "</tr>\n",
    "</table>\n",
    "\n",
    "**[결과 정리]**\n",
    "> * 색상으로 나누면 한쪽의 결과에는 여전히 바둑알과 장기알이 섞여 있어 불순도가 높음.\n",
    "> * 모양으로 나누면 양쪽에 각각 바둑알 혹은 장기알 만이 남아 불순도가 가장 낮은 상태로 분류됨."
   ]
  },
  {
   "cell_type": "markdown",
   "id": "bb889439-6225-4376-a792-f116b34f0ec9",
   "metadata": {
    "deletable": false,
    "editable": false
   },
   "source": [
    "**결정 트리 알고리즘의 순서를 확인해 봅시다.**\n",
    "> ① 최상위 노드의 전체 데이터를 둘로 나누었을때 불순도가 가장 낮아지는 분류 기준을 찾는다.  \n",
    "> ② 위의 기준에 따라 데이터를 둘로 나누어 자식 노드를 만든다.  \n",
    "> ③ 자식 노드는 새로운 부모 노드가 되고 해당 데이터를 이용해 ①, ②를 반복한다.  \n",
    "> ④ 자식 노드 데이터의 불순도가 0이 되거나 설정된 최대 깊이에 도달하면 분류를 멈춘다.\n"
   ]
  },
  {
   "cell_type": "markdown",
   "id": "e7ee8e95-f789-4f9c-90a1-bb49a03a885e",
   "metadata": {
    "deletable": false,
    "editable": false
   },
   "source": [
    "<div style=\"padding: 15px; border: 5px solid transparent; border-color: transparent; margin-bottom: 20px; border-radius: 4px; color: #8a6d3b;  border-color: #faebcc; font-weight: bold;\">\n",
    "    <div style=\"font-weight: bold; font-size: 20px\">✏️ [문제3]</div>\n",
    "    <br>\n",
    "    \n",
    "다음 환자들의 특징을 이용해 진단명에 맞게 잘 분류할 수 있는 가장 깊이가 얕은 의사 결정 트리를 만들어 봅시다.\n",
    "    \n",
    "|환자 번호|진단명|체온|통증 부위|목 쉼 기간|기침 기간|\n",
    "|---|---|---|---|---|---|\n",
    "|1|감기|36도|목|0일|1일|\n",
    "|2|독감|39도|목|0일|2일|\n",
    "|3|폐렴|39도|목|1일|2일|\n",
    "|4|인후염|38도|목|0일|0일|\n",
    "|5|갑상샘 저하증|37도|목|14일|0일|\n",
    "|6|성대 감염|36도|목|3일|3일|\n",
    "\n",
    "(예시)\n",
    "\n",
    "> 체온 37도 이하\n",
    ">> 목 쉼 기간 3일 이하\n",
    ">>> 기침 기간 2일 이하 --------- 감기  \n",
    ">>> 기침 기간 2일 초과 --------- 성대 감염  \n",
    ">>\n",
    ">> 목 쉼 기간 3일 초과 --------- 갑성샘 저하증\n",
    ">\n",
    "> 체온 37도 초과\n",
    ">> 목 쉼 기간 0일 이하 \n",
    ">>> 기침 기간 1일 이하 --------- 인후염  \n",
    ">>> 기침 기간 1일 초과 --------- 독감\n",
    ">>\n",
    ">> 목 쉼 기간 0일 초과 --------- 폐렴\n",
    "</div>"
   ]
  },
  {
   "cell_type": "raw",
   "id": "702a69a7-d093-4bb7-a67b-cbf84ce0b708",
   "metadata": {},
   "source": [
    " 👉 \n",
    " 👉 "
   ]
  },
  {
   "cell_type": "markdown",
   "id": "563f41cc-dc56-4a81-a283-bc793fa4f7a5",
   "metadata": {
    "deletable": false,
    "editable": false,
    "tags": []
   },
   "source": [
    "<div style=\"padding: 15px; border: 5px solid transparent; border-color: transparent; margin-bottom: 20px; border-radius: 4px; color: #3c763d; border-color: #d6e9c6; font-weight: bold;\">\n",
    "<h2 style='font-weight: bold'>2. 의사 결정 트리 (decisoin tree) 실습하기</h2>\n",
    "</div>"
   ]
  },
  {
   "cell_type": "markdown",
   "id": "0333a4ab-863e-42e5-9254-535ad14f1a1a",
   "metadata": {
    "deletable": false,
    "editable": false
   },
   "source": [
    "### **문제 상황과 의사 결정 트리**\n",
    "\n",
    "**[문제 상황]** \n",
    "> 목이 아프거나 목이 쉬거나 기침이 많은 것은 여러 질병에서 공통적으로 나타나는 증상이다.  \n",
    "> 그동안 쌓인 데이터를 통해 앞의 세 증상의 정도와 체온을 이용하면 질병이 잘 분류되는지,  \n",
    "> 그리고 분류 기준은 무엇인지 정확히 알아내려고 한다.  \n",
    "\n",
    "**[의사 결정 트리를 이용하는 이유]**\n",
    "> 진단명 라벨을 이용해 지도학습할 수 있으면서,  \n",
    "> 질병의 종류를 분류하는 목적의 모델이어야 하고,    \n",
    "> 각 질병으로 분류된 이유를 정확히 알 수 있는  머신러닝 모델이 필요하기 때문이다."
   ]
  },
  {
   "cell_type": "markdown",
   "id": "fcf6d99c-7139-4f47-9077-d5ccce44f72f",
   "metadata": {
    "deletable": false,
    "editable": false
   },
   "source": [
    "### **데이터 준비**\n",
    "\n",
    "분류를 위한 의사 결정 트리를 학습하기 위해서는 다음 두 데이터가 필요합니다.\n",
    "\n",
    "> * **학습데이터**: 정답(진단명)과 특징(증상의 정도)으로 이루어져 있어 의사 결정 트리를 지도학습에 사용할 수 있다.\n",
    "> * **실험데이터**: 학습된 의사 결정 트리에 특징(증상의 정도)을 입력하여 예측 결과를 얻은 후 정답(진단명)과 비교하면 학습이 잘 되었는지 확인할 수 있다. \n",
    "\n",
    "👩‍💻 Pandas 라이브러리를 이용해 환자정보 데이터를 불러와 정답과 특징으로 나누고 또한 학습, 실험에 사용할 데이터를 나누어 보겠습니다."
   ]
  },
  {
   "cell_type": "code",
   "execution_count": null,
   "id": "9d8fb102-9971-425d-8e05-4e2959692aed",
   "metadata": {},
   "outputs": [],
   "source": [
    "# 예제 1: 데이터 확인하기\n",
    "\n",
    "import pandas as pd  # 판다스 라이브러리 불러오기\n",
    "\n",
    "patients = pd.read_csv('https://url.kr/4yluen')  # 저장된 데이터 파일 읽어오기\n",
    "\n",
    "patients.head(3)  # 데이터 상위 3줄 출력하기"
   ]
  },
  {
   "cell_type": "markdown",
   "id": "bd954cc5-ec66-4edd-8774-a9118c619b57",
   "metadata": {
    "deletable": false,
    "editable": false
   },
   "source": [
    "⬆ **환자 정보 데이터는 정답에 해당하는 '진단명'과 특징에 해당하는 '체온', '목 통증 여부', '목 쉼 기간', '기침 기간'이 포함되어 있습니다.**\n",
    "\n",
    "> * 진단명: 감기/ 독감/ 인후염/ 성대 감염/ 폐렴/ 갑상샘 저하증\n",
    "> * 체온: 섭씨온도로 나타냄\n",
    "> * 목 통증 여부: 통증이 있으면 1, 없으면 0\n",
    "> * 목 쉼 기간: 목이 쉰 기간을 일 수로 나타냄\n",
    "> * 기침 기간: 기침 증상이 나타난 기간을 일 수로 나타냄"
   ]
  },
  {
   "cell_type": "code",
   "execution_count": null,
   "id": "ed60af1b-5f87-4cf6-8edb-bc927872d7ab",
   "metadata": {},
   "outputs": [],
   "source": [
    "# 예제 2: 정답 데이터 숫자로 바꾸기\n",
    "\n",
    "# 각 정답 라벨과 변환할 숫자 지정하기  (예) 감기 -> 0 으로 변환\n",
    "target_dictionary = {'감기': 0, '독감': 1, '인후염': 2, '성대 감염': 3, '폐렴': 4, '갑상샘 저하증': 5}\n",
    "\n",
    "정답_라벨 = list(target_dictionary.keys())  # 정답 라벨 저장해두기\n",
    "\n",
    "patients_target = patients['진단명'].replace(target_dictionary)  # 진단명 데이터를 숫자로 변환하기\n",
    "\n",
    "patients_target  # 데이터 출력하여 확인하기"
   ]
  },
  {
   "cell_type": "markdown",
   "id": "27a9e0dd-88ca-4883-be83-29a019c509b3",
   "metadata": {
    "deletable": false,
    "editable": false
   },
   "source": [
    "⬆ **환자 정보의 정답 라벨이 문자로 되어있지만, 머신러닝 함수는 숫자 데이터만 다룰 수 있기 때문에 숫자로 변환해야 합니다.**\n",
    "\n",
    "> * replace 함수는 Pandas Series, DataFrame의 데이터를 딕셔너리의 정보를 이용해 다른 값으로 변환해줍니다.\n",
    ">> ```판다스데이터.replace({기존값1: 새로운값1, 기존값2: 새로운값2})```"
   ]
  },
  {
   "cell_type": "code",
   "execution_count": null,
   "id": "9da328d1-11bc-4dfe-9187-0e14a3d82a83",
   "metadata": {},
   "outputs": [],
   "source": [
    "# 예제 3: 특징 데이터 지정하기\n",
    "\n",
    "patients_data = patients.drop(['진단명'], axis=1)  # 진단명을 제외한 데이터를 특징 데이터로 사용\n",
    "\n",
    "특징_이름 = patients_data.columns.tolist()  # 특징 데이터의 이름 저장해두기\n",
    "\n",
    "patients_data  # 데이터 출력하여 확인하기"
   ]
  },
  {
   "cell_type": "markdown",
   "id": "de3f20c8-4970-4b0e-8a29-99175bd035a7",
   "metadata": {
    "deletable": false,
    "editable": false
   },
   "source": [
    "⬆ **환자 정보의 특징 데이터는 모두 숫자로 되어 있어 그대로 사용할 수 있습니다.**"
   ]
  },
  {
   "cell_type": "code",
   "execution_count": null,
   "id": "6c9e2d29-d3c1-4252-ad54-bfb5c701492a",
   "metadata": {},
   "outputs": [],
   "source": [
    "# 예제 4: 데이터 학습용/실험용으로 나누기\n",
    "\n",
    "from sklearn.model_selection import train_test_split  # scikit-learn 라이브러리의 학습-실험 데이터를 나누어주는 함수 불러오기\n",
    "\n",
    "# 전체 데이터의 20%를 실험, 80%를 학습에 사용하도록 데이터를 나누기\n",
    "특징_학습 , 특징_실험 , 정답_학습 , 정답_실험 = \\\n",
    "train_test_split(patients_data, patients_target, test_size=0.2,  random_state=1, stratify=patients_target) \n",
    "\n",
    "print('학습데이터 수: ', len(특징_학습))  # 학습데이터 수 확인하기\n",
    "print('실험데이터 수: ', len(특징_실험))  # 실험데이터 수 확인하기"
   ]
  },
  {
   "cell_type": "markdown",
   "id": "64f37d1e-0fae-48f4-b2c6-e70ce37c9e48",
   "metadata": {
    "deletable": false,
    "editable": false
   },
   "source": [
    "⬆ **학습데이터와 실험데이터가 어느 한 특징쪽으로 편향되지 않도록 데이터를 무작위로 섞은 후 나누어야 합니다.**\n",
    "\n",
    "> * scikit-learn 라이브러리의 train_test_split 함수는 데이터를 섞은 후 원하는 비율에 맞게 학습용과 실험용으로 나누어 줍니다.\n",
    "> * stratify 인수에 정답데이터를 지정하면 학습데이터와 실험데이터에서 각 진단명의 비율이 동일하도록 나누어 줍니다.\n",
    ">> ```학습_특징 데이터, 실험_특징 데이터, 학습_정답 데이터, 실험_정답 데이터 = ```  \n",
    ">> ```train_test_split(특징데이터, 정답데이터, test_size=학습데이터의 비율, random_state=랜덤시드, stratify=정답데이터)``` "
   ]
  },
  {
   "cell_type": "markdown",
   "id": "ae882cec-68a9-4955-86d6-42c3e97fa2d1",
   "metadata": {
    "deletable": false,
    "editable": false
   },
   "source": [
    "### **의사 결정 트리 모델 생성하기**\n",
    "\n",
    "Scikit-learn 라이브러리는 다양한 기계학습 모델을 제공합니다.  \n",
    "의사 결정 트리로 된 모델을 생성한 뒤에 학습데이터를 이용해 학습하거나, 실험데이터를 이용해 분류 정확도를 확인할 수 있습니다. \n",
    "> * scikit-learn 라이브러리에서 의사 결정 트리를 이용하려면 다음 선언문을 실행해야 합니다.\n",
    ">> ```from sklearn.tree import DecisionTreeClassifier```\n",
    "> * 의사 결정 트리 모델을 생성할 때에는 몇 가지 조건을 설정할 수 있습니다. \n",
    ">> `model = DecisionTreeClassifier(criterion, max_depth, random_state)`  \n",
    ">>> criterion: 불순도 계산 방법을 'gini' or 'entropy' or 'log_loss' 중 선택  \n",
    ">> max_depth: 트리의 최대 깊이를 선택 혹은 선택하지 않음  \n",
    ">> random_state: 무작위 설정에 필요한 숫자로 같은 숫자를 넣으면 항상 같은 결과를 얻을 수 있습니다.\n",
    "\n",
    "👩‍💻 불순도 계산 방법은 entropy로 선택하고 트리의 최대 깊이는 선택하지 않고 의사 결정 트리 모델을 생성해보도록 합시다.\n",
    "\n",
    "\n"
   ]
  },
  {
   "cell_type": "code",
   "execution_count": null,
   "id": "ff3450d2-b965-4e5a-887a-c39b41f701ea",
   "metadata": {},
   "outputs": [],
   "source": [
    "# 예제 5: 의사 결정 트리 모델 생성하기\n",
    "\n",
    "from sklearn.tree import DecisionTreeClassifier  # scikit-learn 라이브러리의 의사 결정 트리 함수 불러오기\n",
    "\n",
    "# 불순도 entropy를 기준으로 학습하는 의사 결정 트리 모델 생성하기\n",
    "model = DecisionTreeClassifier(criterion='entropy', random_state=123)"
   ]
  },
  {
   "cell_type": "markdown",
   "id": "981a6078-cc75-4a2a-9595-8863a49a35c5",
   "metadata": {
    "deletable": false,
    "editable": false
   },
   "source": [
    "⬆ **entropy는 불순도의 정도를 나타내는 값으로 분류된 데이터가 모두 같은 라벨인 경우에 최솟값 0이 됩니다.**"
   ]
  },
  {
   "cell_type": "markdown",
   "id": "dd22ad9e-c6ab-4516-b924-9d384ecc4289",
   "metadata": {
    "deletable": false,
    "editable": false
   },
   "source": [
    "### **의사 결정 트리 모델 학습 및 검증하기**\n",
    "\n",
    "scikit-learn 라이브러리에서 생성한 기계학습 모델을 데이터를 이용해 학습 및 검증을 할 수 있습니다.  \n",
    "> 생성한 모델을 학습데이터로 학습하려면 fit 함수를 이용합니다.\n",
    ">> ```model.fit(특징_학습데이터, 정답_학습데이터)```\n",
    ">\n",
    "> 학습된 의사결정트리의 깊이를 확인하려면 get_depth 함수를 이용합니다.\n",
    ">> ```depth = model.get_depth()```\n",
    ">\n",
    "> 학습 후 데이터에 대한 분류 정확도를 확인하려면 score 함수를 이용합니다.\n",
    ">> ```accuracy = model.score(특징_실험데이터, 정답_실험데이터)```   \n"
   ]
  },
  {
   "cell_type": "code",
   "execution_count": null,
   "id": "f10ee971-f9a9-4d9b-9304-3e3fa2045a36",
   "metadata": {},
   "outputs": [],
   "source": [
    "# 예제 6: 의사 결정 트리 모델 학습시키기\n",
    "\n",
    "print('의사 결정 트리 학습 시작')\n",
    "model.fit(특징_학습, 정답_학습)  #모델에 학습데이터를 넣어서 학습 시키기\n",
    "print('의사 결정 트리 학습 완료')"
   ]
  },
  {
   "cell_type": "code",
   "execution_count": null,
   "id": "e958b45f-083c-418c-9790-52a929383de0",
   "metadata": {},
   "outputs": [],
   "source": [
    "# 예제 7: 학습된 의사 결정 트리 모델 깊이 확인하기\n",
    "\n",
    "depth = model.get_depth()\n",
    "print('학습된 트리의 깊이:', depth)"
   ]
  },
  {
   "cell_type": "code",
   "execution_count": null,
   "id": "1d969a87-8620-47e5-bd82-7b6790e4ed5e",
   "metadata": {},
   "outputs": [],
   "source": [
    "# 예제 8: 학습된 의사 결정 트리 모델의 정확도 확인하기\n",
    "\n",
    "# 학습데이터에 대한 정확도\n",
    "print('학습데이터에 대한 예측 결과 정확도: ', model.score(특징_학습, 정답_학습)) # train accuracy \n",
    "\n",
    "# 실험데이터에 대한 정확도\n",
    "print('실험데이터에 대한 예측 결과 정확도: ', model.score(특징_실험, 정답_실험)) # test accuracy "
   ]
  },
  {
   "cell_type": "markdown",
   "id": "82d642db-d627-4d0a-a210-0ec6b8d9e74f",
   "metadata": {
    "deletable": false,
    "editable": false
   },
   "source": [
    "⬆ **학습 결과 총 깊이가 7인 트리가 만들어졌고, 이 트리는 학습데이터를 모두 라벨에 맞게 분류할 수 있지만 실험데이터 중 약 89%만 올바르게 분류했습니다.**"
   ]
  },
  {
   "cell_type": "markdown",
   "id": "7b83ed38-5804-4d80-9c7d-5746f72202d4",
   "metadata": {
    "deletable": false,
    "editable": false
   },
   "source": [
    "### **가지 치기**\n",
    "\n",
    "학습데이터에 대한 정확도가 100%인 모델을 얻었지만, 이것이 가장 좋은 모델이라고 확신해서는 안됩니다.  \n",
    "현실의 데이터에는 항상 오차가 섞여 있기 때문에 이러한 오차를 정확히 분류하려고 모델을 복잡하게 만들수록 실험데이터에 대한 정확도가 오히려 떨어질 수 있습니다.  \n",
    "이것을 **과적합**이라고 부릅니다. \n",
    "\n",
    "때문에 더 간단한 모델을 만들어도 실험데이터에 대한 정확도가 많이 떨어지지 않는지 확인하는 것이 좋습니다.  \n",
    "의사 결정 트리의 경우 최대 깊이를 작게 설정하여 더 간단한 모델을 만들 수 있습니다.  \n",
    "이를 가지치기라고 부릅니다.\n",
    "\n",
    "모델을 설정할 때 최대 깊이를 7이하의 값으로 설정하여 학습 결과를 확인해 봅시다."
   ]
  },
  {
   "cell_type": "code",
   "execution_count": null,
   "id": "9badba96-86ea-4f6b-9210-55442affe1f8",
   "metadata": {},
   "outputs": [],
   "source": [
    "# 예제 9: 최대 깊이가 7이하인 의사 결정 트리 모델 학습하기\n",
    "\n",
    "for i in range(7, 1, -1):\n",
    "    # 의사 결정 트리 모델 생성\n",
    "    model = DecisionTreeClassifier(criterion='entropy', max_depth=i, random_state=123)\n",
    "    \n",
    "    # 생성된 모델 학습\n",
    "    model.fit(특징_학습, 정답_학습)\n",
    "    \n",
    "    # 생성된 모델의 깊이 확인\n",
    "    depth = model.get_depth()\n",
    "    print('학습된 트리의 깊이:', depth)\n",
    "    \n",
    "    # 학습데이터에 대한 정확도\n",
    "    print('학습데이터에 대한 예측 결과 정확도: ', model.score(특징_학습, 정답_학습))\n",
    "    \n",
    "    # 실험데이터에 대한 정확도\n",
    "    print('실험데이터에 대한 예측 결과 정확도: ', model.score(특징_실험, 정답_실험))\n",
    "    print('\\n') # 줄바꿈"
   ]
  },
  {
   "cell_type": "markdown",
   "id": "ef12096a-f45e-49cd-8a06-25aef91c06c9",
   "metadata": {
    "deletable": false,
    "editable": false
   },
   "source": [
    "⬆ **학습 결과, 오히려 가지치기를 통해 깊이를 줄이면 실험데이터에 대한 정확도가 늘어나는 것을 확인할 수 있습니다.**"
   ]
  },
  {
   "cell_type": "markdown",
   "id": "06b1783e-6588-4c7c-8032-38961c4e81df",
   "metadata": {
    "deletable": false,
    "editable": false,
    "tags": []
   },
   "source": [
    "<div style=\"padding: 15px; border: 5px solid transparent; border-color: transparent; margin-bottom: 20px; border-radius: 4px; color: #3c763d; border-color: #d6e9c6; font-weight: bold;\">\n",
    "<h2 style='font-weight: bold'>3. 의사 결정 트리 (decision tree) 분석하기</h2>\n",
    "</div>"
   ]
  },
  {
   "cell_type": "markdown",
   "id": "90de87ca-b6ee-4245-835c-52a8c3664dfc",
   "metadata": {
    "deletable": false,
    "editable": false
   },
   "source": [
    "👩‍💻 학습 결과, 깊이가 4인 의사 결정 트리 모델이 간단하면서 정확도가 높은 것으로 파악되었습니다.  \n",
    "해당 모델이 데이터를 분류한 기준과 결과를 자세히 분석해 봅시다. "
   ]
  },
  {
   "cell_type": "code",
   "execution_count": null,
   "id": "20570f19-5d52-4a9d-93dc-2c32eae04106",
   "metadata": {},
   "outputs": [],
   "source": [
    "# 예제 10: 최대 깊이가 4인 의사 결정 트리 모델 학습하기\n",
    "\n",
    "# 최대 깊이가 4인 의사 결정 트리 모델 생성\n",
    "model = DecisionTreeClassifier(criterion='entropy', max_depth=4, random_state=123)\n",
    "\n",
    "# 생성된 모델 학습\n",
    "model.fit(특징_학습.values, 정답_학습.values)"
   ]
  },
  {
   "cell_type": "markdown",
   "id": "c8d6eec1-fba7-4672-bb81-23402249daab",
   "metadata": {
    "deletable": false,
    "editable": false
   },
   "source": [
    "### **분류 기준과 결과 확인하기**\n",
    "\n",
    "의사 결정 트리의 가장 큰 장점은 분류 기준을 정확히 알 수 있다는 것입니다.  \n",
    "scikit-learn 라이브러리는 학습된 트리의 노드를 그림으로 보여주는 함수를 제공합니다.  \n",
    "\n",
    "> * scikit-learn 라이브러리에서 트리를 그리려면 다음 선언문을 실행해야 합니다.\n",
    ">> ```from sklearn.tree import plot_tree```\n",
    "> * 트리를 그릴 때 보기 좋게 하기 위해 몇 가지 정보를 입력해주어야 합니다. \n",
    ">> `plot_tree(decision_tree, feature_names, class_names, filled)`  \n",
    ">>> decision_tree: 학습된 의사 결정 트리 모델  \n",
    ">>> feature_names: 특징 데이터의 이름  \n",
    ">> class_names: 정답 라벨  \n",
    ">> filled: True로 설정하면 불순도가 낮아질수록 진한 색상으로 노드를 색칠\n"
   ]
  },
  {
   "cell_type": "code",
   "execution_count": null,
   "id": "f1087f49-c847-479d-b8c9-efa445ed2902",
   "metadata": {},
   "outputs": [],
   "source": [
    "# 예제 11: 학습된 트리 그림으로 확인하기\n",
    "\n",
    "from sklearn.tree import plot_tree  # scikit-learn 라이브러리의 트리 그리기 함수 불러오기\n",
    "import matplotlib.pyplot as plt  # matplot 라이브러리의 그림 출력 함수 불러오기\n",
    "\n",
    "plt.figure(figsize = (16,8))  # 그림 크기를 16인치*8인치로 지정하기\n",
    "plot_tree(model, feature_names = 특징_이름, class_names = 정답_라벨, filled=True) \n",
    "plt.show()  # 그림을 화면에 출력하기"
   ]
  },
  {
   "cell_type": "markdown",
   "id": "259fc029-57e7-4f6b-8aaf-3e29baf4ede3",
   "metadata": {
    "deletable": false,
    "editable": false
   },
   "source": [
    "트리 그림을 통해 다음과 같은 각 노드의 정보를 얻을 수 있습니다. \n",
    "> * 데이터를 분류하는 기준 (부모 노드에만 존재)  \n",
    "> * 불순도  \n",
    "> * 총 데이터 수 (samples)\n",
    "> * 각 라벨 별 데이터 수 (values)\n",
    "> * 분류 결과 (class)"
   ]
  },
  {
   "cell_type": "markdown",
   "id": "a1aed9eb-885e-4fad-a817-251c07407d0e",
   "metadata": {
    "deletable": false,
    "editable": false
   },
   "source": [
    "⬆ **부모 노드에서 자식 노드로 데이터가 분류될수록 불순도(entropy)가 낮아지는 것을 확인해 봅시다.**  \n",
    "⬆ **앞서 직접 만들었던 트리와 비슷한지 확인해 봅시다.**  "
   ]
  },
  {
   "cell_type": "markdown",
   "id": "38567f0e-770d-4f6a-81b4-e5ba514ae08e",
   "metadata": {
    "deletable": false,
    "editable": false
   },
   "source": [
    "<div style=\"padding: 15px; border: 5px solid transparent; border-color: transparent; margin-bottom: 20px; border-radius: 4px; color: #8a6d3b;  border-color: #faebcc; font-weight: bold;\">\n",
    "    <div style=\"font-weight: bold; font-size: 20px\">✏️ [문제4]</div>\n",
    "    <br>\n",
    "    \n",
    "학습된 의사 결정 트리의 분류 기준을 보고 유추할 수 있는 각 질병의 특징을 적어봅시다.** \n",
    "\n",
    "(예시) 폐렴의 증상은 인후염, 감기, 독감과 비슷하지만 비교적 목 통증이 없고 기침 기간이 짧다.\n",
    "> 목 쉼 기간 0일 초과 --------- 폐렴\n",
    "</div>"
   ]
  },
  {
   "cell_type": "raw",
   "id": "7be7165f-c605-4f67-becf-817d9888eb61",
   "metadata": {},
   "source": [
    " 👉 \n",
    " 👉 "
   ]
  },
  {
   "cell_type": "markdown",
   "id": "d4220f16-a28f-497e-a356-b9be460742a7",
   "metadata": {
    "deletable": false,
    "editable": false
   },
   "source": [
    "### **진단명 예측하기**\n",
    "\n",
    "scikit-learn 라이브러리에서 학습한 기계학습 모델에 새로운 특징 데이터를 넣어 판단 결과를 확인할 수 있습니다.  \n",
    "\n",
    "> 학습 후 새로운 데이터에 대한 분류 결과를 확인하려면 predict 함수를 이용합니다.\n",
    ">> ```predicted_class_index = model.predict(특징_데이터)```   \n"
   ]
  },
  {
   "cell_type": "code",
   "execution_count": null,
   "id": "b3c013b7-30ad-41b4-90cc-c870e8dd489f",
   "metadata": {},
   "outputs": [],
   "source": [
    "# 예제 12: 학습된 트리로 진단명 예측하기\n",
    "\n",
    "# 환자의 증상 데이터 저장\n",
    "환자데이터 = {'체온': 36.5, '목 통증 여부': 1, '목 쉼 기간': 7, '기침 기간': 3} \n",
    "\n",
    "특징데이터 = [list(환자데이터.values())]  # 의사 결정 트리 모델에 넣어 수 있는 형태로 변환\n",
    "\n",
    "분류결과index = model.predict(특징데이터)  # 학습된 의사 결정 트리로 데이터 분류\n",
    "\n",
    "print('의사 결정 트리가 예측한 진단명:\\n', 정답_라벨[분류결과index[0]])  # 예측한 진단명을 출력"
   ]
  },
  {
   "cell_type": "markdown",
   "id": "2af1456b-fa90-40bd-b652-ab6fec6f8a10",
   "metadata": {
    "deletable": false,
    "editable": false
   },
   "source": [
    "<div style=\"padding: 15px; border: 5px solid transparent; border-color: transparent; margin-bottom: 20px; border-radius: 4px; color: #8a6d3b;  border-color: #faebcc; font-weight: bold;\">\n",
    "    <div style=\"font-weight: bold; font-size: 20px\">✏️ [문제5]</div>\n",
    "    <br>\n",
    "    \n",
    "학습된 의사 결정 트리에 새로운 환자데이터를 넣어보고 예측한 진단명을 적어봅시다.\n",
    "\n",
    "(예시) {'체온': 36.5, '목 통증 여부': 1, '목 쉼 기간': 7, '기침 기간': 3} 의 데이터를 가진 환자는 '성대 감염'이 있는 것으로 분류되었다.\n",
    "</div>"
   ]
  },
  {
   "cell_type": "raw",
   "id": "6620a4c2-1d8c-4d18-b270-8dfe2e9f0a9c",
   "metadata": {},
   "source": [
    " 👉 \n",
    " 👉 "
   ]
  },
  {
   "cell_type": "markdown",
   "id": "df339eca-1bd8-4484-ae4c-1f0578966370",
   "metadata": {
    "deletable": false,
    "editable": false
   },
   "source": [
    "### **데이터 수집 단계로 돌아가기**\n",
    "\n",
    "**인공지능은 데이터 수집, 모델 생성, 예측 과정을 순환하면서 발전합니다.**  \n",
    "**예측 과정에서 부족한 점이 발견된다면 데이터 수집 단계로 돌아가 이를 보완할 수 있습니다!**"
   ]
  },
  {
   "cell_type": "markdown",
   "id": "2b95b42a-33c7-4bf4-afac-a73be1604122",
   "metadata": {
    "deletable": false,
    "editable": false
   },
   "source": [
    "<div style=\"padding: 15px; border: 5px solid transparent; border-color: transparent; margin-bottom: 20px; border-radius: 4px; color: #8a6d3b;  border-color: #faebcc; font-weight: bold;\">\n",
    "    <div style=\"font-weight: bold; font-size: 20px\">✏️ [문제6]</div>\n",
    "    <br>\n",
    "학습된 의사 결정 트리의 분류 기준과 결과에서 찾은 문제점과 데이터 수집 단계로 돌아가  해결할 방법을 적어봅시다. \n",
    "\n",
    "(예시) 폐렴, 인후염, 감기, 독감 환자들을 정확히 분류해내지 못하는 문제가 발견되었다. 해당 질병을 진단받은 환자 데이터를 더 많이 모으면 좋을 것이다.\n",
    "</div>"
   ]
  },
  {
   "cell_type": "raw",
   "id": "6c47c864-b636-4c52-8c9d-70acd2ae73c2",
   "metadata": {},
   "source": [
    " 👉 \n",
    " 👉 "
   ]
  }
 ],
 "metadata": {
  "kernelspec": {
   "display_name": "Python 3 (ipykernel)",
   "language": "python",
   "name": "python3"
  },
  "language_info": {
   "codemirror_mode": {
    "name": "ipython",
    "version": 3
   },
   "file_extension": ".py",
   "mimetype": "text/x-python",
   "name": "python",
   "nbconvert_exporter": "python",
   "pygments_lexer": "ipython3",
   "version": "3.11.3"
  },
  "read_only": true
 },
 "nbformat": 4,
 "nbformat_minor": 5
}
