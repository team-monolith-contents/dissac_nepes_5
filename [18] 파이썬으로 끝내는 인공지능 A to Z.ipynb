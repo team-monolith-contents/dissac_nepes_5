{
 "cells": [
  {
   "cell_type": "markdown",
   "metadata": {
    "tags": []
   },
   "source": [
    "<div style=\"padding: 15px; border: 5px solid transparent; border-color: transparent; margin-bottom: 20px; border-radius: 4px; color: #3c763d; background-color: #dff0d8; border-color: #d6e9c6; font-weight: bold;\">\n",
    "    <br><br>\n",
    "    <div style=\"font-weight: bold; font-size: 40px\">파이썬으로 끝내는 인공지능 A to Z</div>\n",
    "    <div style=\"font-weight: bold; font-size: 20px\">[18] 심층신경망은 어떻게 학습하나요?</div>\n",
    "    <hr style=\"width:80%;text-align:left;margin-left:0;border:0.5px solid green\">\n",
    "    <br>\n",
    "    &#x2022; 경사하강법을 이용한 인공신경망의 학습 방법을 이해한다.<br>\n",
    "    &#x2022; 학습률에 대해 이해한다.<br>\n",
    "</div>"
   ]
  },
  {
   "cell_type": "markdown",
   "metadata": {
    "deletable": false,
    "editable": false,
    "tags": []
   },
   "source": [
    "<div style=\"padding: 15px; border: 5px solid transparent; border-color: transparent; margin-bottom: 20px; border-radius: 4px; color: #3c763d; border-color: #d6e9c6; font-weight: bold;\">\n",
    "<h2 style='font-weight: bold'>1. 경사하강법</h2>\n",
    "</div>"
   ]
  },
  {
   "cell_type": "markdown",
   "metadata": {
    "deletable": false,
    "editable": false
   },
   "source": [
    "인공신경망은 어떻게 학습할까요??<br>\n",
    "인공신경망은 퍼셉트론이 여러층으로 겹겹이 연결된 구조를 가지고 있습니다.<br>\n",
    "각 연결이 가중치(weight)라는 값에 따라 다른 강도로 연결되어 있습니다.<br>\n",
    "인공신경망이 학습을 하는 것은 데이터를 기반으로 가중치를 지속적으로 업데이트 하는 것이라 할 수 있습니다.<br>\n",
    "\n",
    "가중치는 비용 함수(Cost Function)를 통해 업데이트 됩니다.<br>\n",
    "비용 함수는 인공신경망을 통해 얻은 결과와 실제값 사이의 차이를 나타냅니다.<br>\n",
    "인공신경망을 학습시키는 것은 인공신경망의 결과값과 실제값 사이의 차이를 최소화 하는 것을 목표로 하므로 인공신경망의 학습 목표는<br>\n",
    "**비용 함수를 최소화 하는 가중치는 찾는 것** 이라고 할 수 있습니다.\n",
    "\n",
    "하지만 비용 함수는 가중치의 복잡한 방정식으로 이루어져 있기때문에 방정식을 풀어서 그 값을 계산하기에는 한계가 있습니다.<br>\n",
    "따라서 이 방정식의 해에 가까운 값을 찾기 위해 경사하강법(Gradient Descent) 라는 방법을 사용합니다.\n",
    "\n",
    "경사하강법에 대한 자세한 내용을 배우기 전에 아래 문제에 대해 생각해봅시다."
   ]
  },
  {
   "cell_type": "markdown",
   "metadata": {
    "deletable": false,
    "editable": false,
    "tags": []
   },
   "source": [
    "<div style=\"padding: 15px; border: 5px solid transparent; border-color: transparent; margin-bottom: 20px; border-radius: 4px; color: #8a6d3b;  border-color: #faebcc; font-weight: bold;\">\n",
    "    <div style=\"font-weight: bold; font-size: 20px\">✏️ [문제1]</div>\n",
    "    <br>\n",
    "여러분이 산의 정상에 있다고 가정해봅시다.<br>\n",
    "여러분이 산에 대한 아무런 정보가 없을 때 무사히 산을 내려오기 위해서는 어떤 방법을 사용해야 할까요?<br>\n",
    "<table>\n",
    "<tr>\n",
    "    <th><img src=\"https://tmn-bucket-materials-all.s3.ap-northeast-2.amazonaws.com/image/ai/AI-11-01.png\" width=\"500\"></th>\n",
    " </tr>\n",
    "<tr>\n",
    "    <th>등고선</th>\n",
    "</tr>\n",
    "</table>\n",
    "</div>"
   ]
  },
  {
   "cell_type": "raw",
   "metadata": {},
   "source": [
    " 👉 \n",
    " 👉 "
   ]
  },
  {
   "cell_type": "markdown",
   "metadata": {
    "deletable": false,
    "editable": false
   },
   "source": [
    "경사하강법은 쉽게 말해 눈을 감고 산 정상에서 하산하는 것과 같은 방법입니다.<br>\n",
    "여러분이 산 정상에 있다고 생각을 해봅시다.<br>\n",
    "여러분이 산에 대해 아무런 정보가 없다면 여러분은 가장 빠르게 내려갈 수 있는 길을 찾을 것입니다.<br>\n",
    "따라서 여러분은 360도 모든 방향에 대해 아래쪽으로의 경사가 가장 급한 곱을 찾을 것입니다.<br>\n",
    "그리고 그 방향으로 이동할 것입니다.<br>\n",
    "이것이 바로 경사 하강법입니다.\n",
    "\n",
    "경사하강법은 다음과 같은 단계로 작동합니다.\n",
    "\n",
    "1. **초기화:** 우선, 최적화하려는 함수의 가중치를 임의의 값으로 초기화합니다.\n",
    "2. **기울기 계산:** 초기화된 파라미터에서 함수의 기울기(미분값)를 계산합니다. 기울기는 해당 지점에서 함수의 증가 또는 감소 방향을 나타냅니다.\n",
    "3. **경사 하강:** 기울기의 방향과 학습률(learning rate)이라는 하이퍼파라미터를 곱하여 파라미터를 업데이트합니다.(학습률은 잠시 후 자세하게 다룹니다.)\n",
    "4. **새로운 위치에서 기울기 계산:** 업데이트된 파라미터에서 새로운 기울기를 계산합니다.\n",
    "5. **3과 4단계 반복:** 기울기를 반복적으로 계산하고 가중치를 업데이트하는 단계를 반복합니다. 이 과정은 미리 정해진 반복 횟수나 일정 기준에 도달할 때까지 계속됩니다.\n",
    "6. **최적값 도달:** 경사 하강법은 함수의 기울기를 따라 이동하면서 최적값에 점점 가까워집니다. 이 과정을 반복하면 함수의 최솟값(또는 최댓값)에 도달하게 됩니다.\n",
    "\n",
    "간단하게 2차원(포물선)에서 생각해보도록 하겠습니다.\n",
    "\n",
    "<table>\n",
    "<tr>\n",
    "    <th><img src=\"https://tmn-bucket-materials-all.s3.ap-northeast-2.amazonaws.com/image/ai/AI-11-02.png\" width=\"500\"></th>\n",
    " </tr>\n",
    "<tr>\n",
    "    <th>(그림1) 포물선에서의 경사하강법</th>\n",
    "</tr>\n",
    "</table>\n",
    "\n",
    "초기값은 그래프에서 임의의 값을 정합니다.(그림 1에서 원으로 표시됩니다.)\n",
    "현재 위치(원)에서 이동할 수 있는 방향은 A, B 2가지가 있습니다.<br>\n",
    "A 방향의 기울기는 (+)이고 B 방향의 기울기는 (-)네요.(기울기 계산)<br>\n",
    "경사 하강법에 따르면 아래쪽으로 경사가 가장 급한 곳(기울기가 가장 작은 곳)으로 이동하기 때문에 B 방향으로 이동하게 됩니다.(경사 하강)<br>\n",
    "B 방향으로 조금씩 이동하다 보면(반복) 최솟값으로 이동하게 될 것입니다.(최적값 도달)\n",
    "\n",
    "앞에서 언급했듯이 경사하강법은 손실함수의 정확한 최솟값을 찾아내지는 않습니다.<br>\n",
    "경사하강법은 극소값(local minimum)을 찾아내는 것이지 최대값(minimum)을 찾아내는 것은 아닙니다.\n",
    "\n",
    "<table>\n",
    "<tr>\n",
    "    <th><img src=\"https://tmn-bucket-materials-all.s3.ap-northeast-2.amazonaws.com/image/ai/AI-11-03.png\" width=\"500\"></th>\n",
    " </tr>\n",
    "<tr>\n",
    "    <th>(그림2) 위치에 따른 경사하강법의 결과값</th>\n",
    "</tr>\n",
    "</table>\n",
    "\n",
    "그림 2에서는 A,B,C 3개의 시작지점이 있습니다.<br>\n",
    "각각의 시작지점에 대해 경사하강법을 적용해봅시다.<br>\n",
    "그 결과 A는 1을 최대값으로, B와 C는 2를 최대값으로 찾아낼 것입니다.<br>\n",
    "이처럼 경사하강법은 경우(초기값, 학습률)에 따라 최솟값이 아닌 극소값을 찾아낼 수도 있습니다."
   ]
  },
  {
   "cell_type": "markdown",
   "metadata": {
    "deletable": false,
    "editable": false,
    "tags": []
   },
   "source": [
    "<div style=\"padding: 15px; border: 5px solid transparent; border-color: transparent; margin-bottom: 20px; border-radius: 4px; color: #8a6d3b;  border-color: #faebcc; font-weight: bold;\">\n",
    "    <div style=\"font-weight: bold; font-size: 20px\">✏️ [문제2]</div>\n",
    "    <br>\n",
    "각각의 출발 지점에서 경사하강법을 적용했을 때에 도착지점을 찾아보세요.\n",
    "<table>\n",
    "<tr>\n",
    "    <th><img src=\"https://tmn-bucket-materials-all.s3.ap-northeast-2.amazonaws.com/image/ai/AI-11-04.png\" width=\"500\"></th>\n",
    " </tr>\n",
    "<tr>\n",
    "    <th>등고선</th>\n",
    "</tr>\n",
    "</table>\n",
    "</div>"
   ]
  },
  {
   "cell_type": "markdown",
   "metadata": {
    "deletable": false,
    "editable": false,
    "tags": []
   },
   "source": [
    "<div style=\"padding: 15px; border: 5px solid transparent; border-color: transparent; margin-bottom: 20px; border-radius: 4px; color: #3c763d; border-color: #d6e9c6; font-weight: bold;\">\n",
    "<h2 style='font-weight: bold'>2. 학습률이 무엇인가요?</h2>\n",
    "</div>"
   ]
  },
  {
   "cell_type": "markdown",
   "metadata": {
    "deletable": false,
    "editable": false
   },
   "source": [
    "학습률은 산에서 내려갈 때에 다리 길이라고 생각할 수 있습니다.<br>\n",
    "\n",
    "<table>\n",
    "<tr>\n",
    "    <th><img src=\"https://tmn-bucket-materials-all.s3.ap-northeast-2.amazonaws.com/image/ai/AI-11-05.png\" width=\"500\"></th>\n",
    " </tr>\n",
    "<tr>\n",
    "    <th>(그림3) 학습률에 따른 경사하강법의 결과값</th>\n",
    "</tr>\n",
    "</table>\n",
    "\n",
    "그림 5를 봅시다. 이동하는 정도에 따라 빨간색, 검은색으로 나눌 수 있습니다.<br>\n",
    "조금씩 움직이는 경우 빨간색 경로에 따라 움직일 것입니다.<br>\n",
    "따라서 A 지점에서 3,4 중 3번으로 이동할 것입니다.<br>\n",
    "한 번에 많이 이동하는 경우는 검은색 경로에 따라 움직일 것입니다.<br>\n",
    "따라서 A 지점에서 1,2 중 1번으로 이동할 것입니다.<br>\n",
    "\n",
    "이처럼 한 번에 가중치를 얼마씩 바꾸는지에 따라서 학습결과가 달라질 수 있습니다.<br>\n",
    "이 때, 한 번에 가중치를 얼마씩 바꾸는지를 결정하는 것이 바로 학습률입니다.<br>\n",
    "학습률이 높을 수록 한 번에 가중치를 많이 변경하고, 학습률이 낮을 수록 한 번에 가중치를 조금 변경합니다.<br>"
   ]
  },
  {
   "cell_type": "markdown",
   "metadata": {
    "deletable": false,
    "editable": false,
    "tags": []
   },
   "source": [
    "<div style=\"padding: 15px; border: 5px solid transparent; border-color: transparent; margin-bottom: 20px; border-radius: 4px; color: #8a6d3b;  border-color: #faebcc; font-weight: bold;\">\n",
    "    <div style=\"font-weight: bold; font-size: 20px\">✏️ [문제3]</div>\n",
    "    <br>\n",
    "아래 링크의 경사하강법 시뮬레이션을 통해 학습률(step size)가 높을 때, 낮을 때의 장점 및 단점을 파악해봅시다.\n",
    "\n",
    "<a href=\"https://angeloyeo.github.io/2020/08/16/gradient_descent.html\"><button style=\"width:200px; height:50px\">경사하강법 링크</button></a>\n",
    "    \n",
    "<table>\n",
    "<tr>\n",
    "    <th><img src=\"https://tmn-bucket-materials-all.s3.ap-northeast-2.amazonaws.com/image/ai/AI-11-06.PNG\" width=\"500\"></th>\n",
    " </tr>\n",
    "<tr>\n",
    "    <th>경사하강법 시뮬레이션</th>\n",
    "</tr>\n",
    "</table>\n",
    "</div>"
   ]
  },
  {
   "cell_type": "raw",
   "metadata": {},
   "source": [
    " 👉 \n",
    " 👉 "
   ]
  },
  {
   "cell_type": "markdown",
   "metadata": {
    "deletable": false,
    "editable": false
   },
   "source": [
    "<div style=\"padding: 15px; border: 5px solid transparent; border-color: transparent; margin-bottom: 20px; border-radius: 4px; color: #8a6d3b;  border-color: #faebcc; font-weight: bold;\">\n",
    "    <div style=\"font-weight: bold; font-size: 20px\">✏️ [문제4]</div>\n",
    "    <br>\n",
    "지난 시간에 배웠던 플레이그라운드에서도 학습률이 조정할 수 있습니다.<br>\n",
    "학습률을 조정해가면서 학습이 어떻게 바뀌는 지 살펴봅시다.\n",
    "<br><br>\n",
    "<a href=\"https://playground.tensorflow.org/#activation=tanh&batchSize=10&dataset=circle&regDataset=reg-plane&learningRate=0.03&regularizationRate=0&noise=0&networkShape=4,2&seed=0.88816&showTestData=false&discretize=false&percTrainData=50&x=true&y=true&xTimesY=false&xSquared=false&ySquared=false&cosX=false&sinX=false&cosY=false&sinY=false&collectStats=false&problem=classification&initZero=false&hideText=false\"><button style=\"width:200px; height:50px\">플레이그라운드 링크</button></a>\n",
    "\n",
    "<table>\n",
    "<tr>\n",
    "    <th><img src=\"https://tmn-bucket-materials-all.s3.ap-northeast-2.amazonaws.com/image/ai/AI-11-07.png\" width=\"500\"></th>\n",
    "</tr>\n",
    "<tr>\n",
    "    <th>플레이그라운드</th>\n",
    "</tr>\n",
    "</table>\n",
    "</div>"
   ]
  },
  {
   "cell_type": "raw",
   "metadata": {},
   "source": [
    " 👉 \n",
    " 👉 "
   ]
  }
 ],
 "metadata": {
  "colab": {
   "provenance": []
  },
  "kernelspec": {
   "display_name": "Python 3 (ipykernel)",
   "language": "python",
   "name": "python3"
  },
  "language_info": {
   "codemirror_mode": {
    "name": "ipython",
    "version": 3
   },
   "file_extension": ".py",
   "mimetype": "text/x-python",
   "name": "python",
   "nbconvert_exporter": "python",
   "pygments_lexer": "ipython3",
   "version": "3.11.3"
  },
  "read_only": true,
  "vscode": {
   "interpreter": {
    "hash": "8c352b738e5f22da9f29eb9cb9994f25c5223ab3395af3650b8321ab644afce4"
   }
  }
 },
 "nbformat": 4,
 "nbformat_minor": 4
}
