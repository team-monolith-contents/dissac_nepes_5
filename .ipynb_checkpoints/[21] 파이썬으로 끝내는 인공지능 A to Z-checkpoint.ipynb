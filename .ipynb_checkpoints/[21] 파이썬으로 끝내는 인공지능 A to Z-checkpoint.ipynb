{
 "cells": [
  {
   "cell_type": "markdown",
   "metadata": {
    "tags": []
   },
   "source": [
    "<div style=\"padding: 15px; border: 5px solid transparent; border-color: transparent; margin-bottom: 20px; border-radius: 4px; color: #3c763d; background-color: #dff0d8; border-color: #d6e9c6; font-weight: bold;\">\n",
    "    <br><br>\n",
    "    <div style=\"font-weight: bold; font-size: 40px\">파이썬으로 끝내는 인공지능 A to Z</div>\n",
    "    <div style=\"font-weight: bold; font-size: 20px\">[21] 인공지능의 추론 결과: 내가 잘 예측했나요?</div>\n",
    "    <hr style=\"width:80%;text-align:left;margin-left:0;border:0.5px solid green\">\n",
    "    <br>\n",
    "    &#x2022; 인공지능 프로젝트 사이클에서 평가의 중요도를 알 수 있다.<br>\n",
    "    &#x2022; 인공지능 학습 시 데이터셋을 분리하는 목적을 이해할 수 있다.<br>\n",
    "    &#x2022; 회귀모델의 성능평가지표를 이해하고 적용할 수 있다.<br>\n",
    "</div>"
   ]
  },
  {
   "cell_type": "markdown",
   "metadata": {
    "deletable": false,
    "editable": false,
    "tags": []
   },
   "source": [
    "<div style=\"padding: 15px; border: 5px solid transparent; border-color: transparent; margin-bottom: 20px; border-radius: 4px; color: #3c763d; border-color: #d6e9c6; font-weight: bold;\">\n",
    "<h2 style='font-weight: bold'>1. 인공지능 평가의 중요성</h2>\n",
    "</div>"
   ]
  },
  {
   "cell_type": "markdown",
   "metadata": {
    "deletable": false,
    "editable": false,
    "id": "OPQhJ4HYuBHu"
   },
   "source": [
    "인공지능은 사용하면 사람보다 빠르게 판단할 수 있어요.  \n",
    "그렇지만 인공지능이 판단하는 과정을 모두 우리에게 설명하지 않기 때문에,  \n",
    "우리는 인공지능이 **올바르게** 판단하는지에 대해 면밀하게 살펴보아야 해요.     \n",
    "아래 링크의 기사는 인공지능이 올바르게 판단하지 못하여 벌어진 사건들에 대한 내용이에요.  \n",
    "\n",
    "<a href=\"https://www.aitimes.com/news/articleView.html?idxno=135396\"><button style=\"width:100px; height:50px\">링크</button></a>\n",
    "\n",
    "<table>\n",
    "<tr>\n",
    "    <th><img src=\"https://tmn-bucket-materials-all.s3.ap-northeast-2.amazonaws.com/image/ai/AI-14-01.png\" width=\"500\"></th>\n",
    "    </tr>\n",
    "<tr>\n",
    "    <th>잘못 판단한 인공지능</th>\n",
    "</tr>\n",
    "</table>\n",
    "\n"
   ]
  },
  {
   "cell_type": "markdown",
   "metadata": {
    "deletable": false,
    "editable": false
   },
   "source": [
    "\n",
    "\n",
    "인공지능 프로젝트 사이클에서 \"모델 평가하기\"를 통해 인공지능이 올바르게 판단하는지 분석할 수 있어요.  \n",
    "이 때 그 기준이 되는 것이 **평가 지표**에요.  \n",
    "다양한 평가 지표에 대해 배우고, 어떻게 적절하게 평가 지표를 사용할 수 있을지 알아보아요.\n",
    "\n",
    "<table>\n",
    "<tr>\n",
    "    <th><img src=\"https://tmn-bucket-materials-all.s3.ap-northeast-2.amazonaws.com/image/ai/AI-14-02.png\" width=\"500\"></th>\n",
    "    </tr>\n",
    "<tr>\n",
    "    <th>인공지능 프로젝트 사이클(\"모델 평가하기\" 강조)</th>\n",
    "</tr>\n",
    "</table>"
   ]
  },
  {
   "cell_type": "markdown",
   "metadata": {
    "deletable": false,
    "editable": false
   },
   "source": [
    "<div style=\"padding: 15px; border: 5px solid transparent; border-color: transparent; margin-bottom: 20px; border-radius: 4px; color: #8a6d3b;  border-color: #faebcc; font-weight: bold;\">\n",
    "    <div style=\"font-weight: bold; font-size: 20px\">✏️ [문제1]</div>\n",
    "    <br>\n",
    " 인공지능이 올바르게 판단하지 못할 경우 일상에서 벌어질 수 있는 문제점을 생각해보아요.\n",
    "</div>"
   ]
  },
  {
   "cell_type": "raw",
   "metadata": {},
   "source": [
    " 👉\n",
    " 👉 "
   ]
  },
  {
   "cell_type": "markdown",
   "metadata": {
    "deletable": false,
    "editable": false,
    "tags": []
   },
   "source": [
    "<div style=\"padding: 15px; border: 5px solid transparent; border-color: transparent; margin-bottom: 20px; border-radius: 4px; color: #3c763d; border-color: #d6e9c6; font-weight: bold;\">\n",
    "<h2 style='font-weight: bold'>2. 회귀모델 평가하기</h2>\n",
    "</div>"
   ]
  },
  {
   "cell_type": "markdown",
   "metadata": {
    "deletable": false,
    "editable": false
   },
   "source": []
  },
  {
   "cell_type": "markdown",
   "metadata": {
    "deletable": false,
    "editable": false
   },
   "source": [
    "### **회귀 VS 분류**  \n",
    "\n",
    "이번 시간에는 회귀모델을, 다음 시간에는 분류모델을 평가하는 지표들에 대해 살펴볼 거에요.  \n",
    "회귀와 분류의 차이점을 살펴보면 다음과 같아요.  \n",
    "\n",
    "> 회귀는 주어진 입력에 대한 적절한 **수**를 예측하는 것이에요. ex) 10.5, 20, ...  \n",
    "> 회귀에서는 **모든 입력**에 대해 실제 값과 **가까운** 수를 예측하도록 하는 것이 목적이에요.\n",
    "  \n",
    "> 분류는 주어진 입력에 대한 적절한 **범주**를 예측하는 것이에요. ex) 강아지, 호랑이, ...   \n",
    "> 분류에서는 **최대한 많은 입력**에 대해 **정확한** 범주를 예측하도록 하는 것이 목적이에요.\n",
    "\n",
    "더 자세한 내용이 궁금하다면, 아래 만화를 보면서 이해해보아요.\n",
    " \n",
    "<a href=\"https://yozm.wishket.com/magazine/detail/2073/\"><button style=\"width:100px; height:50px\">링크</button></a>"
   ]
  },
  {
   "cell_type": "markdown",
   "metadata": {
    "deletable": false,
    "editable": false
   },
   "source": [
    "### **회귀모델 평가 지표**  \n",
    "\n",
    "회귀는 실제 값과 가까운 수를 예측하는 것이 목적이므로, 예측한 값과 실제 값의 차이를 활용하여 모델의 성능을 평가해요.  \n",
    "여기에서는 가장 대표적인 평균제곱오차(MSE), 평균절대오차(MAE)에 대해 알아볼 거에요."
   ]
  },
  {
   "cell_type": "markdown",
   "metadata": {
    "deletable": false,
    "editable": false
   },
   "source": [
    "**1. 평균제곱오차(MSE)**   \n",
    "\n",
    "평균제곱오차는 앞서 6단원에서 공부했었던 개념이에요.  \n",
    "복습하자면 예측한 값에서 실제 값을 뺀 것을 **오차**라고 하는데,  \n",
    "오차의 제곱을 계산한 뒤 그것의 평균을 구한 것이에요.  "
   ]
  },
  {
   "cell_type": "markdown",
   "metadata": {
    "deletable": false,
    "editable": false
   },
   "source": [
    "<div style=\"padding: 15px; border: 5px solid transparent; border-color: transparent; margin-bottom: 20px; border-radius: 4px; color: #8a6d3b;  border-color: #faebcc; font-weight: bold;\">\n",
    "    <div style=\"font-weight: bold; font-size: 20px\">✏️ [문제2]</div>\n",
    "    <br>\n",
    " 아래 표는 6단원에서 사용했던 예시에요.<br>\n",
    "평균제곱오차를 구하고, 정확하게 구했는지 확인해보아요.\n",
    "    \n",
    "<table>\n",
    "<tr>\n",
    "    <th><img src=\"https://tmn-bucket-materials-all.s3.ap-northeast-2.amazonaws.com/image/ai/AI-14-03.png\" width=\"400\"></th>\n",
    "    </tr>\n",
    "<tr>\n",
    "    <th>관계표에서의 오차</th>\n",
    "</tr>\n",
    "</table>\n",
    "\n",
    "</div>"
   ]
  },
  {
   "cell_type": "raw",
   "metadata": {},
   "source": [
    " 👉\n",
    " 👉 "
   ]
  },
  {
   "cell_type": "markdown",
   "metadata": {
    "deletable": false,
    "editable": false
   },
   "source": [
    "**2. 평균절대오차(MAE)**  \n",
    "\n",
    "평균절대오차는 절대 오차에 대한 평균이에요.   \n",
    "절대 오차란 앞서 이야기한 오차의 절댓값이에요.  \n",
    "평균제곱오차와 비교했을 때, 오차에 제곱 대신 절댓값을 적용하여 평균을 구한다고 할 수 있어요.  \n",
    "위 그래프에서 평균절대오차를 구해보면, 다음과 같을 거에요.\n",
    "\n",
    "$$\\frac{|74| + |112| + |-60| + |-123|}{4} = 92.25$$"
   ]
  },
  {
   "cell_type": "markdown",
   "metadata": {
    "deletable": false,
    "editable": false,
    "tags": []
   },
   "source": [
    "<div style=\"padding: 15px; border: 5px solid transparent; border-color: transparent; margin-bottom: 20px; border-radius: 4px; color: #3c763d; border-color: #d6e9c6; font-weight: bold;\">\n",
    "<h2 style='font-weight: bold'>3. 회귀모델 평가 실습하기</h2>\n",
    "</div>"
   ]
  },
  {
   "cell_type": "markdown",
   "metadata": {
    "deletable": false,
    "editable": false
   },
   "source": [
    "실습에서는 평균제곱오차와 평균절대오차를 파이썬 코드를 사용하여 구하는 방법에 대해 알아볼 거에요.  \n",
    "아래 데이터 예시에서 actual은 실제 값, measured는 예측한 값이에요."
   ]
  },
  {
   "cell_type": "code",
   "execution_count": 28,
   "metadata": {},
   "outputs": [],
   "source": [
    "actual = [1, 2, 3, 4, 5, 6, 7, 8, 9, 10]\n",
    "measured = [1.5, 3, 4.2, 3.8, 3, 8, 5.3, 6, 9, 10.6]"
   ]
  },
  {
   "cell_type": "markdown",
   "metadata": {
    "deletable": false,
    "editable": false
   },
   "source": [
    "**1. 계산해서 구하기**  \n",
    "\n",
    "위의 값들에 대해 오차를 구해보고, 각각 제곱과 절댓값을 적용해 평가지표를 구해보아요.  \n",
    "구한 값들을 아래 단계의 값과 비교해보면서 정확하게 구했는지 확인해보아요."
   ]
  },
  {
   "cell_type": "markdown",
   "metadata": {
    "deletable": false,
    "editable": false
   },
   "source": [
    "**2. numpy를 활용한 구현**  \n",
    "\n",
    "위의 단계를 파이썬 코드를 사용하여 더욱 빠르게 구해 보아요.  \n",
    "numpy 라이브러리를 사용하면 np.array, np.mean 등의 함수를 통해 연산을 더욱 간단하게 할 수 있어요.   \n",
    "아래 코드는 numpy 라이브러리를 사용해서 평균제곱오차, 평균절대오차를 구하는 코드에요.  "
   ]
  },
  {
   "cell_type": "code",
   "execution_count": 30,
   "metadata": {},
   "outputs": [
    {
     "name": "stdout",
     "output_type": "stream",
     "text": [
      "[16  9  4 49 25  9  9 25 16  1 81 64 81 16  9 16  1 36  1 16 49 36 16  4\n",
      " 49  4 25 36  1 81 49 81 16 36  9 36 16 81 16 81 64 49 36  1  9  1  0 81\n",
      "  1 64  1 64  0  0 36 16  1  9  4 16 49 16 16  4 81  0  1 36 49 64 49 16\n",
      "  4 64 25 36 36  9  1 16 16 36 49  1 36 49 36  9  0  0 64 49 81  1 25 25\n",
      "  1  4 36 16]\n",
      "평균제곱오차: 27.65\n",
      "평균절대오차: 4.51\n"
     ]
    }
   ],
   "source": [
    "import numpy as np\n",
    "\n",
    "measured_np = np.array(measured)\n",
    "actual_np = np.array(actual)\n",
    "diff = measured_np - actual_np\n",
    "\n",
    "print(diff**2)\n",
    "mse = np.mean(diff**2)\n",
    "print(\"평균제곱오차: \" + str(mse))\n",
    "mae = np.mean(abs(diff))\n",
    "print(\"평균절대오차: \" + str(mae))"
   ]
  },
  {
   "cell_type": "markdown",
   "metadata": {
    "deletable": false,
    "editable": false
   },
   "source": [
    "**3. sklearn 함수 사용**  \n",
    "\n",
    "sklearn 라이브러리에는 다양한 머신러닝 함수를 제공하고, 그와 함께 평가 지표들도 제공해주어요.  \n",
    "따라서 sklearn에서 필요한 평가 지표를 불러온다면, 지표를 계산하는 과정을 세세히 기억하지 않아도 편하게 활용할 수 있어요.  \n",
    "평가 지표의 매개변수에 예측한 값, 실제 값을 순서대로 넣어주기만 하면 돼요."
   ]
  },
  {
   "cell_type": "code",
   "execution_count": 31,
   "metadata": {},
   "outputs": [
    {
     "name": "stdout",
     "output_type": "stream",
     "text": [
      "평균제곱오차: 27.65\n",
      "평균절대오차: 4.51\n"
     ]
    }
   ],
   "source": [
    "from sklearn.metrics import mean_squared_error, mean_absolute_error\n",
    "\n",
    "print(\"평균제곱오차: \" + str(mean_squared_error(measured, actual)))\n",
    "print(\"평균절대오차: \" + str(mean_absolute_error(measured, actual)))"
   ]
  },
  {
   "cell_type": "markdown",
   "metadata": {
    "deletable": false,
    "editable": false
   },
   "source": [
    "<div style=\"padding: 15px; border: 5px solid transparent; border-color: transparent; margin-bottom: 20px; border-radius: 4px; color: #8a6d3b;  border-color: #faebcc;\">\n",
    "    <div style=\"font-weight: bold; font-size: 20px\">💯 연습문제를 풀어봅시다</div>\n",
    "    <br>\n",
    "<a class=\"jcecodle-mk jcecodle-mk__problem-chip\" data-problem-id=\"Yt5ipvcrWyQ\" href='#jce-judge/open/Yt5ipvcrWyQ' target='_self'><span>14단원 - 평균 제곱 오차</span></a>  \n",
    "<a class=\"jcecodle-mk jcecodle-mk__problem-chip\" data-problem-id=\"h8dNt8RQj08\" href='#jce-judge/open/h8dNt8RQj08' target='_self'><span>14단원 - 평균 절대 오차</span></a>  \n",
    "</div>"
   ]
  }
 ],
 "metadata": {
  "colab": {
   "provenance": []
  },
  "kernelspec": {
   "display_name": "Python 3 (ipykernel)",
   "language": "python",
   "name": "python3"
  },
  "language_info": {
   "codemirror_mode": {
    "name": "ipython",
    "version": 3
   },
   "file_extension": ".py",
   "mimetype": "text/x-python",
   "name": "python",
   "nbconvert_exporter": "python",
   "pygments_lexer": "ipython3",
   "version": "3.11.3"
  },
  "read_only": true,
  "vscode": {
   "interpreter": {
    "hash": "8c352b738e5f22da9f29eb9cb9994f25c5223ab3395af3650b8321ab644afce4"
   }
  }
 },
 "nbformat": 4,
 "nbformat_minor": 4
}
