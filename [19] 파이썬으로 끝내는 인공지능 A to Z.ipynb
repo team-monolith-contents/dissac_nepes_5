{
 "cells": [
  {
   "cell_type": "markdown",
   "metadata": {
    "tags": []
   },
   "source": [
    "<div style=\"padding: 15px; border: 5px solid transparent; border-color: transparent; margin-bottom: 20px; border-radius: 4px; color: #3c763d; background-color: #dff0d8; border-color: #d6e9c6; font-weight: bold;\">\n",
    "    <br><br>\n",
    "    <div style=\"font-weight: bold; font-size: 40px\">파이썬으로 끝내는 인공지능 A to Z</div>\n",
    "    <div style=\"font-weight: bold; font-size: 20px\">[19] 심층신경망과 영상데이터의 활용</div>\n",
    "    <hr style=\"width:80%;text-align:left;margin-left:0;border:0.5px solid green\">\n",
    "    <br>\n",
    "    &#x2022; CNN의 구성 요소와 연산 방법을 이해할 수 있다.<br>\n",
    "    &#x2022; CNN을 기반으로 하는 여러 기술을 사용할 수 있다.<br>\n",
    "</div>"
   ]
  },
  {
   "cell_type": "markdown",
   "metadata": {
    "deletable": false,
    "editable": false,
    "tags": []
   },
   "source": [
    "<div style=\"padding: 15px; border: 5px solid transparent; border-color: transparent; margin-bottom: 20px; border-radius: 4px; color: #3c763d; border-color: #d6e9c6; font-weight: bold;\">\n",
    "<h2 style='font-weight: bold'>1. 합성곱신경망은 어떻게 등장했을까요?</h2>\n",
    "</div>"
   ]
  },
  {
   "cell_type": "markdown",
   "metadata": {
    "deletable": false,
    "editable": false,
    "tags": []
   },
   "source": [
    "이전 시간에 배웠던 심층신경망(DNN)을 사용해 인공지능에서 많은 발전을 이뤘지만, 심층신경망을 이미지 처리에 사용할 때는 뚜렷한 한계가 있었어요.  \n",
    "바로 심층신경망의 구조를 고려했을 때, 이미지 정보를 1차원으로 해석해야 하기 때문에 중요한 정보를 잃어버리는 것이에요.  \n",
    "아래 그림을 보면 이미지를 쪼개서 1차원으로 변환하므로, 변환된 이미지에서는 이미지가 A를 나타낸다는 것을 알 수 없어요.  \n",
    "이러한 문제를 해결하기 위해 등장한 것이 **합성곱신경망(CNN)** 이에요.\n",
    "\n",
    "<table>\n",
    "<tr>\n",
    "    <th><img src=\"https://tmn-bucket-materials-all.s3.ap-northeast-2.amazonaws.com/image/ai/AI-12-01.png\" width=\"500\"></th>\n",
    "    </tr>\n",
    "<tr>\n",
    "    <th>이미지 처리에서 심층신경망의 한계</th>\n",
    "</tr>\n",
    "</table>  \n",
    "\n",
    "이미지 처리 분야의 '올림픽'이라 할 수 있는 ILSVRC에서 합성곱신경망의 놀라운 성능을 알 수 있어요.\n",
    "\n",
    "> ILSVRC(ImageNet Large-Scale Visual Recognition Challenge): 인공지능을 활용해 주어진 이미지의 클래스를 분류하는 대회\n",
    "\n",
    "2011년까지는 이미지 인식률이 75% 미만이었지만,  \n",
    "2012년 합성곱신경망을 이용한 모델인 AlexNet이 등장하면서 정확성이 놀라울 정도로 향상되어요.  \n",
    "그 이후로도 매년 합성곱신경망을 중심적으로 활용하여 높은 성능을 기록하는 모델들이 등장하였어요.\n",
    "\n",
    "<table>\n",
    "<tr>\n",
    "    <th><img src=\"https://tmn-bucket-materials-all.s3.ap-northeast-2.amazonaws.com/image/ai/AI-12-02.png\" width=\"500\"></th>\n",
    "    <th><img src=\"https://tmn-bucket-materials-all.s3.ap-northeast-2.amazonaws.com/image/ai/AI-12-03.png\" width=\"500\"></th>\n",
    "    </tr>\n",
    "<tr>\n",
    "    <th>ILSVRC 소개</th>\n",
    "    <th>ILSVRC 역대 인식 오류율</th>\n",
    "</tr>\n",
    "</table>\n",
    "\n",
    "합성곱신경망을 사용하여, 이미지 처리와 관련한 다양한 업무에 활용할 수 있어요.<br>\n",
    "아래는 활용할 수 있는 대표적인 예시 업무들이에요.<br>\n",
    "* 객체 인식(object detection)\n",
    "* 분류(classification)\n",
    "* 이미지 생성(image generation)\n",
    "\n",
    "<table>\n",
    "<tr>\n",
    "    <th><img src=\"https://tmn-bucket-materials-all.s3.ap-northeast-2.amazonaws.com/image/ai/AI-12-04.jpg\" width=\"350\"></th>\n",
    "    <th><img src=\"https://tmn-bucket-materials-all.s3.ap-northeast-2.amazonaws.com/image/ai/AI-12-05.JPG\" width=\"350\"></th>\n",
    "    <th><img src=\"https://tmn-bucket-materials-all.s3.ap-northeast-2.amazonaws.com/image/ai/AI-12-06.jpg\" width=\"350\"></th>\n",
    "    </tr>\n",
    "<tr>\n",
    "    <th>객체 인식</th>\n",
    "    <th>분류</th>\n",
    "    <th>이미지 합성</th>\n",
    "</tr>\n",
    "</table>  "
   ]
  },
  {
   "cell_type": "markdown",
   "metadata": {
    "deletable": false,
    "editable": false,
    "tags": []
   },
   "source": [
    "<div style=\"padding: 15px; border: 5px solid transparent; border-color: transparent; margin-bottom: 20px; border-radius: 4px; color: #3c763d; border-color: #d6e9c6; font-weight: bold;\">\n",
    "<h2 style='font-weight: bold'>2. 합성곱신경망의 구성 요소</h2>\n",
    "</div>"
   ]
  },
  {
   "cell_type": "markdown",
   "metadata": {
    "deletable": false,
    "editable": false
   },
   "source": [
    "합성곱신경망에서는 합성곱(convolution)과 풀링(pooling) 두 가지 연산을 반복하여 사용해요.  \n",
    "각각의 연산이 무엇인지 알아보고, 이를 어떻게 반복하는지 살펴보아요."
   ]
  },
  {
   "cell_type": "markdown",
   "metadata": {
    "deletable": false,
    "editable": false
   },
   "source": [
    "**1. 합성곱(convolution)**  \n",
    "합성곱 연산에서는 이미지에 **필터(커널)** 를 적용하여 특징을 추출해요.  \n",
    "필터는 숫자로 구성되어 있고, 이미지 또한 각 픽셀마다의 색상을 숫자로 표현할 수 있어요.  \n",
    "필터의 숫자가 어떻게 구성되어 있는가에 따라 이미지에서 다양한 특징을 추출할 수 있어요."
   ]
  },
  {
   "cell_type": "markdown",
   "metadata": {
    "deletable": false,
    "editable": false
   },
   "source": [
    "<table>\n",
    "<tr>\n",
    "    <th><img src=\"https://tmn-bucket-materials-all.s3.ap-northeast-2.amazonaws.com/image/ai/AI-12-07.png\" width=\"500\"></th>\n",
    "    <th><img src=\"https://tmn-bucket-materials-all.s3.ap-northeast-2.amazonaws.com/image/ai/AI-12-08.png\" width=\"500\"></th>\n",
    "    </tr>\n",
    "<tr>\n",
    "    <th>대표적인 필터 예시(sobel filter)</th>\n",
    "    <th>sobel filter를 적용한 이미지</th>\n",
    "</tr>\n",
    "</table>  "
   ]
  },
  {
   "cell_type": "markdown",
   "metadata": {
    "deletable": false,
    "editable": false
   },
   "source": [
    "합성곱 연산의 가장 기본 단위는 필터와 입력의 값들을 하나씩 곱하고 그것을 전부 더하는 것이에요.  \n",
    "이것을 한 번 거쳤을 때 출력의 한 픽셀이 완성되어요.  \n",
    "우선 필터를 가장 왼쪽 위에 두어서 연산한 뒤, 칸을 옮겨가면서 반복하여 합성곱 연산을 수행할 수 있어요.  \n",
    "아래 그림을 보면서 합성곱 연산 과정을 따라가보아요.  "
   ]
  },
  {
   "cell_type": "markdown",
   "metadata": {
    "deletable": false,
    "editable": false
   },
   "source": [
    "<table>\n",
    "<tr>\n",
    "    <th><img src=\"https://tmn-bucket-materials-all.s3.ap-northeast-2.amazonaws.com/image/ai/AI-12-09.png\" width=\"500\"></th>\n",
    "    <th><img src=\"https://tmn-bucket-materials-all.s3.ap-northeast-2.amazonaws.com/image/ai/AI-12-10.jpg\" width=\"500\"></th>\n",
    "<tr>\n",
    "    <th>합성곱 연산 과정(두번째 칸에 대한 연산 이미지도 만들기)</th>\n",
    "    <th>합성곱 연산 과정</th>\n",
    "</tr>\n",
    "</table>  \n",
    "\n",
    "<table>\n",
    "<tr>\n",
    "    <th><img src=\"https://tmn-bucket-materials-all.s3.ap-northeast-2.amazonaws.com/image/ai/AI-12-11.gif\" width=\"500\"></th>\n",
    "<tr>\n",
    "    <th>합성곱 연산 과정</th>\n",
    "</tr>\n",
    "</table>  "
   ]
  },
  {
   "cell_type": "markdown",
   "metadata": {
    "deletable": false,
    "editable": false
   },
   "source": [
    "**2. 풀링(pooling)**  \n",
    "풀링 계층에서는 이미지의 크기를 줄이는 작업을 수행해요.  \n",
    "기존의 크기 그대로 연산을 수행하면 시간이 오래 걸리기 때문에, 크기를 줄이면서도 중요한 특징은 남기도록 할 수 있어요.  \n",
    "가장 대표적인 풀링의 예시는 최댓값 풀링, 평균 풀링이 있어요.  "
   ]
  },
  {
   "cell_type": "markdown",
   "metadata": {
    "deletable": false,
    "editable": false
   },
   "source": [
    "<table>\n",
    "<tr>\n",
    "    <th><img src=\"https://tmn-bucket-materials-all.s3.ap-northeast-2.amazonaws.com/image/ai/AI-12-12.png\" width=\"500\"></th>\n",
    "    <th><img src=\"https://tmn-bucket-materials-all.s3.ap-northeast-2.amazonaws.com/image/ai/AI-12-13.png\" width=\"500\"></th>\n",
    "    </tr>\n",
    "<tr>\n",
    "    <th>최댓값 풀링</th>\n",
    "    <th>평균 풀링</th>\n",
    "</tr>\n",
    "</table>  "
   ]
  },
  {
   "cell_type": "markdown",
   "metadata": {
    "deletable": false,
    "editable": false
   },
   "source": [
    "합성곱신경망의 전체 구조는 합성곱 연산과 풀링 연산을 반복하는 형태에요.  \n",
    "대표적인 합성곱신경망 모델인 AlexNet과 VGG의 구조를 보면, 합성곱 연산과 풀링 연산을 매우 많이 반복하는 것을 알 수 있어요.  \n",
    "그렇지만 두 연산 모두 1차원이 아닌 2차원에서 수행되기 때문에, 연산을 반복하여도 이미지의 특징을 잃어버리지 않고 잘 살릴 수 있어요."
   ]
  },
  {
   "cell_type": "markdown",
   "metadata": {
    "deletable": false,
    "editable": false
   },
   "source": [
    "<table>\n",
    "<tr>\n",
    "    <th><img src=\"https://tmn-bucket-materials-all.s3.ap-northeast-2.amazonaws.com/image/ai/AI-12-14.png\" width=\"500\"></th>\n",
    "    <th><img src=\"https://tmn-bucket-materials-all.s3.ap-northeast-2.amazonaws.com/image/ai/AI-12-15.jpg\" width=\"500\"></th>\n",
    "    </tr>\n",
    "<tr>\n",
    "    <th>AlexNet 구조</th>\n",
    "    <th>VGG 구조</th>\n",
    "</tr>\n",
    "</table>  "
   ]
  },
  {
   "cell_type": "markdown",
   "metadata": {
    "deletable": false,
    "editable": false,
    "tags": []
   },
   "source": [
    "<div style=\"padding: 15px; border: 5px solid transparent; border-color: transparent; margin-bottom: 20px; border-radius: 4px; color: #3c763d; border-color: #d6e9c6; font-weight: bold;\">\n",
    "<h2 style='font-weight: bold'>3. 합성곱신경망 실습</h2>\n",
    "</div>"
   ]
  },
  {
   "cell_type": "markdown",
   "metadata": {
    "deletable": false,
    "editable": false
   },
   "source": [
    "### **(1) 객체 인식**  \n"
   ]
  },
  {
   "cell_type": "markdown",
   "metadata": {
    "deletable": false,
    "editable": false,
    "id": "v_qJ9kxLGn3Y"
   },
   "source": [
    "첫 번째 실습은 합성곱신경망과 관련된 대표적인 업무 중 하나인 객체 인식이에요.  \n",
    "아래 링크에 들어가, Yolov3 라는 모델을 사용해 객체 인식을 사용해보고, 성능이 좋은지 살펴보아요.\n",
    "\n",
    "<a href=\"https://iashin.ai/detector\"><button style=\"width:100px; height:50px\">플레이</button></a>"
   ]
  },
  {
   "cell_type": "markdown",
   "metadata": {
    "deletable": false,
    "editable": false
   },
   "source": [
    "<table>\n",
    "<tr>\n",
    "    <th><img src=\"https://tmn-bucket-materials-all.s3.ap-northeast-2.amazonaws.com/image/ai/AI-12-18.PNG\" width=\"750\"></th>\n",
    "    </tr>\n",
    "<tr>\n",
    "    <th>실습 예시</th>\n",
    "</tr>\n",
    "</table>  "
   ]
  },
  {
   "cell_type": "markdown",
   "metadata": {
    "deletable": false,
    "editable": false
   },
   "source": [
    "### **(2) 낙서 이미지 분류**  \n"
   ]
  },
  {
   "cell_type": "markdown",
   "metadata": {
    "deletable": false,
    "editable": false
   },
   "source": [
    "두 번째 실습은 낙서 이미지 분류에요.   \n",
    "아래 링크에 들어가, 주어진 제시어에 대해 그림을 그려 합성곱신경망이 올바르게 분류할 수 있도록 해보아요.  \n",
    "그림을 모두 그린 후에는, 그린 그림을 합성곱신경망이 어떻게 성공적으로 분류하였는지 확인해보아요.  \n",
    "\n",
    "<a href=\"https://quickdraw.withgoogle.com/\"><button style=\"width:100px; height:50px\">플레이</button></a>"
   ]
  },
  {
   "cell_type": "markdown",
   "metadata": {
    "deletable": false,
    "editable": false
   },
   "source": [
    "<table>\n",
    "<tr>\n",
    "    <th><img src=\"https://tmn-bucket-materials-all.s3.ap-northeast-2.amazonaws.com/image/ai/AI-12-16.png\" width=\"750\"></th>\n",
    "    </tr>\n",
    "<tr>\n",
    "    <th>실습 예시</th>\n",
    "</tr>\n",
    "</table>  "
   ]
  },
  {
   "cell_type": "markdown",
   "metadata": {
    "deletable": false,
    "editable": false
   },
   "source": [
    "### **(3) 이미지 합성**  \n"
   ]
  },
  {
   "cell_type": "markdown",
   "metadata": {
    "deletable": false,
    "editable": false
   },
   "source": [
    "세 번째 실습은 이미지 합성이에요.   \n",
    "각각의 이미지에 대해 합성곱신경망을 거친 뒤 합성하면 두 가지 스타일이 결합된 이미지를 만들 수 있어요.  \n",
    "아래 링크에 들어가, 본인의 이미지를 업로드한 뒤 다양한 스타일로 변환해보아요.  \n",
    "\n",
    "\n",
    "<a href=\"https://tenso.rs/demos/fast-neural-style/\"><button style=\"width:100px; height:50px\">플레이</button></a>"
   ]
  },
  {
   "cell_type": "markdown",
   "metadata": {
    "deletable": false,
    "editable": false
   },
   "source": [
    "<table>\n",
    "<tr>\n",
    "    <th><img src=\"https://tmn-bucket-materials-all.s3.ap-northeast-2.amazonaws.com/image/ai/AI-12-17.png\" width=\"750\"></th>\n",
    "    </tr>\n",
    "<tr>\n",
    "    <th>실습 예시</th>\n",
    "</tr>\n",
    "</table>  "
   ]
  }
 ],
 "metadata": {
  "colab": {
   "provenance": []
  },
  "kernelspec": {
   "display_name": "Python 3 (ipykernel)",
   "language": "python",
   "name": "python3"
  },
  "language_info": {
   "codemirror_mode": {
    "name": "ipython",
    "version": 3
   },
   "file_extension": ".py",
   "mimetype": "text/x-python",
   "name": "python",
   "nbconvert_exporter": "python",
   "pygments_lexer": "ipython3",
   "version": "3.11.3"
  },
  "read_only": true,
  "vscode": {
   "interpreter": {
    "hash": "8c352b738e5f22da9f29eb9cb9994f25c5223ab3395af3650b8321ab644afce4"
   }
  }
 },
 "nbformat": 4,
 "nbformat_minor": 4
}
