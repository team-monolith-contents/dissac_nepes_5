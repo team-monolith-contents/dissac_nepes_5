{
 "cells": [
  {
   "cell_type": "markdown",
   "id": "8c04edb9-187b-4254-927b-7e737d32ceb8",
   "metadata": {
    "tags": []
   },
   "source": [
    "<div style=\"padding: 15px; border: 5px solid transparent; border-color: transparent; margin-bottom: 20px; border-radius: 4px; color: #3c763d; background-color: #dff0d8; border-color: #d6e9c6; font-weight: bold;\">\n",
    "    <br><br>\n",
    "    <div style=\"font-weight: bold; font-size: 40px\">파이썬으로 끝내는 인공지능 A to Z</div>\n",
    "    <div style=\"font-weight: bold; font-size: 20px\">[24] 공정과 협력의 길, 인공지능 도입의 지혜</div>\n",
    "    <hr style=\"width:80%;text-align:left;margin-left:0;border:0.5px solid green\">\n",
    "    <br>\n",
    "    &#x2022; 인공지능 개발자가 고려해야할 사항을 설명할 수 있다.<br>\n",
    "    &#x2022; 인공지능 윤리 가이드라인을 탐구하고 발전시킬 수 있다.<br>\n",
    "</div>"
   ]
  },
  {
   "cell_type": "markdown",
   "id": "f0dd28b6-29d2-4651-836a-62eef99c3b91",
   "metadata": {
    "deletable": false,
    "editable": false,
    "tags": []
   },
   "source": [
    "<div style=\"padding: 15px; border: 5px solid transparent; border-color: transparent; margin-bottom: 20px; border-radius: 4px; color: #3c763d; border-color: #d6e9c6; font-weight: bold;\">\n",
    "<h2 style='font-weight: bold'>1. 인공지능 개발자가 고려해야할 사항</h2>\n",
    "</div>"
   ]
  },
  {
   "cell_type": "markdown",
   "id": "eb744f66",
   "metadata": {
    "deletable": false,
    "editable": false
   },
   "source": [
    "`Code.org`에서 만든 `AI For Ocean`은 지도학습을 통해 인공지능이 쓰레기와 물고기를 분류하고 바다 속 쓰레기를 청소하여 바다를 깨끗하게 만들고자 합니다.<br>\n",
    "지도학습이기 때문에 기존의 데이터에 인간이 라벨(정답)을 붙이게 됩니다.\n",
    "\n",
    "<table>\n",
    "<tr>\n",
    "    <th><img src=\"https://tmn-bucket-materials-all.s3.ap-northeast-2.amazonaws.com/image/ai/AI-17-01.gif\" width=\"500\"></th>\n",
    "    </tr>\n",
    "<tr>\n",
    "    <th>선한 의도로 학습</th>\n",
    "</tr>\n",
    "</table>\n",
    "\n",
    "그런데, 이 인공지능을 인간이 나쁜 의도를 가지고 학습시키면 어떻게 될까요?<br>\n",
    "라벨을 붙일 때 물고기는 쓰레기로, 쓰레기는 물고기로 학습시키는거죠.\n",
    "\n",
    "<table>\n",
    "<tr>\n",
    "    <th><img src=\"https://tmn-bucket-materials-all.s3.ap-northeast-2.amazonaws.com/image/ai/AI-17-02.gif\" width=\"500\"></th>\n",
    "    </tr>\n",
    "<tr>\n",
    "    <th>나쁜 의도로 학습</th>\n",
    "</tr>\n",
    "</table>\n",
    "\n",
    "아래의 링크에 들어가 인공지능을 학습시키며, 인공지능 시대에서의 인간의 역할은 무엇인지 생각해보세요.<br>\n",
    "<a href=\"https://studio.code.org/s/oceans/lessons/1/levels/1\"><button style=\"width:200px; height:50px\">링크_AI For Ocean</button></a>\n",
    "- 이때, 화면의 왼쪽 아래를 눌러 \"한국어\"로 언어 설정을 바꿔주세요.\n",
    "- 영상은 자막을 누르면 한국어로 볼 수 있습니다."
   ]
  },
  {
   "cell_type": "markdown",
   "id": "2af4b88b-9f96-4b56-b116-9a0d4aaa1661",
   "metadata": {
    "deletable": false,
    "editable": false
   },
   "source": [
    "<div style=\"padding: 15px; border: 5px solid transparent; border-color: transparent; margin-bottom: 20px; border-radius: 4px; color: #8a6d3b;  border-color: #faebcc; font-weight: bold;\">\n",
    "    <div style=\"font-weight: bold; font-size: 20px\">✏️ [문제1]</div>\n",
    "    <br>\n",
    "AI For Ocean을 통해 알 수 있는, 인공지능 시대에서의 인간의 역할은 무엇인지 적어보세요.\n",
    "</div>"
   ]
  },
  {
   "cell_type": "raw",
   "id": "94acf4d5-cee5-4efd-9743-64caa3f37faf",
   "metadata": {},
   "source": [
    " 👉 \n",
    " 👉 "
   ]
  },
  {
   "cell_type": "markdown",
   "id": "6c46f60d",
   "metadata": {
    "deletable": false,
    "editable": false
   },
   "source": [
    "AI For Ocean에서 살펴본 바와 같이 인공지능을 학습 시킬 때 **데이터 선정이 중요하다**는 것을 알 수 있었습니다.\n",
    "\n",
    "아래의 두 뉴스는 **데이터 선정**으로 인해 발생하였습니다.\n",
    "\n",
    "* 친구 얼굴을 고릴라로 인식한 구글\n",
    "> 2015년 미국에 사는 흑인 남성 재키 앨신(Jacky Alcine)은 흑인 친구와 함께 찍은 사진을 분류한 '구글 포토'를 보고 화를 참을 수 없었다. 구글 포토의 인공지능이 그와 친구가 함께 나온 사진을 'Gorillas'라고 태그를 단 것이다. 구글은 이 사태에 대해 재빠르게 사과하고 수정을 했는데, 수정 방법은 인공지능 알고리즘에서 '고릴라', '침팬지', '원숭이'를 삭제하는 일시적인 방법이었다.\n",
    "\n",
    "* AI 준 학점, 가난한 학생을 차별했다\n",
    "> 2020년 영국의 고교 졸업반 30여만명은 졸업시험에 해당되는 '에이(A)-레벨 시험'을 치르지 못했다. 영국 정부 당국은 '직접센터학업모델'이라는 알고리즘을 이용해 학생들에게 학점을 부여했다. 영국 정부는 \"기존 데이터에 근거해 학생들에게 적합한 학점을 부여한다\"고 자신했다. 위 알고리즘은 사립학교 학생들에게는 높은 점수를, 공립학교 학생들에게는 낮은 점수를 부여했다.\n",
    ">\n",
    "> (출처 : 한겨레, AI가 준 학점, 가난한 학생을 차별했다, 2020.08.24.)\n",
    "> \n",
    "<table>\n",
    "<tr>\n",
    "    <th><img src=\"https://tmn-bucket-materials-all.s3.ap-northeast-2.amazonaws.com/image/ai/AI-17-03.png\" width=\"500\"></th>\n",
    "    </tr>\n",
    "<tr>\n",
    "    <th>데이터 선정으로 인한 문제</th>\n",
    "</tr>\n",
    "</table>"
   ]
  },
  {
   "cell_type": "markdown",
   "id": "466e4417-c0c4-44ea-bbec-e4b4ec32f4fc",
   "metadata": {
    "deletable": false,
    "editable": false
   },
   "source": [
    "<div style=\"padding: 15px; border: 5px solid transparent; border-color: transparent; margin-bottom: 20px; border-radius: 4px; color: #8a6d3b;  border-color: #faebcc; font-weight: bold;\">\n",
    "    <div style=\"font-weight: bold; font-size: 20px\">✏️ [문제2]</div>\n",
    "    <br>\n",
    "위 내용을 바탕으로 '인공지능은 공명정대하고 편향성이 없다'는 말을 반박해보세요.\n",
    "\n",
    "*편항성 : 한쪽으로 치우친 성질(출처: 표준국어대사전)\n",
    "</div>"
   ]
  },
  {
   "cell_type": "raw",
   "id": "ed50c187-e573-4817-9d50-de732f07cf9f",
   "metadata": {},
   "source": [
    " 👉 \n",
    " 👉 "
   ]
  },
  {
   "cell_type": "markdown",
   "id": "869a664b-109c-4553-8032-ab63407043e7",
   "metadata": {
    "deletable": false,
    "editable": false,
    "tags": []
   },
   "source": [
    "<div style=\"padding: 15px; border: 5px solid transparent; border-color: transparent; margin-bottom: 20px; border-radius: 4px; color: #3c763d; border-color: #d6e9c6; font-weight: bold;\">\n",
    "<h2 style='font-weight: bold'>2. 인공지능  윤리 가이드라인</h2>\n",
    "</div>"
   ]
  },
  {
   "cell_type": "markdown",
   "id": "e6b80e0b",
   "metadata": {
    "deletable": false,
    "editable": false
   },
   "source": [
    "**인간의 의도**, **데이터 선정**등 인공지능의 사용과 개발, 도입 전 과정에 인간은 여전히 큰 부분을 차지하고 있습니다.<br>\n",
    "인공지능의 사회적ㆍ문화적ㆍ윤리적 영향이 높아짐에 따라 인공지능의 사용과 개발, 도입 전 과정에 윤리가 필요해졌습니다.<br>\n",
    "이에 관한 국제적 논의는 활발하게 일어나고 있으며, 국내에서도 2020년 '국가 인공지능 윤리 기준(대통령 직속 4차 산업혁명위원회, 과기정통부)'을 제정하는 등 발 빠르게 대응하고 있습니다."
   ]
  },
  {
   "cell_type": "markdown",
   "id": "da61e2bf",
   "metadata": {
    "deletable": false,
    "editable": false
   },
   "source": [
    "### **국가 인공지능 윤리 기준**\n",
    "\n",
    "위 윤리기준은 ‘사람중심의 인공지능’ 구현을 위해 지향되어야 할 최고 가치로 **‘인간성(Humanity)’**을 설정하고 있습니다.<br>\n",
    "이는 다음과 같은 의미를 가집니다.<br>\n",
    "모든 인공지능은 ‘인간성을 위한 인공지능(AI for Humanity)’을 지향하고, 인간에게 유용할 뿐만 아니라 나아가 인간 고유의 성품을 훼손하지 않고 보존하고 함양하도록 개발되고 활용되어야 합니다.<br>\n",
    "또한 인공지능은 인간의 정신과 신체에 해롭지 않도록 개발되고 활용되어야하며, 개인의 윤택한 삶과 행복에 이바지하며 사회를 긍정적으로 변화하도록 이끄는 방향으로 발전되어야 합니다.<br>\n",
    "나아가 인공지능은 사회적 불평등 해소에 기여하고 주어진 목적에 맞게 활용되어야 하며, 목적의 달성 과정 또한 윤리적이어야 하고, 궁극적으로 인간의 삶의 질 및 사회적 안녕과 공익 증진에 기여 하도록 개발되고 활용되어야 합니다.<br>\n",
    "\n",
    "위 윤리 기준은 아래의 그림과 같이 3대 기본 원칙과 10대 핵심 요건으로 이루어져 있습니다.\n",
    "\n",
    "<table>\n",
    "<tr>\n",
    "    <th><img src=\"https://tmn-bucket-materials-all.s3.ap-northeast-2.amazonaws.com/image/ai/AI-17-04.png\" width=\"500\"></th>\n",
    "    </tr>\n",
    "<tr>\n",
    "    <th>3대 기본원칙과 10대 핵심 요건</th>\n",
    "</tr>\n",
    "</table>\n",
    "\n",
    "아래의 링크를 통해 자세한 내용을 살펴볼 수 있습니다.\n",
    "\n",
    "<a href=\"https://www.msit.go.kr/bbs/view.do?sCode=user&mPid=112&mId=113&bbsSeqNo=94&nttSeqNo=3179742\"><button style=\"width:200px; height:50px\">링크_과기정통부<br>「인공지능(AI) 윤리기준」</button></a>"
   ]
  },
  {
   "cell_type": "markdown",
   "id": "5fefe1a9-14e8-42ac-a053-48784454c71a",
   "metadata": {
    "deletable": false,
    "editable": false
   },
   "source": [
    "<div style=\"padding: 15px; border: 5px solid transparent; border-color: transparent; margin-bottom: 20px; border-radius: 4px; color: #8a6d3b;  border-color: #faebcc; font-weight: bold;\">\n",
    "    <div style=\"font-weight: bold; font-size: 20px\">✏️ [문제3]</div>\n",
    "    <br>\n",
    "위 \"국가 인공지능 윤리 기준\"은 누가 지켜야하는 것인지 적어보세요.\n",
    "</div>"
   ]
  },
  {
   "cell_type": "raw",
   "id": "deb22f00-dc61-48c0-b730-97e6e25c54f6",
   "metadata": {},
   "source": [
    " 👉 \n",
    " 👉 "
   ]
  },
  {
   "cell_type": "markdown",
   "id": "3d367c1c",
   "metadata": {
    "deletable": false,
    "editable": false
   },
   "source": [
    "### **기업 AI 윤리**\n",
    "정부 뿐 아니라 기업 또한 AI 윤리 규범 및 준칙을 만들고 적용하고 있습니다.\n",
    "\n",
    "<table>\n",
    "<tr>\n",
    "    <th><img src=\"https://tmn-bucket-materials-all.s3.ap-northeast-2.amazonaws.com/image/ai/AI-17-05.png\" width=\"500\"></th>\n",
    "    <th><img src=\"https://tmn-bucket-materials-all.s3.ap-northeast-2.amazonaws.com/image/ai/AI-17-06.png\" width=\"500\"></th>\n",
    "    </tr>\n",
    "<tr>\n",
    "    <th>카카오 AI윤리</th>\n",
    "    <th>네이버 AI 윤리 준칙</th>\n",
    "</tr>\n",
    "</table>\n",
    "\n",
    "<a href=\"https://www.kakaocorp.com/page/responsible/detail/algorithm\"><button style=\"width:200px; height:50px\">링크_카카오 AI 윤리</button></a>\n",
    "<a href=\"https://www.navercorp.com/value/aiCodeEthics\"><button style=\"width:200px; height:50px\">링크_네이버 AI 윤리 준칙</button></a>\n",
    "\n",
    "두 기업의 공통점은 다음과 같습니다.\n",
    "\n",
    "* 인간 및 인류를 위한 인공지능 개발\n",
    "* 차별 방지\n",
    "* 알고리즘에 대한 설명\n",
    "* 사용자의 안전 및 보호\n",
    "* 개인정보 보호"
   ]
  },
  {
   "cell_type": "markdown",
   "id": "b24ba4e5-5259-4b1e-8a30-3926876b3cd2",
   "metadata": {
    "deletable": false,
    "editable": false
   },
   "source": [
    "<div style=\"padding: 15px; border: 5px solid transparent; border-color: transparent; margin-bottom: 20px; border-radius: 4px; color: #8a6d3b;  border-color: #faebcc; font-weight: bold;\">\n",
    "    <div style=\"font-weight: bold; font-size: 20px\">✏️ [문제4]</div>\n",
    "    <br>\n",
    "카카오와 네이버 중 개인적으로 마음에 드는 AI 윤리를 선택하고, 두 기업의 AI 윤리의 차이점을 위주로 선택 이유를 적어보세요\n",
    "</div>"
   ]
  },
  {
   "cell_type": "raw",
   "id": "255a301b-dfe0-4bb1-bd4a-e54e3465ee47",
   "metadata": {},
   "source": [
    " 👉 \n",
    " 👉 "
   ]
  }
 ],
 "metadata": {
  "kernelspec": {
   "display_name": "Python 3 (ipykernel)",
   "language": "python",
   "name": "python3"
  },
  "language_info": {
   "codemirror_mode": {
    "name": "ipython",
    "version": 3
   },
   "file_extension": ".py",
   "mimetype": "text/x-python",
   "name": "python",
   "nbconvert_exporter": "python",
   "pygments_lexer": "ipython3",
   "version": "3.11.3"
  },
  "read_only": true
 },
 "nbformat": 4,
 "nbformat_minor": 5
}
