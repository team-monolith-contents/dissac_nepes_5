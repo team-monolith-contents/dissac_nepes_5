{
 "cells": [
  {
   "cell_type": "markdown",
   "id": "faf3d6ec-a376-43fd-88a9-14cea76e22ee",
   "metadata": {
    "tags": []
   },
   "source": [
    "<div style=\"padding: 15px; border: 5px solid transparent; border-color: transparent; margin-bottom: 20px; border-radius: 4px; color: #3c763d; background-color: #dff0d8; border-color: #d6e9c6; font-weight: bold;\">\n",
    "    <br><br>\n",
    "    <div style=\"font-weight: bold; font-size: 40px\">파이썬으로 끝내는 인공지능 A to Z</div>\n",
    "    <div style=\"font-weight: bold; font-size: 20px\">[15] 군집의 비밀: K-평균 알고리즘</div>\n",
    "    <hr style=\"width:80%;text-align:left;margin-left:0;border:0.5px solid green\">\n",
    "    <br>\n",
    "    &#x2022; K-means의 학습 원리를 이해할 수 있다.<br>\n",
    "    &#x2022; K-means 알고리즘으로 데이터를 나눌 수 있다.<br>\n",
    "    &#x2022; 군집 결과를 분석할 수 있다.<br>\n",
    "</div>"
   ]
  },
  {
   "cell_type": "markdown",
   "id": "db33e2fa-25be-4efd-9c81-8135ab4b7fb2",
   "metadata": {
    "deletable": false,
    "editable": false,
    "tags": []
   },
   "source": [
    "<div style=\"padding: 15px; border: 5px solid transparent; border-color: transparent; margin-bottom: 20px; border-radius: 4px; color: #3c763d; border-color: #d6e9c6; font-weight: bold;\">\n",
    "<h2 style='font-weight: bold'>1. 군집과 분류</h2>\n",
    "</div>"
   ]
  },
  {
   "cell_type": "markdown",
   "id": "b595a3ac",
   "metadata": {
    "deletable": false,
    "editable": false
   },
   "source": [
    "표준국어대사전에 따르면 군집과 분류는 다음과 같은 의미를 가지고 있습니다.\n",
    "* 군집(Clustering) : 사람이나 건물 따위가 한곳에 모임\n",
    "* 분류(Classification) : 종류에 따라서 가름\n",
    "\n",
    "위 두 낱말은 **무언가를 나누고 모은다**는 비슷한 의미를 가지고 있습니다.<br>\n",
    "그럼, 두 낱말의 의미상의 **차이점**은 무엇일까요?"
   ]
  },
  {
   "cell_type": "markdown",
   "id": "7222f0a7",
   "metadata": {
    "deletable": false,
    "editable": false
   },
   "source": [
    "**1. 군집**\n",
    "\n",
    "아래에 총 6마리의 동물이 있습니다.\n",
    "\n",
    "<table>\n",
    "<tr>\n",
    "    <th><img src=\"https://tmn-bucket-materials-all.s3.ap-northeast-2.amazonaws.com/image/ai/AI-08-01.png\" width=\"500\"></th>\n",
    "    </tr>\n",
    "<tr>\n",
    "    <th>6마리의 동물</th>\n",
    "</tr>\n",
    "</table>\n",
    "\n",
    "\n",
    "위 동물을 비슷한 **색깔**으로 묶어 볼까요?\n",
    "\n",
    "\n",
    "<table>\n",
    "<tr>\n",
    "    <th><img src=\"https://tmn-bucket-materials-all.s3.ap-northeast-2.amazonaws.com/image/ai/AI-08-02.png\" width=\"500\"></th>\n",
    "    </tr>\n",
    "<tr>\n",
    "    <th>6마리의 동물(색깔에 따라 묶기)</th>\n",
    "</tr>\n",
    "</table>\n",
    "\n",
    "\n",
    "이번엔 비슷한 **모양**으로 묶어 볼까요?\n",
    "\n",
    "\n",
    "<table>\n",
    "<tr>\n",
    "    <th><img src=\"https://tmn-bucket-materials-all.s3.ap-northeast-2.amazonaws.com/image/ai/AI-08-03.png\" width=\"500\"></th>\n",
    "    </tr>\n",
    "<tr>\n",
    "    <th>6마리의 동물(모양에 따라 묶기)</th>\n",
    "</tr>\n",
    "</table>"
   ]
  },
  {
   "cell_type": "markdown",
   "id": "759b8a74",
   "metadata": {
    "deletable": false,
    "editable": false
   },
   "source": [
    "**2. 분류**\n",
    "\n",
    "이번에도 총 6마리의 동물이 있습니다. 그런데 아까와 다르게 사람이 꼬리표(Label)를 붙이고 있네요.\n",
    "\n",
    "\n",
    "<table>\n",
    "<tr>\n",
    "    <th><img src=\"https://tmn-bucket-materials-all.s3.ap-northeast-2.amazonaws.com/image/ai/AI-08-04.gif\" width=\"500\"></th>\n",
    "    </tr>\n",
    "<tr>\n",
    "    <th>6마리의 동물에 \"꼬리표\" 붙이기</th>\n",
    "</tr>\n",
    "</table>\n",
    "\n",
    "\n",
    "위 동물을 꼬리표에 맞게 분류해볼까요?\n",
    "\n",
    "\n",
    "<table>\n",
    "<tr>\n",
    "    <th><img src=\"https://tmn-bucket-materials-all.s3.ap-northeast-2.amazonaws.com/image/ai/AI-08-05.png\" width=\"500\"></th>\n",
    "    </tr>\n",
    "<tr>\n",
    "    <th>6마리의 동물(꼬리표에 따라 묶기)</th>\n",
    "</tr>\n",
    "</table>"
   ]
  },
  {
   "cell_type": "markdown",
   "id": "e4c59cbb",
   "metadata": {
    "deletable": false,
    "editable": false
   },
   "source": [
    "**[문제1] 군집과 분류의 차이점을 적어봅시다.** "
   ]
  },
  {
   "cell_type": "markdown",
   "id": "e8611bad-5aa0-4ccd-ae20-476b383898fb",
   "metadata": {
    "deletable": false,
    "editable": false
   },
   "source": [
    "<div style=\"padding: 15px; border: 5px solid transparent; border-color: transparent; margin-bottom: 20px; border-radius: 4px; color: #8a6d3b;  border-color: #faebcc; font-weight: bold;\">\n",
    "    <div style=\"font-weight: bold; font-size: 20px\">✏️ [문제1]</div>\n",
    "    <br>\n",
    " 군집과 분류의 차이점을 적어봅시다.\n",
    "</div>"
   ]
  },
  {
   "cell_type": "raw",
   "id": "d0cefc5d-114e-4aa7-aaf7-3e4fd5e4385d",
   "metadata": {},
   "source": [
    "👉 \n",
    "👉 "
   ]
  },
  {
   "cell_type": "markdown",
   "id": "51e510e2-9f3f-4150-a095-737d927ef331",
   "metadata": {
    "deletable": false,
    "editable": false
   },
   "source": [
    "<div style=\"padding: 15px; border: 5px solid transparent; border-color: transparent; margin-bottom: 20px; border-radius: 4px; color: #3c763d; border-color: #d6e9c6; font-weight: bold;\">\n",
    "<h2 style='font-weight: bold'>2. K-Means 알고리즘 알아보기</h2>\n",
    "</div>"
   ]
  },
  {
   "cell_type": "markdown",
   "id": "7b0462a7",
   "metadata": {
    "deletable": false,
    "editable": false
   },
   "source": [
    "K-Means는 분류가 아닌, 군집화 방법 중 하나 입니다.<br>\n",
    "K는 몇 개의 군집으로 나눌 것인가를 뜻하고,<br>\n",
    "means는 우리가 평소 알고 있는 평균을 뜻합니다.<br>\n",
    "'어제 5개의 초콜렛을, 오늘 3개의 초콜렛을 받았다면 평균적으로 하루에 4개의 초콜렛을 받은 것이다'에서의 그 평균이죠.<br>\n",
    "K-means는 각 군집의 평균(means)을 활용하여 K개의 군집으로 나눈다는 의미입니다."
   ]
  },
  {
   "cell_type": "markdown",
   "id": "a4d35713",
   "metadata": {
    "deletable": false,
    "editable": false
   },
   "source": [
    "**군집은 언제 필요한가요??**\n",
    "\n",
    "어느 도시에서 놀이터 2개를 건설하고자 합니다. 그래서 입지 조사를 하던 중 아래의 그림과 같이 아이들이 거주하고 있다는 정보를 얻게 되었습니다.<br>\n",
    "편의상 마을 아이들의 거리를 제외한 다른 요소(놀이터 활용 욕구, 건강 상태 등)는 모두 같다고 가정하겠습니다.\n",
    "\n",
    "<table>\n",
    "<tr>\n",
    "    <th><img src=\"https://tmn-bucket-materials-all.s3.ap-northeast-2.amazonaws.com/image/ai/AI-08-06.png\" width=\"500\"></th>\n",
    "    </tr>\n",
    "<tr>\n",
    "    <th>마을 지도</th>\n",
    "</tr>\n",
    "</table>\n",
    "\n",
    "만약 아래의 장소에 놀이터가 생기면 어떨까요?\n",
    "\n",
    "\n",
    "<table>\n",
    "<tr>\n",
    "    <th><img src=\"https://tmn-bucket-materials-all.s3.ap-northeast-2.amazonaws.com/image/ai/AI-08-07.png\" width=\"500\"></th>\n",
    "    </tr>\n",
    "<tr>\n",
    "    <th>마을 지도_놀이터 위치_오른쪽</th>\n",
    "</tr>\n",
    "</table>\n",
    "\n",
    "위와 같이 놀이터를 지으면 **『도영』**은 **『놀이터1』**을, **『제니』**는 **『놀이터2』**를 이용하게 되지만 거리가 너무 멀어요.<br>따라서 놀이터의 위치는 조절 되어야겠죠.<br>\n",
    "위 같은 상황에서 놀이터를 이용하는 아이들을 2개의 집단으로 묶을 때 K-means 알고리즘을 활용하면 2개의 집단으로 묶을 수 있으며, 놀이터의 위치도 적절하게 정해질 겁니다."
   ]
  },
  {
   "cell_type": "markdown",
   "id": "ab26a635-02fc-47f3-a8fd-e7eb6857f530",
   "metadata": {
    "deletable": false,
    "editable": false
   },
   "source": [
    "<div style=\"padding: 15px; border: 5px solid transparent; border-color: transparent; margin-bottom: 20px; border-radius: 4px; color: #3c763d; border-color: #d6e9c6; font-weight: bold;\">\n",
    "<h2 style='font-weight: bold'>3. K-Means 알고리즘의 원리 알기</h2>\n",
    "</div>"
   ]
  },
  {
   "cell_type": "markdown",
   "id": "bca9e10d",
   "metadata": {
    "deletable": false,
    "editable": false
   },
   "source": [
    "중심이란 각 군집의 중심에 위치한 점을 의미합니다.<br>\n",
    "나누어야할 군집이 2개라면, 각 군집별로 중심이 하나씩 존재하기 때문에 총 2개의 군집이 생깁니다.<br>\n",
    "K-means 알고리즘으로 군집화 하는 과정은 다음과 같습니다.\n",
    "\n",
    "<table>\n",
    "<tr>\n",
    "    <th><img src=\"https://tmn-bucket-materials-all.s3.ap-northeast-2.amazonaws.com/image/ai/AI-08-08.png\" width=\"750\"></th>\n",
    "    </tr>\n",
    "<tr>\n",
    "    <th>K-means 알고리즘의 군집화 과정</th>\n",
    "</tr>\n",
    "</table>"
   ]
  },
  {
   "cell_type": "markdown",
   "id": "032b5cdc",
   "metadata": {
    "deletable": false,
    "editable": false
   },
   "source": [
    "### **군집화 과정 살펴보기**\n",
    "\n",
    "위에서 놀이터의 위치를 군집화를 통해 정해봅시다.\n",
    "\n",
    "**1. 초기 중심 설정**\n",
    "\n",
    "**초기 중심**이란 각 군집의 중심이 되는 최초의 점을 말합니다.<br>\n",
    "초기 중심을 설정하는 방법은 다양하지만 이번에는 초기 중심을 무작위로 정하는 방식을 사용해보겠습니다.\n",
    "\n",
    "<table>\n",
    "<tr>\n",
    "    <th><img src=\"https://tmn-bucket-materials-all.s3.ap-northeast-2.amazonaws.com/image/ai/AI-08-09.PNG\" width=\"500\"></th>\n",
    "    </tr>\n",
    "<tr>\n",
    "    <th>마을 지도_초기 중심 설정</th>\n",
    "</tr>\n",
    "</table>\n",
    "\n",
    "**2. 데이터를 군집에 배정**\n",
    "\n",
    "다음 단계에서는 초기 중심과의 거리를 기준으로 데이터를 각 군집에 배정합니다. <br>\n",
    "**『제니』**는 **『놀이터2』**에 가까우므로 **『놀이터2』**에 배정하면 되겠네요.<br>\n",
    "**『도영』**은 **『놀이터1』**와 4km 떨어져있습니다.<br>\n",
    "**『놀이터2』**와 얼마나 떨어져있는지 알기 위해선 **피타고라스 정리**를 이용해야 합니다.\n",
    "\n",
    "<table>\n",
    "<tr>\n",
    "    <th><img src=\"https://tmn-bucket-materials-all.s3.ap-northeast-2.amazonaws.com/image/ai/AI-08-10.gif\" width=\"500\"></th>\n",
    "    </tr>\n",
    "<tr>\n",
    "    <th>마을 지도_피타고라스 정리</th>\n",
    "</tr>\n",
    "</table>\n",
    "\n",
    "**『도영』**은 **『놀이터1』**에 더 가까우므로 P1에 배정하면 되겠네요.<br>\n",
    "**『채은』**, **『승호』**, **『현아』**, **『지윤』**도 같은 방법으로 배정하면 다음과 같이 군집이 배정 됩니다.<br>\n",
    "\n",
    "<table>\n",
    "<tr>\n",
    "    <th><img src=\"https://tmn-bucket-materials-all.s3.ap-northeast-2.amazonaws.com/image/ai/AI-08-11.gif\" width=\"500\"></th>\n",
    "    </tr>\n",
    "<tr>\n",
    "    <th>마을 지도_군집 배정 1</th>\n",
    "</tr>\n",
    "</table>\n",
    "\n",
    "**3. 중심 재설정**\n",
    "\n",
    "초기 중심은 임시 중심이므로, 아이들을 군집에 배정한 후, 각 군집의 중심을 다시 설정하는 것이 필요합니다.<br>\n",
    "각 군집에 속한 아이들의 중간 위치로 중심을 새롭게 설정하면 됩니다.<br>\n",
    "각 군집의 새로운 중심을 찾아봅시다.\n",
    "\n",
    "<table>\n",
    "<tr>\n",
    "    <th><img src=\"https://tmn-bucket-materials-all.s3.ap-northeast-2.amazonaws.com/image/ai/AI-08-11.gif\" width=\"500\"></th>\n",
    "    </tr>\n",
    "<tr>\n",
    "    <th>마을 지도_중심 재설정</th>\n",
    "</tr>\n",
    "</table>\n",
    "\n",
    "**4. 군집이 변경되는 데이터가 없을 때까지 2와 3을 반복하기**\n",
    "\n",
    "군집에 대한 변경이 있는지 확인합니다.<br>\n",
    "만약 군집에 대한 변경이 발생하면 2)와 3)의 작업을 반복합니다.\n",
    "\n",
    "<table>\n",
    "<tr>\n",
    "    <th><img src=\"https://tmn-bucket-materials-all.s3.ap-northeast-2.amazonaws.com/image/ai/AI-08-12.gif\" width=\"500\"></th>\n",
    "    </tr>\n",
    "<tr>\n",
    "    <th>마을 지도_2, 3단계 반복</th>\n",
    "</tr>\n",
    "</table>"
   ]
  },
  {
   "cell_type": "markdown",
   "id": "ead8f1d4-cc84-4da2-afad-524af80995af",
   "metadata": {
    "deletable": false,
    "editable": false,
    "tags": []
   },
   "source": [
    "<div style=\"padding: 15px; border: 5px solid transparent; border-color: transparent; margin-bottom: 20px; border-radius: 4px; color: #3c763d; border-color: #d6e9c6; font-weight: bold;\">\n",
    "<h2 style='font-weight: bold'>4. K-means 알고리즘 실습하기</h2>\n",
    "</div>"
   ]
  },
  {
   "cell_type": "markdown",
   "id": "be7c474f-489a-414d-a54f-ea3e2fff1adf",
   "metadata": {
    "deletable": false,
    "editable": false
   },
   "source": [
    "체육시간에 팀별 경쟁활동을 하며 '밸붕(밸런스 붕괴)'을 겪었던 적이 있나요?<br>\n",
    "이때는 이기는 팀도, 지는 팀도 즐거움이 적기에 학생들의 신체능력을 고려하여 팀을 적절하게 구성하는 것이 필요합니다.<br>\n",
    "초, 중, 고등학교에서는 매년 의무적으로 학생들의 비만과 체력저하를 방지하기 위해 **PAPS(학생 건강 체력 평가 제도)** 를 실시하고 있습니다.<br>\n",
    "심폐지구력, 유연성, 근력 및 근지구력, 순발력, 체지방을 측정하는 이 PAPS 데이터를 활용하면 경쟁활동을 위한 균형있는 팀을 구성할 수 있을 것입니다.<br>\n",
    "K-means 알고리즘으로 학생들의 PAPS 데이터를 바탕으로 몇 개의 군집을 만들어봅시다."
   ]
  },
  {
   "cell_type": "markdown",
   "id": "f2853ec7-35d8-4281-a717-e1e684e0de1c",
   "metadata": {
    "deletable": false,
    "editable": false
   },
   "source": [
    "### **1. 데이터 살펴보기**\n",
    "\n",
    "pandas의 별명(alias)을 pd로 하여 아래의 링크에 담겨있는 데이터를 표(DataFrame)으로 만들고 df 라는 변수에 넣어봅시다."
   ]
  },
  {
   "cell_type": "code",
   "execution_count": null,
   "id": "ab997f29-a52a-4477-af2e-545b78b9cd7a",
   "metadata": {
    "tags": []
   },
   "outputs": [],
   "source": [
    "import pandas as pd\n",
    "df = pd.read_csv(\"https://tmn-bucket-materials-all.s3.ap-northeast-2.amazonaws.com/data/PapsScore.csv\")"
   ]
  },
  {
   "cell_type": "markdown",
   "id": "928e4198-7c8f-4fc1-b108-d327020750c7",
   "metadata": {
    "deletable": false,
    "editable": false
   },
   "source": [
    "head 함수와 tail 함수를 활용하면 일부 데이터를 확인할 수 있습니다."
   ]
  },
  {
   "cell_type": "code",
   "execution_count": null,
   "id": "abfa8414-8352-462a-bd99-685f96e0530c",
   "metadata": {
    "tags": []
   },
   "outputs": [],
   "source": [
    "# df의 앞 5행 살펴보기\n",
    "df.head(5) #혹은 df.head()"
   ]
  },
  {
   "cell_type": "code",
   "execution_count": null,
   "id": "55e2dfc9-f642-4c15-8118-fcbb75bbf77f",
   "metadata": {},
   "outputs": [],
   "source": [
    "# df의 뒤 5행 살펴보기\n",
    "df.tail(5) #혹은 df.tail()"
   ]
  },
  {
   "cell_type": "markdown",
   "id": "2c1b7dbd-26ae-409c-8d34-458aecb273c7",
   "metadata": {
    "deletable": false,
    "editable": false
   },
   "source": [
    "<div style=\"padding: 15px; border: 5px solid transparent; border-color: transparent; margin-bottom: 20px; border-radius: 4px; color: #8a6d3b;  border-color: #faebcc; font-weight: bold;\">\n",
    "    <div style=\"font-weight: bold; font-size: 20px\">✏️ [문제2]</div>\n",
    "    <br>\n",
    "이번에 사용하는 데이터는 실제 초등학교 학생의 PAPS 데이터를 가명처리하여 비식별화한 것입니다.<br>\n",
    "    개인정보 비식별화가 필요한 이유는 무엇입니까?\n",
    "</div>"
   ]
  },
  {
   "cell_type": "raw",
   "id": "25f8f4d4-0731-4532-b3e6-b47afab31e5e",
   "metadata": {},
   "source": [
    " 👉 \n",
    " 👉 "
   ]
  },
  {
   "cell_type": "markdown",
   "id": "a9d254a3-0223-4388-92a7-7cc89ab152fe",
   "metadata": {
    "deletable": false,
    "editable": false
   },
   "source": [
    "데이터에 결측치가 없는지 확인해봅시다.<br>\n",
    "위에서 head, tail 함수를 쓴 방법과 마찬가지로 isna 함수를 활용하면 결측치를 확인할 수 있습니다.<br>\n",
    "True는 결측치가 있다는 의미이며, False는 결측치가 없다는 의미입니다."
   ]
  },
  {
   "cell_type": "code",
   "execution_count": null,
   "id": "30f8f5a5-3ef2-41bf-bfe6-65732c273156",
   "metadata": {},
   "outputs": [],
   "source": [
    "# 결측치 확인\n",
    "df.isna()"
   ]
  },
  {
   "cell_type": "markdown",
   "id": "c1dbcfd6-1834-4f20-860c-87fe847181ad",
   "metadata": {
    "deletable": false,
    "editable": false
   },
   "source": [
    "describe 함수를 활용하면 \"오래달리기\"의 최대값(max)과 최소값(min)을 확인할 수 있습니다."
   ]
  },
  {
   "cell_type": "code",
   "execution_count": null,
   "id": "cca1f30e-bcdb-43c2-b327-6fd48d28a28d",
   "metadata": {},
   "outputs": [],
   "source": [
    "# 최솟값과 최댓값 확인\n",
    "df.describe()"
   ]
  },
  {
   "cell_type": "markdown",
   "id": "eeaeaf8b-4991-45be-ae22-4499d564e394",
   "metadata": {
    "deletable": false,
    "editable": false
   },
   "source": [
    "<div style=\"padding: 15px; border: 5px solid transparent; border-color: transparent; margin-bottom: 20px; border-radius: 4px; color: #8a6d3b;  border-color: #faebcc; font-weight: bold;\">\n",
    "    <div style=\"font-weight: bold; font-size: 20px\">✏️ [문제3]</div>\n",
    "    <br>\n",
    "오래 달리기\"의 최대값과 \"앉아윗몸앞으로굽히기\"의 최대값은 각각 얼마인가요?\n",
    "</div>"
   ]
  },
  {
   "cell_type": "raw",
   "id": "c7502c6a-c556-48dc-aac6-c389c67d7361",
   "metadata": {},
   "source": [
    " 👉 \n",
    " 👉 "
   ]
  },
  {
   "cell_type": "markdown",
   "id": "a06065be-6c92-43e5-9620-695747fdd646",
   "metadata": {
    "deletable": false,
    "editable": false
   },
   "source": [
    "### **2. 데이터 스케일링하기**\n",
    "\n",
    "\"오래달리기\"의 측정 단위는 **초** \"앉아윗몸앞으로굽히기\"의 측정 단위는 **cm**입니다.<br>\n",
    "측정 단위와 측정 범위(최대값과 최소값의 사이 간격)가 다를 때 우리는 데이터 스케일링을 통해 데이터 값의 크기를 조정합니다.<br>\n",
    "스케일링 방법 중 하나로 Min-Max 스케일링이 있습니다.<br>\n",
    "Min-Max 스케일링은 아래의 식을 통해 이루어집니다.\n",
    "\n",
    "<table>\n",
    "<tr>\n",
    "    <th><img src=\"https://tmn-bucket-materials-all.s3.ap-northeast-2.amazonaws.com/image/ai/AI-08-13.png\" width=\"400\"></th>\n",
    "    </tr>\n",
    "<tr>\n",
    "    <th>Min-Max 스케일링</th>\n",
    "</tr>\n",
    "</table>\n",
    "\n",
    "결국 데이터값은 0~1 중 하나의 값이 되죠."
   ]
  },
  {
   "cell_type": "markdown",
   "id": "4844faf3-bf20-491f-9359-b23042e2114a",
   "metadata": {
    "deletable": false,
    "editable": false
   },
   "source": [
    "<div style=\"padding: 15px; border: 5px solid transparent; border-color: transparent; margin-bottom: 20px; border-radius: 4px; color: #8a6d3b;  border-color: #faebcc; font-weight: bold;\">\n",
    "    <div style=\"font-weight: bold; font-size: 20px\">✏️ [문제4]</div>\n",
    "    <br>\n",
    "왕복 오래달리기\"의 최소값과 최대값은 Min-Max 스케일링 이후 각각 어떤 숫자가 됩니까?\n",
    "</div>"
   ]
  },
  {
   "cell_type": "raw",
   "id": "2a830b8a-33a6-488d-bb55-8e387ae312ef",
   "metadata": {},
   "source": [
    " 👉 \n",
    " 👉 "
   ]
  },
  {
   "cell_type": "markdown",
   "id": "db78486a-5420-4152-8a82-add27911a7a4",
   "metadata": {
    "deletable": false,
    "editable": false
   },
   "source": [
    "다음의 명령어는 다음을 실행하게 됩니다.\n",
    "\n",
    "1. sklearn 라이브러리의 preprocessing 모듈에서 MinMaxScaler 함수를 불러옵니다.\n",
    "2. MinMaxScaler 객체를 생성하고 scaler 변수에 넣습니다.\n",
    "3. \"오래달리기\"의 값을 Min-Max Scaling을 통해 0~1사이의 값으로 변환합니다."
   ]
  },
  {
   "cell_type": "code",
   "execution_count": null,
   "id": "eda0b14d-6da3-4093-bcb8-da26b5a9c912",
   "metadata": {},
   "outputs": [],
   "source": [
    "# 오래달리기 값을 스케일링하고 스케일링 된 값 살펴보기\n",
    "from sklearn.preprocessing import MinMaxScaler\n",
    "scaler = MinMaxScaler()\n",
    "df[\"오래달리기\"] = scaler.fit_transform(df[[\"오래달리기\"]])\n",
    "df[\"오래달리기\"]"
   ]
  },
  {
   "cell_type": "code",
   "execution_count": null,
   "id": "78c3a559-829b-4e2a-a862-a5726f6a4ea1",
   "metadata": {},
   "outputs": [],
   "source": [
    "# 다른 종목 스케일링\n",
    "\n",
    "df[\"50M 달리기\"] = scaler.fit_transform(df[[\"50M 달리기\"]])\n",
    "df[\"앉아윗몸앞으로굽히기\"] = scaler.fit_transform(df[[\"앉아윗몸앞으로굽히기\"]])\n",
    "df[\"윗몸말아올리기\"] = scaler.fit_transform(df[[\"윗몸말아올리기\"]])"
   ]
  },
  {
   "cell_type": "markdown",
   "id": "f51069bd-2e57-4001-8ccc-0829ad306830",
   "metadata": {
    "deletable": false,
    "editable": false
   },
   "source": [
    "### **3. 데이터 조정하기**\n",
    "\n",
    "다른 종목과 달리 값이 크면 클 수록 체력이 낮다는 것을 보여주는 종목이 있습니다.<br>\n",
    "바로 **50M 달리기**입니다."
   ]
  },
  {
   "cell_type": "code",
   "execution_count": null,
   "id": "b635e43b-6187-4660-b837-af48decc23f8",
   "metadata": {},
   "outputs": [],
   "source": [
    "# 1->0, 0-> 1로 데이터 조정\n",
    "df[\"50M 달리기\"] = 1 - df[\"50M 달리기\"]\n",
    "df[\"50M 달리기\"]"
   ]
  },
  {
   "cell_type": "markdown",
   "id": "3824c012-f194-413a-b77e-bf2fbc649f44",
   "metadata": {
    "deletable": false,
    "editable": false
   },
   "source": [
    "### **4. K-Means 알고리즘으로 군집화하기**\n",
    "\n",
    "K-Means 알고리즘으로 군집화하는 과정은 아래와 같습니다.<br>\n",
    "\n",
    "-  sklearn 라이브러리의 cluster 모듈에서 KMeans 함수를 불러옵니다.\n",
    "- 군집화 방법 중 KMeans를 활용해 2개의 군집으로 분류하겠다는 것을 선언하고 kmeans 변수에 넣습니다.\n",
    "- \"오래달리기\"의 값을 바탕으로 2개의 군집으로 분류하고 cluster 변수에 넣습니다.\n",
    "- 열을 기준(axis=1)으로 하여 학생 이름과 군집화된 값을 합쳐 하나의 표로 만듭니다."
   ]
  },
  {
   "cell_type": "code",
   "execution_count": null,
   "id": "aa718cec-95b2-42c2-9d15-9eea28ecc832",
   "metadata": {
    "error_code": "# 오래달리기 기록을 기준으로 2개의 그룹으로 군집화\n\nfrom sklearn.cluster import KMeans\nkmeans = KMeans(n_clusters=2, n_init=\"auto\")\ncluster = kmeans.fit(df[[\"오래달리기\"]])\npd.concat([df[[\"이름\"]], pd.DataFrame(cluster.labels_)], axis=1)"
   },
   "outputs": [],
   "source": [
    "# 오래달리기 기록을 기준으로 2개의 그룹으로 군집화\n",
    "\n",
    "from sklearn.cluster import KMeans\n",
    "\n",
    "kmeans = KMeans(n_clusters=2) # KMean 객체 만들기\n",
    "cluster = kmeans.fit(df[[\"오래달리기\"]]) # KMeans 학습시키기\n",
    "pd.concat([df[[\"이름\"]], pd.DataFrame(cluster.labels_)], axis=1) # KMeans 결과 원래 데이터프레임에 합치기"
   ]
  },
  {
   "cell_type": "code",
   "execution_count": null,
   "id": "c33b752b-8851-4290-ad6c-1c87c769cf6d",
   "metadata": {
    "error_code": "# 모든 종목의 기록을 기준으로 6개의 그룹으로 군집화\n\nfrom sklearn.cluster import KMeans\nkmeans = KMeans(n_clusters=6)\ncluster = kmeans.fit(df[[\"50M 달리기\", \"앉아윗몸앞으로굽히기\", \"오래달리기\", \"윗몸말아올리기\"]])\npd.concat([df[\"이름\"], pd.DataFrame(cluster.labels_)], axis=1)",
    "tags": []
   },
   "outputs": [],
   "source": [
    "# 모든 종목의 기록을 기준으로 6개의 그룹으로 군집화\n",
    "\n",
    "from sklearn.cluster import KMeans\n",
    "kmeans = KMeans(n_clusters=6)\n",
    "cluster = kmeans.fit(df[[\"50M 달리기\", \"앉아윗몸앞으로굽히기\", \"오래달리기\", \"윗몸말아올리기\"]])\n",
    "pd.concat([df[\"이름\"], pd.DataFrame(cluster.labels_)], axis=1)"
   ]
  }
 ],
 "metadata": {
  "kernelspec": {
   "display_name": "Python 3 (ipykernel)",
   "language": "python",
   "name": "python3"
  },
  "language_info": {
   "codemirror_mode": {
    "name": "ipython",
    "version": 3
   },
   "file_extension": ".py",
   "mimetype": "text/x-python",
   "name": "python",
   "nbconvert_exporter": "python",
   "pygments_lexer": "ipython3",
   "version": "3.11.3"
  },
  "read_only": true
 },
 "nbformat": 4,
 "nbformat_minor": 5
}
